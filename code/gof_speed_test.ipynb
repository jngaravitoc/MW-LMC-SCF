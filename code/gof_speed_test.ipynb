{
 "cells": [
  {
   "cell_type": "code",
   "execution_count": null,
   "metadata": {},
   "outputs": [],
   "source": [
    "# Add S/N Ncoeff ~ 3500 \n"
   ]
  },
  {
   "cell_type": "code",
   "execution_count": 25,
   "metadata": {},
   "outputs": [],
   "source": [
    "%matplotlib inline\n",
    "import matplotlib.pyplot as plt"
   ]
  },
  {
   "cell_type": "code",
   "execution_count": 14,
   "metadata": {},
   "outputs": [],
   "source": [
    "import numpy as np\n",
    "import time\n",
    "import gof_mise as gof"
   ]
  },
  {
   "cell_type": "code",
   "execution_count": 7,
   "metadata": {},
   "outputs": [],
   "source": [
    "def coeff_rand_generator(order):\n",
    "    # generates random coefficients with different orders\n",
    "    S = np.random.random((order, order, order))\n",
    "    T = np.random.random((order, order, order))\n",
    "    return S, T"
   ]
  },
  {
   "cell_type": "code",
   "execution_count": 11,
   "metadata": {},
   "outputs": [],
   "source": [
    "S, T = coeff_rand_generator(2)"
   ]
  },
  {
   "cell_type": "code",
   "execution_count": 20,
   "metadata": {},
   "outputs": [],
   "source": [
    "def time_test(S, T):\n",
    "    start = time.clock()\n",
    "    gof.coefficients_sum_fast(S, T, 10)\n",
    "    total_time= (time.clock() - start)\n",
    "    return total_time"
   ]
  },
  {
   "cell_type": "code",
   "execution_count": 40,
   "metadata": {},
   "outputs": [],
   "source": [
    "def time_test2(S, T, order):\n",
    "    start = time.clock()\n",
    "    gof.coefficients_sum(S, T, order, order,  10)\n",
    "    total_time= (time.clock() - start)\n",
    "    return total_time"
   ]
  },
  {
   "cell_type": "code",
   "execution_count": 28,
   "metadata": {},
   "outputs": [],
   "source": [
    "order = np.arange(1, 10, 1)\n",
    "t = np.zeros(len(order))\n",
    "for i in range(len(order)):\n",
    "    S, T = coeff_rand_generator(order[i])\n",
    "    t[i] = time_test(S, T)"
   ]
  },
  {
   "cell_type": "code",
   "execution_count": 47,
   "metadata": {},
   "outputs": [
    {
     "name": "stderr",
     "output_type": "stream",
     "text": [
      "/usr/local/lib/python3.4/dist-packages/scipy/integrate/quadpack.py:364: IntegrationWarning: The occurrence of roundoff error is detected, which prevents \n",
      "  the requested tolerance from being achieved.  The error may be \n",
      "  underestimated.\n",
      "  warnings.warn(msg, IntegrationWarning)\n"
     ]
    }
   ],
   "source": [
    "order2 = np.arange(1, 21, 5)\n",
    "t2 = np.zeros(len(order2))\n",
    "for i in range(len(order2)):\n",
    "    S, T = coeff_rand_generator(order2[i])\n",
    "    t2[i] = time_test2(S, T, order2[i])"
   ]
  },
  {
   "cell_type": "code",
   "execution_count": 51,
   "metadata": {},
   "outputs": [
    {
     "data": {
      "text/plain": [
       "Text(0,0.5,'Number of coefficients')"
      ]
     },
     "execution_count": 51,
     "metadata": {},
     "output_type": "execute_result"
    },
    {
     "data": {
      "image/png": "[encoded data removed]",
      "text/plain": [
       "<Figure size 432x288 with 1 Axes>"
      ]
     },
     "metadata": {},
     "output_type": "display_data"
    }
   ],
   "source": [
    "plt.plot(t/60., order**3)\n",
    "plt.plot(t2/60., order2**3)\n",
    "\n",
    "#plt.title('coefficients_sum_fast')\n",
    "\n",
    "plt.xlabel('time[minutes]')\n",
    "plt.ylabel('Number of coefficients')"
   ]
  },
  {
   "cell_type": "code",
   "execution_count": 65,
   "metadata": {},
   "outputs": [
    {
     "data": {
      "text/plain": [
       "166.66666666666666"
      ]
     },
     "execution_count": 65,
     "metadata": {},
     "output_type": "execute_result"
    }
   ],
   "source": [
    "# 10 min per snapshot * 1000 files \n",
    "10*1000/60.\n"
   ]
  },
  {
   "cell_type": "code",
   "execution_count": 61,
   "metadata": {},
   "outputs": [],
   "source": [
    "index = np.where(S**2+T**2>0)\n",
    "nmax = index[0]                                                                                                                                                           \n",
    "lmax = index[1]                                                                                                                                                           \n",
    "mmax = index[2]                                                                                                                                                           \n",
    "                         "
   ]
  },
  {
   "cell_type": "code",
   "execution_count": 64,
   "metadata": {},
   "outputs": [
    {
     "data": {
      "text/plain": [
       "50"
      ]
     },
     "execution_count": 64,
     "metadata": {},
     "output_type": "execute_result"
    }
   ],
   "source": [
    "len(np.arange(1, 11, 0.2))"
   ]
  },
  {
   "cell_type": "code",
   "execution_count": null,
   "metadata": {},
   "outputs": [],
   "source": []
  }
 ],
 "metadata": {
  "kernelspec": {
   "display_name": "Python 3",
   "language": "python",
   "name": "python3"
  },
  "language_info": {
   "codemirror_mode": {
    "name": "ipython",
    "version": 3
   },
   "file_extension": ".py",
   "mimetype": "text/x-python",
   "name": "python",
   "nbconvert_exporter": "python",
   "pygments_lexer": "ipython3",
   "version": "3.4.3"
  }
 },
 "nbformat": 4,
 "nbformat_minor": 2
}
