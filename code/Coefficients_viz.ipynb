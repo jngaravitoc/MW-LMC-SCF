{
 "cells": [
  {
   "cell_type": "code",
   "execution_count": 3,
   "metadata": {},
   "outputs": [
    {
     "name": "stdout",
     "output_type": "stream",
     "text": [
      "Populating the interactive namespace from numpy and matplotlib\n"
     ]
    }
   ],
   "source": [
    "%pylab inline\n",
    "from mwlmc_bfe import smooth_coeff"
   ]
  },
  {
   "cell_type": "code",
   "execution_count": 12,
   "metadata": {},
   "outputs": [],
   "source": [
    "font = {'size':20, 'family':'serif'}\n",
    "matplotlib.rc('font', **font)"
   ]
  },
  {
   "cell_type": "code",
   "execution_count": 221,
   "metadata": {},
   "outputs": [
    {
     "name": "stderr",
     "output_type": "stream",
     "text": [
      "/home/xzk/work/github/MW-LMC-SCF/code/coefficients_smoothing.py:109: RuntimeWarning: invalid value encountered in double_scalars\n",
      "  bt = 1 / (1 + (varT/T**2))\n"
     ]
    }
   ],
   "source": [
    "# data \n",
    "\n",
    "covmat_lmc_path = '../data/LMC/BFE_bound/LMC_1M_iterative_bound_T_V_BFE_covmat_sample_0'\n",
    "coeff_lmc_path = '../data/LMC/BFE_bound/LMC_1M_iterative_bound_T_V_BFE_coeff_sample_0'\n",
    "mass = 1.7995383e-05\n",
    "\n",
    "\n",
    "covmat_mwlmc_path = '../data/MW/MW_lmc_unbound/mwlmc_unbound_BFE_T_V_iterative_1e6_300_covmat_sample_0'\n",
    "coeff_mwlmc_path = '../data/MW/MW_lmc_unbound/mwlmc_unbound_BFE_T_V_iterative_1e6_300_coeff_sample_0'\n",
    "\n",
    "\n",
    "S_lmc, T_lmc, N_mw = smooth_coeff(coeff_lmc_path, covmat_lmc_path, 0, 4, 20, 20, 20, 8, mass)\n",
    "S_mwlmc, T_mwlmc, N_mwlmc = smooth_coeff(coeff_mwlmc_path, covmat_mwlmc_path, 0, 4, 20, 20, 20, 4, mass)\n",
    "\n"
   ]
  },
  {
   "cell_type": "code",
   "execution_count": 222,
   "metadata": {},
   "outputs": [],
   "source": [
    "def coeff_hist(S):\n",
    "    vmin = np.ma.masked_invalid(np.log10(np.abs(S[:,:,0].flatten()))).min()\n",
    "    vmax = np.max(np.log10(np.abs(S)))\n",
    "\n",
    "    fig, ax = subplots(1, 3, figsize=(14, 4))\n",
    "\n",
    "    fig.suptitle('LMC coefficients amplitudes', y=1.06)\n",
    "\n",
    "    for i in range(3):\n",
    "        im = ax[i].imshow(np.log10(np.abs(((S[:,:,i])))), origin='lower', cmap='BuPu', vmin=vmin, vmax=vmax)\n",
    "        ax[i].set_xlim(-0.5, 10)\n",
    "        ax[i].set_ylim(-0.5, 10)\n",
    "        ax[i].set_xlabel('$n$')\n",
    "        ax[i].set_title('$m=${}'.format(i))\n",
    "        if i ==0:\n",
    "            ax[i].set_ylabel('$l$')\n",
    "    #ax[3].set_colorbar()\n",
    "    fig.subplots_adjust(right=0.8)\n",
    "    levels = np.arange(int(vmin-1),int(vmax+1),1)\n",
    "    cbar_ax = fig.add_axes([0.82, 0.15, 0.02, 0.7])\n",
    "    cbar = fig.colorbar(im, cax=cbar_ax, ticks=levels)\n",
    "    cbar.set_label(r'$\\rm{Log_{10}\\ S_{nlm}}$')\n"
   ]
  },
  {
   "cell_type": "code",
   "execution_count": 474,
   "metadata": {},
   "outputs": [],
   "source": [
    "def coeff_power(S, T, fig_title, fig_name, max_m=0, max_n=0, max_l=0):\n",
    "    \n",
    "    vmin = np.ma.masked_invalid(np.log10((S**2 + T**2)**0.5)).min()\n",
    "    vmax = np.max(np.log10((S**2 + T**2)**0.5))\n",
    "\n",
    "    index_m = np.where(np.abs(S[:,:,:3])>0)\n",
    "    if max_m==0:\n",
    "        max_m = np.max(index_m[2])\n",
    "    if max_n==0:\n",
    "        max_n = np.max(index_m[0])\n",
    "    if max_l==0:\n",
    "        max_l = np.max(index_m[1])\n",
    "\n",
    "    print(max_n, max_l)\n",
    "    if max_m < 4:\n",
    "        fig, ax = subplots(max_m+1, 1, figsize=(6, 9), sharex=True)\n",
    "    elif ((max_m < 8) & (max_m>3)):\n",
    "        fig, ax = subplots(2, 4, figsize=(14, 9), sharex=True, sharey=True)\n",
    "    elif (max_m>7):\n",
    "        fig, ax = subplots(3, 4, figsize=(14, 14), sharex=True, sharey=True)\n",
    "    print(max_m)\n",
    "\n",
    "    fig.suptitle(fig_title, y=1.02)\n",
    "\n",
    "    if max_m < 5:\n",
    "        for i in range(max_m+1):\n",
    "            im = ax[i].imshow(np.log10((S[:,:,i]**2 + T[:,:,i]**2)**0.5).T, origin='lower', cmap='BuPu', vmin=vmin, vmax=vmax)\n",
    "            ax[i].set_xlim(-1, max_n+1)\n",
    "            ax[i].set_ylim(-1, max_l+1)\n",
    "            ax[i].set_ylabel('$l$')\n",
    "            ax[i].set_title('$m=${}'.format(i))\n",
    "            ax[i].set_xticks(np.arange(0, max_n+1, 2))\n",
    "            ax[i].set_yticks(np.arange(0, max_l+1, 2))\n",
    "            ax[i].set_yticklabels(np.arange(0, max_l+1, 2))\n",
    "\n",
    "            if i ==2:\n",
    "                ax[i].set_xlabel('$n$')\n",
    "    elif (max_m>3):\n",
    "        j = 0 \n",
    "        k=0\n",
    "        for i in range(max_m+1):\n",
    "            print(j, i)\n",
    "            im = ax[j][k].imshow(np.log10((S[:,:,i]**2 + T[:,:,i]**2)**0.5).T, origin='lower', cmap='BuPu', vmin=vmin, vmax=vmax)\n",
    "            ax[j][k].set_xlim(-1, max_n+1)\n",
    "            ax[j][k].set_ylim(-1, max_l+1)\n",
    "            ax[j][k].set_ylabel('$l$')\n",
    "            ax[j][k].set_title('$m=${}'.format(i))\n",
    "            k+=1\n",
    "            if i == 2:\n",
    "                ax[j][i].set_xlabel('$n$')\n",
    "            elif i%3 == 0:\n",
    "                j+=1 \n",
    "                k=0\n",
    "                \n",
    "    fig.subplots_adjust(right=0.8)\n",
    "    levels = np.arange(int(vmin-1),int(vmax+1),1)\n",
    "    cbar_ax = fig.add_axes([0.15, -0.05, 0.8, 0.04])\n",
    "    cbar = fig.colorbar(im, cax=cbar_ax, ticks=levels, orientation='horizontal')\n",
    "    cbar.set_label(r'$\\rm{Log_{10}\\ \\left( S_{nlm}^2 + T_{nlm}^2 \\right)}$')\n",
    "    fig.tight_layout()\n",
    "    fig.savefig(fig_name, bbox_inches='tight')"
   ]
  },
  {
   "cell_type": "code",
   "execution_count": 478,
   "metadata": {},
   "outputs": [
    {
     "name": "stderr",
     "output_type": "stream",
     "text": [
      "/usr/local/lib/python3.5/dist-packages/ipykernel_launcher.py:3: RuntimeWarning: divide by zero encountered in log10\n",
      "  This is separate from the ipykernel package so we can avoid doing imports until\n",
      "/usr/local/lib/python3.5/dist-packages/ipykernel_launcher.py:4: RuntimeWarning: divide by zero encountered in log10\n",
      "  after removing the cwd from sys.path.\n",
      "/usr/local/lib/python3.5/dist-packages/ipykernel_launcher.py:27: RuntimeWarning: divide by zero encountered in log10\n"
     ]
    },
    {
     "name": "stdout",
     "output_type": "stream",
     "text": [
      "20 8\n",
      "2\n"
     ]
    },
    {
     "name": "stderr",
     "output_type": "stream",
     "text": [
      "/usr/local/lib/python3.5/dist-packages/matplotlib/figure.py:1999: UserWarning: This figure includes Axes that are not compatible with tight_layout, so results might be incorrect.\n",
      "  warnings.warn(\"This figure includes Axes that are not compatible \"\n"
     ]
    },
    {
     "data": {
      "image/png": "[encoded data removed]",
      "text/plain": [
       "<matplotlib.figure.Figure at 0x7f113fb2b4a8>"
      ]
     },
     "metadata": {},
     "output_type": "display_data"
    }
   ],
   "source": [
    "coeff_power(S_lmc, T_lmc, fig_title='LMC coefficients amplitude', fig_name='LMC_coefficients.png' ,max_n=20, max_l=8)"
   ]
  },
  {
   "cell_type": "code",
   "execution_count": 479,
   "metadata": {},
   "outputs": [
    {
     "name": "stderr",
     "output_type": "stream",
     "text": [
      "/usr/local/lib/python3.5/dist-packages/ipykernel_launcher.py:3: RuntimeWarning: divide by zero encountered in log10\n",
      "  This is separate from the ipykernel package so we can avoid doing imports until\n",
      "/usr/local/lib/python3.5/dist-packages/ipykernel_launcher.py:4: RuntimeWarning: divide by zero encountered in log10\n",
      "  after removing the cwd from sys.path.\n",
      "/usr/local/lib/python3.5/dist-packages/ipykernel_launcher.py:27: RuntimeWarning: divide by zero encountered in log10\n",
      "/usr/local/lib/python3.5/dist-packages/matplotlib/figure.py:1999: UserWarning: This figure includes Axes that are not compatible with tight_layout, so results might be incorrect.\n",
      "  warnings.warn(\"This figure includes Axes that are not compatible \"\n"
     ]
    },
    {
     "name": "stdout",
     "output_type": "stream",
     "text": [
      "20 8\n",
      "2\n"
     ]
    },
    {
     "data": {
      "image/png": "[encoded data removed]",
      "text/plain": [
       "<matplotlib.figure.Figure at 0x7f113f37ec88>"
      ]
     },
     "metadata": {},
     "output_type": "display_data"
    }
   ],
   "source": [
    "coeff_power(S_mwlmc, T_mwlmc, fig_title='MW coefficients amplitude', fig_name='MW_coefficients.png', max_m=2, max_n=20, max_l=8)"
   ]
  },
  {
   "cell_type": "code",
   "execution_count": 392,
   "metadata": {},
   "outputs": [
    {
     "data": {
      "text/plain": [
       "-3.7444750420722626"
      ]
     },
     "execution_count": 392,
     "metadata": {},
     "output_type": "execute_result"
    }
   ],
   "source": [
    "vmin"
   ]
  },
  {
   "cell_type": "code",
   "execution_count": 155,
   "metadata": {},
   "outputs": [
    {
     "name": "stdout",
     "output_type": "stream",
     "text": [
      "-4\n",
      "1\n"
     ]
    }
   ],
   "source": [
    "print(int(vmin-1))\n",
    "print(int(vmax+1))"
   ]
  },
  {
   "cell_type": "code",
   "execution_count": 167,
   "metadata": {},
   "outputs": [
    {
     "data": {
      "text/plain": [
       "array([-4., -3., -2., -1.,  0.,  1.])"
      ]
     },
     "execution_count": 167,
     "metadata": {},
     "output_type": "execute_result"
    }
   ],
   "source": [
    "np.arange(-4, 1.1, 1)"
   ]
  },
  {
   "cell_type": "code",
   "execution_count": null,
   "metadata": {},
   "outputs": [],
   "source": []
  }
 ],
 "metadata": {
  "kernelspec": {
   "display_name": "Python 3",
   "language": "python",
   "name": "python3"
  },
  "language_info": {
   "codemirror_mode": {
    "name": "ipython",
    "version": 3
   },
   "file_extension": ".py",
   "mimetype": "text/x-python",
   "name": "python",
   "nbconvert_exporter": "python",
   "pygments_lexer": "ipython3",
   "version": "3.5.2"
  }
 },
 "nbformat": 4,
 "nbformat_minor": 2
}
