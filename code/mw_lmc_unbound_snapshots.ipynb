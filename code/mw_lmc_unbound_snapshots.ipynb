{
 "cells": [
  {
   "cell_type": "code",
   "execution_count": 1,
   "metadata": {},
   "outputs": [
    {
     "name": "stdout",
     "output_type": "stream",
     "text": [
      "Populating the interactive namespace from numpy and matplotlib\n"
     ]
    },
    {
     "name": "stderr",
     "output_type": "stream",
     "text": [
      "/usr/local/lib/python3.5/dist-packages/h5py/__init__.py:34: FutureWarning: Conversion of the second argument of issubdtype from `float` to `np.floating` is deprecated. In future, it will be treated as `np.float64 == np.dtype(float).type`.\n",
      "  from ._conv import register_converters as _register_converters\n"
     ]
    }
   ],
   "source": [
    "%pylab inline\n",
    "import pygadgetreader\n",
    "import reading_snapshots\n"
   ]
  },
  {
   "cell_type": "code",
   "execution_count": 2,
   "metadata": {},
   "outputs": [],
   "source": [
    "font = {'size':20, 'family':'serif'}\n",
    "matplotlib.rc('font', **font)\n"
   ]
  },
  {
   "cell_type": "code",
   "execution_count": 3,
   "metadata": {},
   "outputs": [
    {
     "name": "stdout",
     "output_type": "stream",
     "text": [
      "Returning DM    Mass\n"
     ]
    }
   ],
   "source": [
    "MW_mass = pygadgetreader.readsnap('../../MW_anisotropy/code/test_snaps/MWLMC5_100M_new_b1_110', 'mass', 'dm')"
   ]
  },
  {
   "cell_type": "code",
   "execution_count": 4,
   "metadata": {},
   "outputs": [
    {
     "name": "stdout",
     "output_type": "stream",
     "text": [
      "Returning DM    Positions\n",
      "Returning DM    Velocities\n",
      "Returning DM    Particle IDs\n",
      "Returning DISK  Positions\n",
      "Returning DISK  Velocities\n",
      "Returning DISK  Potential\n",
      "Returning DM    Potential\n",
      "Loading MW particles and LMC particles\n"
     ]
    }
   ],
   "source": [
    "MW_post = reading_snapshots.read_MW_snap_com_coordinates('../../MW_anisotropy/code/test_snaps/', 'MWLMC5_100M_new_b1_110', LMC=True,\n",
    "                                                                 N_halo_part=100000000, pot=True)"
   ]
  },
  {
   "cell_type": "code",
   "execution_count": 5,
   "metadata": {},
   "outputs": [],
   "source": [
    "mw_pmass  = 1.577212515257997438e-06 \n",
    "lmc_pmass = 1.1996922e-06"
   ]
  },
  {
   "cell_type": "code",
   "execution_count": 6,
   "metadata": {},
   "outputs": [],
   "source": [
    "lmc_part_1 = np.loadtxt('../data/LMC/LMC_15M_unbound_2T_V.txt')"
   ]
  },
  {
   "cell_type": "code",
   "execution_count": 7,
   "metadata": {},
   "outputs": [],
   "source": [
    "lmc_pos = lmc_part_1[:,0:3]"
   ]
  },
  {
   "cell_type": "code",
   "execution_count": 8,
   "metadata": {},
   "outputs": [],
   "source": [
    "posx_all = np.concatenate((MW_post[0][:,0], lmc_pos[:,0]))\n",
    "posy_all = np.concatenate((MW_post[0][:,1], lmc_pos[:,1]))\n",
    "posz_all = np.concatenate((MW_post[0][:,2], lmc_pos[:,2]))\n",
    "mass_all = np.concatenate((np.ones(100000000)*mw_pmass, lmc_part_1[:,6]))"
   ]
  },
  {
   "cell_type": "code",
   "execution_count": 9,
   "metadata": {},
   "outputs": [],
   "source": [
    "dist_mwmlmc = (posx_all**2 + posy_all**2 + posz_all**2)**0.5"
   ]
  },
  {
   "cell_type": "code",
   "execution_count": 10,
   "metadata": {},
   "outputs": [
    {
     "data": {
      "text/plain": [
       "110344282"
      ]
     },
     "execution_count": 10,
     "metadata": {},
     "output_type": "execute_result"
    }
   ],
   "source": [
    "len(dist_mwmlmc)"
   ]
  },
  {
   "cell_type": "code",
   "execution_count": 11,
   "metadata": {},
   "outputs": [],
   "source": [
    "index_300 = np.where(dist_mwmlmc<300)[0]"
   ]
  },
  {
   "cell_type": "code",
   "execution_count": 12,
   "metadata": {},
   "outputs": [],
   "source": [
    "posx_300 = posx_all[index_300]\n",
    "posy_300 = posy_all[index_300]\n",
    "posz_300 = posz_all[index_300]\n",
    "mass_300 = mass_all[index_300]"
   ]
  },
  {
   "cell_type": "code",
   "execution_count": 13,
   "metadata": {},
   "outputs": [],
   "source": [
    "np.savetxt('MW_LMC_unbound_2T_V_b1_dm_part_1e8.txt', np.array([posx_300, posy_300, posz_300, mass_300]).T)"
   ]
  },
  {
   "cell_type": "code",
   "execution_count": 14,
   "metadata": {},
   "outputs": [],
   "source": [
    "index_lmc_part = np.where(mass_300==lmc_pmass)[0]\n",
    "index_mw_part = np.where(mass_300==mw_pmass)[0]"
   ]
  },
  {
   "cell_type": "code",
   "execution_count": 15,
   "metadata": {},
   "outputs": [],
   "source": [
    "N_random_1e6 = np.random.randint(0, len(index_300), 1000000)"
   ]
  },
  {
   "cell_type": "code",
   "execution_count": 16,
   "metadata": {},
   "outputs": [],
   "source": [
    "posx_300_lr = posx_300[N_random_1e6]\n",
    "posy_300_lr = posy_300[N_random_1e6]\n",
    "posz_300_lr = posz_300[N_random_1e6]\n",
    "mass_300_lr = mass_300[N_random_1e6]"
   ]
  },
  {
   "cell_type": "code",
   "execution_count": 17,
   "metadata": {},
   "outputs": [],
   "source": [
    "index_lmc_part_lr = np.where(mass_300_lr==lmc_pmass)[0]\n",
    "index_mw_part_lr = np.where(mass_300_lr==mw_pmass)[0]"
   ]
  },
  {
   "cell_type": "code",
   "execution_count": 18,
   "metadata": {},
   "outputs": [
    {
     "name": "stdout",
     "output_type": "stream",
     "text": [
      "8315483 96566\n",
      "77615339 903434\n"
     ]
    }
   ],
   "source": [
    "print(len(index_lmc_part), len(index_lmc_part_lr))\n",
    "print(len(index_mw_part), len(index_mw_part_lr))"
   ]
  },
  {
   "cell_type": "code",
   "execution_count": 19,
   "metadata": {},
   "outputs": [],
   "source": [
    "lr_lmc_pmass = lmc_pmass * len(index_lmc_part)/len(index_lmc_part_lr)\n",
    "lr_mw_pmass =  mw_pmass * len(index_mw_part)/len(index_mw_part_lr) "
   ]
  },
  {
   "cell_type": "code",
   "execution_count": 20,
   "metadata": {},
   "outputs": [
    {
     "name": "stdout",
     "output_type": "stream",
     "text": [
      "0.00010330779046799703 1.1996922e-06\n",
      "0.0001355006387260078 1.5772125152579974e-06\n"
     ]
    }
   ],
   "source": [
    "print(lr_lmc_pmass, lmc_pmass)\n",
    "print(lr_mw_pmass, mw_pmass)\n"
   ]
  },
  {
   "cell_type": "code",
   "execution_count": 21,
   "metadata": {},
   "outputs": [],
   "source": [
    "np.savetxt('MW_LMC_unbound_2T_V_100M_b1_dm_part_1e6_300.txt', \n",
    "           np.array([posx_300_lr, posy_300_lr, posz_300_lr, mass_300_lr]).T)\n"
   ]
  },
  {
   "cell_type": "code",
   "execution_count": 22,
   "metadata": {},
   "outputs": [
    {
     "data": {
      "text/plain": [
       "<matplotlib.collections.PathCollection at 0x7f4d08938b00>"
      ]
     },
     "execution_count": 22,
     "metadata": {},
     "output_type": "execute_result"
    },
    {
     "data": {
      "image/png": "[encoded data removed]",
      "text/plain": [
       "<matplotlib.figure.Figure at 0x7f4d11af5390>"
      ]
     },
     "metadata": {},
     "output_type": "display_data"
    }
   ],
   "source": [
    "scatter(posy_300_lr[:1000], posz_300_lr[:1000], c='k', s=0.1)"
   ]
  },
  {
   "cell_type": "code",
   "execution_count": null,
   "metadata": {},
   "outputs": [],
   "source": []
  }
 ],
 "metadata": {
  "kernelspec": {
   "display_name": "Python 3",
   "language": "python",
   "name": "python3"
  },
  "language_info": {
   "codemirror_mode": {
    "name": "ipython",
    "version": 3
   },
   "file_extension": ".py",
   "mimetype": "text/x-python",
   "name": "python",
   "nbconvert_exporter": "python",
   "pygments_lexer": "ipython3",
   "version": "3.5.2"
  }
 },
 "nbformat": 4,
 "nbformat_minor": 2
}
