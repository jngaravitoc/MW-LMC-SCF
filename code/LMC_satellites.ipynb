{
 "cells": [
  {
   "cell_type": "code",
   "execution_count": 262,
   "metadata": {},
   "outputs": [
    {
     "name": "stdout",
     "output_type": "stream",
     "text": [
      "Populating the interactive namespace from numpy and matplotlib\n"
     ]
    }
   ],
   "source": [
    "%pylab inline\n",
    "import biff\n",
    "import coefficients_smoothing\n",
    "from astropy.coordinates import SkyCoord\n",
    "from astropy import units as u\n",
    "from adjustText import adjust_text"
   ]
  },
  {
   "cell_type": "code",
   "execution_count": 282,
   "metadata": {},
   "outputs": [],
   "source": [
    "font = {'size':20, 'family':'serif'}\n",
    "matplotlib.rc('font', **font)"
   ]
  },
  {
   "cell_type": "code",
   "execution_count": 140,
   "metadata": {},
   "outputs": [],
   "source": [
    "G_gadget=43007.1"
   ]
  },
  {
   "cell_type": "code",
   "execution_count": 198,
   "metadata": {},
   "outputs": [],
   "source": [
    "xlmc_com = -1\n",
    "ylmc_com = -41\n",
    "zlmc_com = -28\n",
    "\n",
    "vxlmc_com = -57\n",
    "vylmc_com = -226\n",
    "vzlmc_com = 221"
   ]
  },
  {
   "cell_type": "code",
   "execution_count": 199,
   "metadata": {},
   "outputs": [
    {
     "name": "stderr",
     "output_type": "stream",
     "text": [
      "/home/xzk/.local/lib/python3.5/site-packages/ipykernel_launcher.py:1: VisibleDeprecationWarning: Reading unicode strings without specifying the encoding argument is deprecated. Set the encoding, use None for the system default.\n",
      "  \"\"\"Entry point for launching an IPython kernel.\n"
     ]
    }
   ],
   "source": [
    "data = genfromtxt('../data/MW_satellites.dat', dtype=None)\n",
    "vx = data['f7'] - vxlmc_com\n",
    "vy = data['f9'] - vylmc_com\n",
    "vz = data['f11'] - vzlmc_com \n",
    "x = data['f13'] - xlmc_com\n",
    "y = data['f15'] - ylmc_com\n",
    "z = data['f17'] - zlmc_com\n",
    "name = data['f0']\n",
    "\n",
    "\n",
    "\n",
    "\n",
    "d = np.sqrt(x**2 + y**2 + z**2)\n",
    "v = np.sqrt(vx**2 + vy**2 + vz**2)"
   ]
  },
  {
   "cell_type": "code",
   "execution_count": 405,
   "metadata": {},
   "outputs": [],
   "source": [
    "S, T = coefficients_smoothing.read_coeff_matrix('../data/LMC/BFE_bound/LMC_1M_bound_2T_V_BFE_coeff_sample_0', 20, 20, 20, 20, 0, 20)\n",
    "SS, TT, ST = coefficients_smoothing.read_cov_elements('../data/LMC/BFE_bound/LMC_1M_bound_2T_V_BFE_covmat_sample_0', 20, 20, 20, 20, 0, 20)\n"
   ]
  },
  {
   "cell_type": "code",
   "execution_count": 406,
   "metadata": {},
   "outputs": [],
   "source": [
    "mass_lmc_1m = 5.585428569999600208e-06\n",
    "#mass_lmc_1m = 9.8424151727874e-06"
   ]
  },
  {
   "cell_type": "code",
   "execution_count": 407,
   "metadata": {},
   "outputs": [],
   "source": [
    "y_grid = np.arange(-200, 200, 5.5)\n",
    "z_grid = np.arange(-200, 200, 5.5)\n",
    "y_grid, z_grid = meshgrid(y_grid, z_grid)\n",
    "bins=110\n",
    "\n",
    "xyz = np.ascontiguousarray(np.array([np.zeros(len(y_grid.flatten())),\n",
    "                                     y_grid.flatten(), z_grid.flatten()]).T)"
   ]
  },
  {
   "cell_type": "code",
   "execution_count": 408,
   "metadata": {},
   "outputs": [
    {
     "name": "stderr",
     "output_type": "stream",
     "text": [
      "/home/xzk/work/github/MW-LMC-SCF/code/coefficients_smoothing.py:107: RuntimeWarning: invalid value encountered in double_scalars\n",
      "  bt = 1 / (1 + (varT/T**2))\n"
     ]
    }
   ],
   "source": [
    "S_smooth, T_smooth, N_smooth = coefficients_smoothing.smooth_coeff_matrix(S, T, SS, TT, ST, \n",
    "                                                                          mass_lmc_1m, 20, 20, 20, sn=20)\n",
    "rho_biff = biff.density(np.ascontiguousarray(xyz), S_smooth, T_smooth, M=1, r_s=10)"
   ]
  },
  {
   "cell_type": "code",
   "execution_count": 409,
   "metadata": {},
   "outputs": [],
   "source": [
    "xyz_sats = np.array([x, y, z]).T"
   ]
  },
  {
   "cell_type": "code",
   "execution_count": 410,
   "metadata": {},
   "outputs": [],
   "source": [
    "pot_sats = biff.potential(np.ascontiguousarray(xyz_sats), S_smooth, T_smooth, M=1, r_s=10, G=G_gadget)"
   ]
  },
  {
   "cell_type": "code",
   "execution_count": 411,
   "metadata": {},
   "outputs": [],
   "source": [
    "T_sats = v**2/2."
   ]
  },
  {
   "cell_type": "code",
   "execution_count": 412,
   "metadata": {},
   "outputs": [],
   "source": [
    "E = 2*T_sats + pot_sats"
   ]
  },
  {
   "cell_type": "code",
   "execution_count": 413,
   "metadata": {},
   "outputs": [],
   "source": [
    "#(Hor1,Car2, Car3 and Hyi1)"
   ]
  },
  {
   "cell_type": "code",
   "execution_count": 414,
   "metadata": {},
   "outputs": [],
   "source": [
    "bound_sats2 = argsort(E)\n",
    "closest_sats2 = argsort(d)"
   ]
  },
  {
   "cell_type": "code",
   "execution_count": 415,
   "metadata": {},
   "outputs": [],
   "source": [
    "index_bound = np.where(E<0)[0]\n"
   ]
  },
  {
   "cell_type": "code",
   "execution_count": 416,
   "metadata": {},
   "outputs": [
    {
     "data": {
      "text/plain": [
       "array([b'Phx2'], dtype='|S7')"
      ]
     },
     "execution_count": 416,
     "metadata": {},
     "output_type": "execute_result"
    }
   ],
   "source": [
    "name[index_bound]"
   ]
  },
  {
   "cell_type": "code",
   "execution_count": 417,
   "metadata": {},
   "outputs": [],
   "source": [
    "dist_cut = np.where(d<100)[0]"
   ]
  },
  {
   "cell_type": "code",
   "execution_count": 418,
   "metadata": {},
   "outputs": [
    {
     "data": {
      "text/plain": [
       "array([b'Phx2', b'Hyd1', b'Hor1', b'Ret2', b'Car3', b'Boo3', b'Hyd2',\n",
       "       b'Car1', b'Car2', b'Fnx1', b'Leo1', b'Tuc2', b'Boo1', b'Seg1',\n",
       "       b'UMaj2', b'CanVen2', b'Wil1', b'Her1', b'Leo2', b'Seg2', b'Phx1',\n",
       "       b'Sag1', b'UMaj1', b'Gru1', b'Tri2', b'CanVen1', b'Boo2', b'Sext1',\n",
       "       b'Leo5', b'ComBer1', b'Cra2', b'Leo4', b'Dra1', b'UMin1', b'Pis2',\n",
       "       b'Aqu2', b'Scu1', b'Tuc3', b'Dra2', b'Eri2'], dtype='|S7')"
      ]
     },
     "execution_count": 418,
     "metadata": {},
     "output_type": "execute_result"
    }
   ],
   "source": [
    "name[bound_sats]"
   ]
  },
  {
   "cell_type": "code",
   "execution_count": 397,
   "metadata": {},
   "outputs": [
    {
     "data": {
      "text/plain": [
       "array([b'Phx2', b'Hyd1', b'Hor1', b'Ret2', b'Car3', b'Boo3', b'Hyd2',\n",
       "       b'Car1', b'Car2', b'Fnx1', b'Leo1', b'Tuc2', b'Seg1', b'Boo1',\n",
       "       b'UMaj2', b'CanVen2', b'Wil1', b'Her1', b'Leo2', b'Seg2', b'Sag1',\n",
       "       b'Phx1', b'UMaj1', b'Gru1', b'Tri2', b'CanVen1', b'Boo2', b'Sext1',\n",
       "       b'Leo5', b'ComBer1', b'Cra2', b'Leo4', b'Dra1', b'UMin1', b'Pis2',\n",
       "       b'Aqu2', b'Scu1', b'Tuc3', b'Dra2', b'Eri2'], dtype='|S7')"
      ]
     },
     "execution_count": 397,
     "metadata": {},
     "output_type": "execute_result"
    }
   ],
   "source": [
    "name[bound_sats2]"
   ]
  },
  {
   "cell_type": "code",
   "execution_count": 402,
   "metadata": {},
   "outputs": [],
   "source": [
    "colors = (E[dist_cut]-np.min(E[dist_cut])+1)"
   ]
  },
  {
   "cell_type": "code",
   "execution_count": 403,
   "metadata": {},
   "outputs": [
    {
     "data": {
      "text/plain": [
       "Text(12.5882,0.5,'z[kpc]')"
      ]
     },
     "execution_count": 403,
     "metadata": {},
     "output_type": "execute_result"
    },
    {
     "data": {
      "image/png": "[encoded data removed]",
      "text/plain": [
       "<matplotlib.figure.Figure at 0x7eff463f75c0>"
      ]
     },
     "metadata": {},
     "output_type": "display_data"
    }
   ],
   "source": [
    "figure(figsize=(7,6))\n",
    "contourf(y_grid, z_grid, np.log10(np.abs(rho_biff.reshape((73, 73)))), 40, cmap='Spectral_r')\n",
    "im = scatter(y[dist_cut], z[dist_cut], s=d[dist_cut], c=np.log10(colors), cmap='ocean')\n",
    "xlim(-100, 100)\n",
    "ylim(-100, 100)\n",
    "texts = [plt.text(y[dist_cut][i], z[dist_cut][i], \n",
    "                  (name.astype(str)[dist_cut][i]), fontsize=14) for i in range(len(x[dist_cut]))]\n",
    "adjust_text(texts)\n",
    "cbar = colorbar(im)\n",
    "xlabel('y[kpc]')\n",
    "ylabel('z[kpc]')\n",
    "#savefig('LMC bound_satellites.png', bbox_inches='tight')"
   ]
  },
  {
   "cell_type": "code",
   "execution_count": null,
   "metadata": {},
   "outputs": [],
   "source": []
  },
  {
   "cell_type": "code",
   "execution_count": 72,
   "metadata": {},
   "outputs": [],
   "source": [
    "bbins = 180\n",
    "lbins = 360\n",
    "\n",
    "d_b_rads = np.linspace(-np.pi/2., np.pi/2., bbins)\n",
    "d_l_rads = np.linspace(-np.pi, np.pi, lbins)\n",
    "l_grid, b_grid = np.meshgrid(d_l_rads, d_b_rads)\n",
    "dist = 50 \n",
    "\n",
    "\n",
    "c = SkyCoord(l=l_grid*u.radian, b=b_grid*u.radian, distance = dist*u.kpc, frame='galactic')\n"
   ]
  },
  {
   "cell_type": "code",
   "execution_count": 96,
   "metadata": {},
   "outputs": [],
   "source": [
    "x_grid, y_grid, z_grid = c.cartesian.x, c.cartesian.y, c.cartesian.z"
   ]
  }
 ],
 "metadata": {
  "kernelspec": {
   "display_name": "Python 3",
   "language": "python",
   "name": "python3"
  },
  "language_info": {
   "codemirror_mode": {
    "name": "ipython",
    "version": 3
   },
   "file_extension": ".py",
   "mimetype": "text/x-python",
   "name": "python",
   "nbconvert_exporter": "python",
   "pygments_lexer": "ipython3",
   "version": "3.5.2"
  }
 },
 "nbformat": 4,
 "nbformat_minor": 2
}
