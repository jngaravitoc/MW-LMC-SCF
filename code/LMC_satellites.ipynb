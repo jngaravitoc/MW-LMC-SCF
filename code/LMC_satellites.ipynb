{
 "cells": [
  {
   "cell_type": "code",
   "execution_count": 262,
   "metadata": {},
   "outputs": [
    {
     "name": "stdout",
     "output_type": "stream",
     "text": [
      "Populating the interactive namespace from numpy and matplotlib\n"
     ]
    }
   ],
   "source": [
    "%pylab inline\n",
    "import biff\n",
    "import coefficients_smoothing\n",
    "from astropy.coordinates import SkyCoord\n",
    "from astropy import units as u\n",
    "from adjustText import adjust_text"
   ]
  },
  {
   "cell_type": "code",
   "execution_count": 282,
   "metadata": {},
   "outputs": [],
   "source": [
    "font = {'size':20, 'family':'serif'}\n",
    "matplotlib.rc('font', **font)"
   ]
  },
  {
   "cell_type": "code",
   "execution_count": 140,
   "metadata": {},
   "outputs": [],
   "source": [
    "G_gadget=43007.1"
   ]
  },
  {
   "cell_type": "code",
   "execution_count": 420,
   "metadata": {},
   "outputs": [],
   "source": [
    "xlmc_com = -1\n",
    "ylmc_com = -41\n",
    "zlmc_com = -28\n",
    "\n",
    "vxlmc_com = -57\n",
    "vylmc_com = -226\n",
    "vzlmc_com = 221"
   ]
  },
  {
   "cell_type": "code",
   "execution_count": 421,
   "metadata": {},
   "outputs": [
    {
     "name": "stderr",
     "output_type": "stream",
     "text": [
      "/home/xzk/.local/lib/python3.5/site-packages/ipykernel_launcher.py:1: VisibleDeprecationWarning: Reading unicode strings without specifying the encoding argument is deprecated. Set the encoding, use None for the system default.\n",
      "  \"\"\"Entry point for launching an IPython kernel.\n"
     ]
    }
   ],
   "source": [
    "data = genfromtxt('../data/MW_satellites.dat', dtype=None)\n",
    "vx = data['f7'] - vxlmc_com\n",
    "vy = data['f9'] - vylmc_com\n",
    "vz = data['f11'] - vzlmc_com \n",
    "x = data['f13'] - xlmc_com\n",
    "y = data['f15'] - ylmc_com\n",
    "z = data['f17'] - zlmc_com\n",
    "name = data['f0']\n",
    "\n",
    "\n",
    "\n",
    "\n",
    "d = np.sqrt(x**2 + y**2 + z**2)\n",
    "v = np.sqrt(vx**2 + vy**2 + vz**2)"
   ]
  },
  {
   "cell_type": "code",
   "execution_count": 422,
   "metadata": {},
   "outputs": [],
   "source": [
    "S, T = coefficients_smoothing.read_coeff_matrix('../data/LMC/BFE_bound/LMC_1M_bound_2T_V_BFE_coeff_sample_0', 20, 20, 20, 20, 0, 20)\n",
    "SS, TT, ST = coefficients_smoothing.read_cov_elements('../data/LMC/BFE_bound/LMC_1M_bound_2T_V_BFE_covmat_sample_0', 20, 20, 20, 20, 0, 20)\n"
   ]
  },
  {
   "cell_type": "code",
   "execution_count": 423,
   "metadata": {},
   "outputs": [],
   "source": [
    "mass_lmc_1m = 5.585428569999600208e-06\n",
    "#mass_lmc_1m = 9.8424151727874e-06"
   ]
  },
  {
   "cell_type": "code",
   "execution_count": 456,
   "metadata": {},
   "outputs": [],
   "source": [
    "y_grid = np.arange(-200, 200, 2.2)\n",
    "z_grid = np.arange(-200, 200, 2.2)\n",
    "y_grid, z_grid = meshgrid(y_grid, z_grid)\n",
    "bins=110\n",
    "\n",
    "xyz = np.ascontiguousarray(np.array([np.zeros(len(y_grid.flatten())),\n",
    "                                     y_grid.flatten(), z_grid.flatten()]).T)"
   ]
  },
  {
   "cell_type": "code",
   "execution_count": 457,
   "metadata": {},
   "outputs": [
    {
     "name": "stderr",
     "output_type": "stream",
     "text": [
      "/home/xzk/work/github/MW-LMC-SCF/code/coefficients_smoothing.py:107: RuntimeWarning: invalid value encountered in double_scalars\n",
      "  bt = 1 / (1 + (varT/T**2))\n"
     ]
    }
   ],
   "source": [
    "S_smooth, T_smooth, N_smooth = coefficients_smoothing.smooth_coeff_matrix(S, T, SS, TT, ST, \n",
    "                                                                          mass_lmc_1m, 20, 20, 20, sn=20)\n",
    "rho_biff = biff.density(np.ascontiguousarray(xyz), S_smooth, T_smooth, M=1, r_s=10)"
   ]
  },
  {
   "cell_type": "code",
   "execution_count": 458,
   "metadata": {},
   "outputs": [],
   "source": [
    "xyz_sats = np.array([x, y, z]).T"
   ]
  },
  {
   "cell_type": "code",
   "execution_count": 459,
   "metadata": {},
   "outputs": [],
   "source": [
    "pot_sats = biff.potential(np.ascontiguousarray(xyz_sats), S_smooth, T_smooth, M=1, r_s=10, G=G_gadget)"
   ]
  },
  {
   "cell_type": "code",
   "execution_count": 460,
   "metadata": {},
   "outputs": [],
   "source": [
    "T_sats = v**2/2."
   ]
  },
  {
   "cell_type": "code",
   "execution_count": 461,
   "metadata": {},
   "outputs": [],
   "source": [
    "E = 2*T_sats + pot_sats"
   ]
  },
  {
   "cell_type": "code",
   "execution_count": 462,
   "metadata": {},
   "outputs": [],
   "source": [
    "#(Hor1,Car2, Car3 and Hyi1)"
   ]
  },
  {
   "cell_type": "code",
   "execution_count": 463,
   "metadata": {},
   "outputs": [],
   "source": [
    "bound_sats2 = argsort(E)\n",
    "closest_sats2 = argsort(d)"
   ]
  },
  {
   "cell_type": "code",
   "execution_count": 464,
   "metadata": {},
   "outputs": [],
   "source": [
    "index_bound = np.where(E<0)[0]\n"
   ]
  },
  {
   "cell_type": "code",
   "execution_count": 465,
   "metadata": {},
   "outputs": [
    {
     "data": {
      "text/plain": [
       "array([b'Phx2'], dtype='|S7')"
      ]
     },
     "execution_count": 465,
     "metadata": {},
     "output_type": "execute_result"
    }
   ],
   "source": [
    "name[index_bound]"
   ]
  },
  {
   "cell_type": "code",
   "execution_count": 466,
   "metadata": {},
   "outputs": [],
   "source": [
    "dist_cut = np.where(d<100)[0]"
   ]
  },
  {
   "cell_type": "code",
   "execution_count": 467,
   "metadata": {},
   "outputs": [
    {
     "data": {
      "text/plain": [
       "array([b'Phx2', b'Hyd1', b'Hor1', b'Ret2', b'Car3', b'Boo3', b'Hyd2',\n",
       "       b'Car1', b'Car2', b'Fnx1', b'Leo1', b'Tuc2', b'Boo1', b'Seg1',\n",
       "       b'UMaj2', b'CanVen2', b'Wil1', b'Her1', b'Leo2', b'Seg2', b'Phx1',\n",
       "       b'Sag1', b'UMaj1', b'Gru1', b'Tri2', b'CanVen1', b'Boo2', b'Sext1',\n",
       "       b'Leo5', b'ComBer1', b'Cra2', b'Leo4', b'Dra1', b'UMin1', b'Pis2',\n",
       "       b'Aqu2', b'Scu1', b'Tuc3', b'Dra2', b'Eri2'], dtype='|S7')"
      ]
     },
     "execution_count": 467,
     "metadata": {},
     "output_type": "execute_result"
    }
   ],
   "source": [
    "name[bound_sats]"
   ]
  },
  {
   "cell_type": "code",
   "execution_count": 468,
   "metadata": {},
   "outputs": [
    {
     "data": {
      "text/plain": [
       "array([b'Phx2', b'Hyd1', b'Hor1', b'Ret2', b'Car3', b'Boo3', b'Hyd2',\n",
       "       b'Car1', b'Car2', b'Fnx1', b'Leo1', b'Tuc2', b'Boo1', b'Seg1',\n",
       "       b'UMaj2', b'CanVen2', b'Wil1', b'Her1', b'Leo2', b'Seg2', b'Phx1',\n",
       "       b'Sag1', b'UMaj1', b'Gru1', b'Tri2', b'CanVen1', b'Boo2', b'Sext1',\n",
       "       b'Leo5', b'ComBer1', b'Cra2', b'Leo4', b'Dra1', b'UMin1', b'Pis2',\n",
       "       b'Aqu2', b'Scu1', b'Tuc3', b'Dra2', b'Eri2'], dtype='|S7')"
      ]
     },
     "execution_count": 468,
     "metadata": {},
     "output_type": "execute_result"
    }
   ],
   "source": [
    "name[bound_sats2]"
   ]
  },
  {
   "cell_type": "code",
   "execution_count": 469,
   "metadata": {},
   "outputs": [],
   "source": [
    "colors = (E[dist_cut]-np.min(E[dist_cut])+1)"
   ]
  },
  {
   "cell_type": "code",
   "execution_count": 476,
   "metadata": {},
   "outputs": [
    {
     "data": {
      "image/png": "[encoded data removed]",
      "text/plain": [
       "<matplotlib.figure.Figure at 0x7eff467949e8>"
      ]
     },
     "metadata": {},
     "output_type": "display_data"
    }
   ],
   "source": [
    "figure(figsize=(7,6))\n",
    "contourf(y_grid, z_grid, np.log10(np.abs(rho_biff.reshape((182, 182)))).T, 40, cmap='Spectral_r', origin='lower')\n",
    "im = scatter(y[dist_cut], z[dist_cut], s=d[dist_cut], c=np.log10(colors), cmap='ocean')\n",
    "xlim(-100, 100)\n",
    "ylim(-100, 100)\n",
    "texts = [plt.text(y[dist_cut][i], z[dist_cut][i], \n",
    "                  (name.astype(str)[dist_cut][i]), fontsize=14) for i in range(len(x[dist_cut]))]\n",
    "adjust_text(texts)\n",
    "cbar = colorbar(im)\n",
    "xlabel('y[kpc]')\n",
    "ylabel('z[kpc]')\n",
    "savefig('LMC bound_satellites.png', bbox_inches='tight')"
   ]
  },
  {
   "cell_type": "code",
   "execution_count": 479,
   "metadata": {},
   "outputs": [],
   "source": [
    "savetxt('rho_bfe_lmc5_bound_2T_V_s182x182_sn20.txt', rho_biff)"
   ]
  },
  {
   "cell_type": "code",
   "execution_count": 505,
   "metadata": {},
   "outputs": [
    {
     "data": {
      "text/plain": [
       "array(['Car1', 'Dra1', 'Fnx1', 'Leo1', 'Leo2', 'Sag1', 'Scu1', 'Sext1',\n",
       "       'UMin1', 'Aqu2', 'Boo1', 'Boo2', 'Boo3', 'CanVen1', 'CanVen2',\n",
       "       'Car2', 'Car3', 'ComBer1', 'Cra2', 'Dra2', 'Eri2', 'Gru1', 'Her1',\n",
       "       'Hor1', 'Hyd1', 'Hyd2', 'Leo4', 'Leo5', 'Phx1', 'Phx2', 'Pis2',\n",
       "       'Ret2', 'Seg1', 'Seg2', 'Tri2', 'Tuc2', 'Tuc3', 'UMaj1', 'UMaj2',\n",
       "       'Wil1'], dtype='<U7')"
      ]
     },
     "execution_count": 505,
     "metadata": {},
     "output_type": "execute_result"
    }
   ],
   "source": [
    "name.astype(str)"
   ]
  },
  {
   "cell_type": "code",
   "execution_count": 515,
   "metadata": {},
   "outputs": [],
   "source": [
    "savetxt('Energy_from_LMC_all_dwarfs.txt', np.array([name.astype(str), E]).T, delimiter='  ', fmt=\"%s\")"
   ]
  },
  {
   "cell_type": "code",
   "execution_count": 519,
   "metadata": {},
   "outputs": [
    {
     "name": "stdout",
     "output_type": "stream",
     "text": [
      "Car1  32359.92760279897\n",
      "Dra1  202484.60776160113\n",
      "Fnx1  41801.71887987001\n",
      "Leo1  53076.65101755078\n",
      "Leo2  117366.44322011707\n",
      "Sag1  122351.41088973524\n",
      "Scu1  263600.9501808844\n",
      "Sext1  145230.21699400517\n",
      "UMin1  211610.9153403723\n",
      "Aqu2  255364.8320137006\n",
      "Boo1  63251.87387368528\n",
      "Boo2  139129.48921855108\n",
      "Boo3  27388.18045089222\n",
      "CanVen1  135170.1965312762\n",
      "CanVen2  87228.22833582843\n",
      "Car2  36800.83595871963\n",
      "Car3  17132.566908837012\n",
      "ComBer1  162269.48844977602\n",
      "Cra2  162851.26722304843\n",
      "Dra2  425431.49779955763\n",
      "Eri2  736685.1885565078\n",
      "Gru1  126709.50064302048\n",
      "Her1  101444.45341962451\n",
      "Hor1  5575.605807693371\n",
      "Hyd1  5494.348287865163\n",
      "Hyd2  28091.248954080187\n",
      "Leo4  166650.32355684967\n",
      "Leo5  149842.76821601362\n",
      "Phx1  121324.30321423589\n",
      "Phx2  -3144.1161219874452\n",
      "Pis2  213919.2044050376\n",
      "Ret2  13199.015181532348\n",
      "Seg1  63926.30249470031\n",
      "Seg2  119496.95600416516\n",
      "Tri2  133586.0366582868\n",
      "Tuc2  62219.01403279989\n",
      "Tuc3  287467.0427170649\n",
      "UMaj1  122834.69798698886\n",
      "UMaj2  65036.71566159582\n",
      "Wil1  100065.32603631899\n"
     ]
    }
   ],
   "source": [
    "!head -40 Energy_from_LMC_all_dwarfs.txt"
   ]
  },
  {
   "cell_type": "code",
   "execution_count": null,
   "metadata": {},
   "outputs": [],
   "source": [
    "savetxt(rho_biff)"
   ]
  },
  {
   "cell_type": "code",
   "execution_count": 72,
   "metadata": {},
   "outputs": [],
   "source": [
    "bbins = 180\n",
    "lbins = 360\n",
    "\n",
    "d_b_rads = np.linspace(-np.pi/2., np.pi/2., bbins)\n",
    "d_l_rads = np.linspace(-np.pi, np.pi, lbins)\n",
    "l_grid, b_grid = np.meshgrid(d_l_rads, d_b_rads)\n",
    "dist = 50 \n",
    "\n",
    "\n",
    "c = SkyCoord(l=l_grid*u.radian, b=b_grid*u.radian, distance = dist*u.kpc, frame='galactic')\n"
   ]
  },
  {
   "cell_type": "code",
   "execution_count": 96,
   "metadata": {},
   "outputs": [],
   "source": [
    "x_grid, y_grid, z_grid = c.cartesian.x, c.cartesian.y, c.cartesian.z"
   ]
  }
 ],
 "metadata": {
  "kernelspec": {
   "display_name": "Python 3",
   "language": "python",
   "name": "python3"
  },
  "language_info": {
   "codemirror_mode": {
    "name": "ipython",
    "version": 3
   },
   "file_extension": ".py",
   "mimetype": "text/x-python",
   "name": "python",
   "nbconvert_exporter": "python",
   "pygments_lexer": "ipython3",
   "version": "3.5.2"
  }
 },
 "nbformat": 4,
 "nbformat_minor": 2
}
