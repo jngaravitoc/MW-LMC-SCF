{
 "cells": [
  {
   "cell_type": "markdown",
   "metadata": {},
   "source": [
    "# Reading acclerations"
   ]
  },
  {
   "cell_type": "code",
   "execution_count": 240,
   "metadata": {},
   "outputs": [
    {
     "name": "stdout",
     "output_type": "stream",
     "text": [
      "Populating the interactive namespace from numpy and matplotlib\n"
     ]
    },
    {
     "name": "stderr",
     "output_type": "stream",
     "text": [
      "/usr/local/lib/python3.5/dist-packages/IPython/core/magics/pylab.py:160: UserWarning: pylab import has clobbered these variables: ['f']\n",
      "`%matplotlib` prevents importing * from pylab and numpy\n",
      "  \"\\n`%matplotlib` prevents importing * from pylab and numpy\"\n"
     ]
    }
   ],
   "source": [
    "%pylab inline\n",
    "import pygadgetreader"
   ]
  },
  {
   "cell_type": "code",
   "execution_count": 220,
   "metadata": {},
   "outputs": [
    {
     "name": "stdout",
     "output_type": "stream",
     "text": [
      "256\n",
      "12000000 blocksize pp\n",
      "4000000 blocksize ids\n",
      "4000000 blocksize mass\n"
     ]
    }
   ],
   "source": [
    "filename='./gadget3_MWLMC5_100M_b1_dmhalopart_elgato_001'\n",
    "f = open(filename,'rb')    \n",
    "blocksize = np.fromfile(f,dtype=np.int32,count=1)[0]\n",
    "print(blocksize)\n",
    "bytesleft=96\n",
    "npart=np.fromfile(f, dtype=np.int32, count=6)\n",
    "massarr = np.fromfile(f,dtype=np.float64,count=6)\n",
    "time = (np.fromfile(f,dtype=np.float64,count=1))[0]\n",
    "redshift = (np.fromfile(f,dtype=np.float64,count=1))[0]\n",
    "sfr=(np.fromfile(f,dtype=np.int32,count=1))[0]\n",
    "feedback = (np.fromfile(f,dtype=np.int32,count=1))[0]\n",
    "nall = np.fromfile(f,dtype=np.int32,count=6)\n",
    "cooling = (np.fromfile(f,dtype=np.int32,count=1))[0]\n",
    "filenum = (np.fromfile(f,dtype=np.int32,count=1))[0]\n",
    "boxsize = (np.fromfile(f,dtype=np.float64,count=1))[0]\n",
    "omega_m = (np.fromfile(f,dtype=np.float64,count=1))[0]\n",
    "omega_l = (np.fromfile(f,dtype=np.float64,count=1))[0]\n",
    "hubble = (np.fromfile(f,dtype=np.float64,count=1))[0]\n",
    "headerend = np.fromfile(f, dtype=np.int8, count=96)\n",
    "blocksize = np.fromfile(f,dtype=np.int32,count=1)[0]\n",
    "#print headerend\n",
    "#print blocksize\n",
    "\n",
    "blocksize = np.fromfile(f,dtype=np.int32,count=1)[0]\n",
    "#print blocksize, 'blocksize pp'\n",
    "#ntot=np.int64(np.sum(npart))\n",
    "dt = np.dtype((np.float32,3)) # type of entry for POS, VEL, ACCEL, etc.\n",
    "pp=np.fromfile(f, dtype=np.dtype(dt), count=np.sum(npart))\n",
    "#print pp, np.size(pp)\n",
    "blocksize = np.fromfile(f,dtype=np.uint32,count=1)[0]\n",
    "print(blocksize, 'blocksize pp')\n",
    "\n",
    "\n",
    "blocksize = np.fromfile(f,dtype=np.uint32,count=1)[0]\n",
    "#print blocksize, 'blocksize vv'\n",
    "vv=np.fromfile(f, dtype=dt, count=np.sum(npart))\n",
    "blocksize = np.fromfile(f,dtype=np.uint32,count=1)[0]\n",
    "#print blocksize, 'blocksize vv'\n",
    "\n",
    "\n",
    "blocksize = np.fromfile(f,dtype=np.uint32,count=1)[0]\n",
    "#print blocksize, 'blocksize ids'\n",
    "ids=np.fromfile(f, dtype=np.uint32, count=np.sum(npart))\n",
    "blocksize = np.fromfile(f,dtype=np.uint32,count=1)[0]\n",
    "print(blocksize, 'blocksize ids')\n",
    "\n",
    "#print ids, 'ids'\n",
    "blocksize = np.fromfile(f,dtype=np.uint32,count=1)[0]\n",
    "mass=np.fromfile(f, dtype=np.float32, count=np.sum(npart))\n",
    "blocksize = np.fromfile(f,dtype=np.uint32,count=1)[0]\n",
    "\n",
    "print(blocksize, 'blocksize mass')\n",
    "\n",
    "\n",
    "blocksize = np.fromfile(f,dtype=np.uint32,count=1)[0]\n",
    "#print blocksize, 'blocksize vv'\n",
    "pot=np.fromfile(f, dtype=np.float32, count=np.sum(npart))\n",
    "blocksize = np.fromfile(f,dtype=np.uint32,count=1)[0]\n",
    "\n",
    "\n",
    "blocksize = np.fromfile(f,dtype=np.uint32,count=1)[0]\n",
    "#print blocksize, 'blocksize vv'\n",
    "acc=np.fromfile(f, dtype=dt, count=np.sum(npart))\n",
    "#blocksize = np.fromfile(f,dtype=np.uint32,count=1)[0]\n",
    "\n",
    "\n",
    "#blocksize = np.fromfile(f,dtype=np.uint32,count=1)[0]\n",
    "#print blocksize, 'blocksize vv'\n",
    "#o=np.fromfile(f, dtype=np.float32, count=np.sum(npart))\n",
    "#blocksize = np.fromfile(f,dtype=np.uint32,count=1)[0]"
   ]
  },
  {
   "cell_type": "code",
   "execution_count": 221,
   "metadata": {},
   "outputs": [
    {
     "data": {
      "text/plain": [
       "array([ -603.59674072,  -597.44714355,  -597.76538086, ..., -2857.72680664,\n",
       "       -2771.85595703, -3043.56274414], dtype=float32)"
      ]
     },
     "execution_count": 221,
     "metadata": {},
     "output_type": "execute_result"
    }
   ],
   "source": [
    "pot"
   ]
  },
  {
   "cell_type": "code",
   "execution_count": 222,
   "metadata": {},
   "outputs": [
    {
     "data": {
      "text/plain": [
       "-3043.5627"
      ]
     },
     "execution_count": 222,
     "metadata": {},
     "output_type": "execute_result"
    }
   ],
   "source": [
    "pot[-1]"
   ]
  },
  {
   "cell_type": "code",
   "execution_count": 239,
   "metadata": {},
   "outputs": [
    {
     "data": {
      "text/plain": [
       "array([[ -37.17107773,  -42.85184097,   52.1582489 ],\n",
       "       [-106.15615845,  -45.60380173,   90.44916534],\n",
       "       [ -34.69073486,   94.69203186,   62.94514084],\n",
       "       ..., \n",
       "       [ -32.67156219,    3.58210349,   35.72291183],\n",
       "       [ -40.89318466, -148.38252258,    4.85238934],\n",
       "       [  -7.91691732,  -16.3109436 ,   55.09477997]], dtype=float32)"
      ]
     },
     "execution_count": 239,
     "metadata": {},
     "output_type": "execute_result"
    }
   ],
   "source": [
    "vv"
   ]
  },
  {
   "cell_type": "code",
   "execution_count": 224,
   "metadata": {},
   "outputs": [
    {
     "data": {
      "text/plain": [
       "array([[ 1.7611624 ,  0.41812015, -0.93804699],\n",
       "       [ 1.72687924,  0.40059707, -0.9537074 ],\n",
       "       [ 1.77590168,  0.23244216, -0.91711491],\n",
       "       ..., \n",
       "       [-3.23107648, -5.07759809, -1.33190036],\n",
       "       [-3.04420733, -4.95467043, -1.70680201],\n",
       "       [-3.60209346, -4.99016047, -1.66878486]], dtype=float32)"
      ]
     },
     "execution_count": 224,
     "metadata": {},
     "output_type": "execute_result"
    }
   ],
   "source": [
    "acc"
   ]
  },
  {
   "cell_type": "code",
   "execution_count": 228,
   "metadata": {},
   "outputs": [],
   "source": [
    "r_mwlmc = (pp[:,0]**2 + pp[:,1]**2 + pp[:,2]**2)**0.5\n",
    "r_cut = where(r_mwlmc < 300)\n"
   ]
  },
  {
   "cell_type": "code",
   "execution_count": 237,
   "metadata": {},
   "outputs": [
    {
     "data": {
      "image/png": "[encoded data removed]",
      "text/plain": [
       "<matplotlib.figure.Figure at 0x7f081a9ab668>"
      ]
     },
     "metadata": {},
     "output_type": "display_data"
    }
   ],
   "source": [
    "ax = figure(figsize=(6, 6))\n",
    "scatter(r_mwlmc[r_cut], (acc[r_cut, 0]**2 + acc[r_cut, 1]**2 + acc[r_cut, 2]**2)**0.5, s=0.1, c='k')\n",
    "xscale('log')\n",
    "yscale('log')"
   ]
  },
  {
   "cell_type": "code",
   "execution_count": 238,
   "metadata": {},
   "outputs": [],
   "source": [
    "savetxt('acclerations_mwlmc5_b1_1e6.txt', acc[r_cut])\n",
    "savetxt('pos_mwlmc5_b1_1e6.txt', pp[r_cut])"
   ]
  },
  {
   "cell_type": "code",
   "execution_count": 226,
   "metadata": {},
   "outputs": [
    {
     "name": "stdout",
     "output_type": "stream",
     "text": [
      "Returning DM    Potential\n"
     ]
    },
    {
     "data": {
      "text/plain": [
       "array([ -603.59674072,  -597.44714355,  -597.76538086, ..., -2857.72680664,\n",
       "       -2771.85595703, -3043.56274414], dtype=float32)"
      ]
     },
     "execution_count": 226,
     "metadata": {},
     "output_type": "execute_result"
    }
   ],
   "source": [
    "pygadgetreader.readsnap('gadget3_MWLMC5_100M_b1_dmhalopart_elgato_001', 'pot', 'dm')"
   ]
  },
  {
   "cell_type": "code",
   "execution_count": null,
   "metadata": {},
   "outputs": [],
   "source": []
  }
 ],
 "metadata": {
  "kernelspec": {
   "display_name": "Python 3",
   "language": "python",
   "name": "python3"
  },
  "language_info": {
   "codemirror_mode": {
    "name": "ipython",
    "version": 3
   },
   "file_extension": ".py",
   "mimetype": "text/x-python",
   "name": "python",
   "nbconvert_exporter": "python",
   "pygments_lexer": "ipython3",
   "version": "3.5.2"
  }
 },
 "nbformat": 4,
 "nbformat_minor": 2
}
