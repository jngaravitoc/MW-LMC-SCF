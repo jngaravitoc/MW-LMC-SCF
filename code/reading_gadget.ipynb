{
 "cells": [
  {
   "cell_type": "markdown",
   "metadata": {},
   "source": [
    "# Reading acclerations"
   ]
  },
  {
   "cell_type": "code",
   "execution_count": 1,
   "metadata": {},
   "outputs": [
    {
     "name": "stdout",
     "output_type": "stream",
     "text": [
      "Populating the interactive namespace from numpy and matplotlib\n"
     ]
    }
   ],
   "source": [
    "%pylab inline"
   ]
  },
  {
   "cell_type": "code",
   "execution_count": 143,
   "metadata": {},
   "outputs": [
    {
     "name": "stdout",
     "output_type": "stream",
     "text": [
      "256\n",
      "12000000 blocksize pp\n",
      "8000000 blocksize ids\n",
      "4000000 blocksize mass\n"
     ]
    }
   ],
   "source": [
    "filename='./MWLMC5_100M_b1_dmhalopart_1e6_000'\n",
    "f = open(filename,'rb')    \n",
    "blocksize = np.fromfile(f,dtype=np.int32,count=1)[0]\n",
    "print(blocksize)\n",
    "bytesleft=96\n",
    "npart=np.fromfile(f, dtype=np.int32, count=6)\n",
    "massarr = np.fromfile(f,dtype=np.float64,count=6)\n",
    "time = (np.fromfile(f,dtype=np.float64,count=1))[0]\n",
    "redshift = (np.fromfile(f,dtype=np.float64,count=1))[0]\n",
    "sfr=(np.fromfile(f,dtype=np.int32,count=1))[0]\n",
    "feedback = (np.fromfile(f,dtype=np.int32,count=1))[0]\n",
    "nall = np.fromfile(f,dtype=np.int32,count=6)\n",
    "cooling = (np.fromfile(f,dtype=np.int32,count=1))[0]\n",
    "filenum = (np.fromfile(f,dtype=np.int32,count=1))[0]\n",
    "boxsize = (np.fromfile(f,dtype=np.float64,count=1))[0]\n",
    "omega_m = (np.fromfile(f,dtype=np.float64,count=1))[0]\n",
    "omega_l = (np.fromfile(f,dtype=np.float64,count=1))[0]\n",
    "hubble = (np.fromfile(f,dtype=np.float64,count=1))[0]\n",
    "headerend = np.fromfile(f, dtype=np.int8, count=96)\n",
    "blocksize = np.fromfile(f,dtype=np.int32,count=1)[0]\n",
    "#print headerend\n",
    "#print blocksize\n",
    "\n",
    "blocksize = np.fromfile(f,dtype=np.int32,count=1)[0]\n",
    "#print blocksize, 'blocksize pp'\n",
    "#ntot=np.int64(np.sum(npart))\n",
    "dt = np.dtype((np.float32,3)) # type of entry for POS, VEL, ACCEL, etc.\n",
    "pp=np.fromfile(f, dtype=np.dtype(dt), count=np.sum(npart))\n",
    "#print pp, np.size(pp)\n",
    "blocksize = np.fromfile(f,dtype=np.uint32,count=1)[0]\n",
    "print(blocksize, 'blocksize pp')\n",
    "\n",
    "\n",
    "blocksize = np.fromfile(f,dtype=np.uint32,count=1)[0]\n",
    "#print blocksize, 'blocksize vv'\n",
    "vv=np.fromfile(f, dtype=dt, count=np.sum(npart))\n",
    "blocksize = np.fromfile(f,dtype=np.uint32,count=1)[0]\n",
    "#print blocksize, 'blocksize vv'\n",
    "\n",
    "\n",
    "blocksize = np.fromfile(f,dtype=np.uint32,count=1)[0]\n",
    "#print blocksize, 'blocksize ids'\n",
    "ids=np.fromfile(f, dtype=np.uint64, count=np.sum(npart))\n",
    "blocksize = np.fromfile(f,dtype=np.uint32,count=1)[0]\n",
    "print(blocksize, 'blocksize ids')\n",
    "\n",
    "#print ids, 'ids'\n",
    "blocksize = np.fromfile(f,dtype=np.uint32,count=1)[0]\n",
    "mass=np.fromfile(f, dtype=np.float32, count=np.sum(npart))\n",
    "blocksize = np.fromfile(f,dtype=np.uint32,count=1)[0]\n",
    "\n",
    "print(blocksize, 'blocksize mass')\n",
    "\n",
    "\n",
    "blocksize = np.fromfile(f,dtype=np.uint32,count=1)[0]\n",
    "#print blocksize, 'blocksize vv'\n",
    "pot=np.fromfile(f, dtype=np.float32, count=np.sum(npart))\n",
    "blocksize = np.fromfile(f,dtype=np.uint32,count=1)[0]\n",
    "\n",
    "\n",
    "blocksize = np.fromfile(f,dtype=np.uint32,count=1)[0]\n",
    "#print blocksize, 'blocksize vv'\n",
    "acc=np.fromfile(f, dtype=dt, count=np.sum(npart))\n",
    "blocksize = np.fromfile(f,dtype=np.uint32,count=1)[0]"
   ]
  },
  {
   "cell_type": "code",
   "execution_count": 127,
   "metadata": {},
   "outputs": [
    {
     "data": {
      "text/plain": [
       "array([-0.97146368, -0.93739611, -0.79013902, ..., -0.97311884,\n",
       "       -0.82970923, -0.80659878], dtype=float32)"
      ]
     },
     "execution_count": 127,
     "metadata": {},
     "output_type": "execute_result"
    }
   ],
   "source": [
    "pot"
   ]
  },
  {
   "cell_type": "code",
   "execution_count": 128,
   "metadata": {},
   "outputs": [
    {
     "data": {
      "text/plain": [
       "-0.80659878"
      ]
     },
     "execution_count": 128,
     "metadata": {},
     "output_type": "execute_result"
    }
   ],
   "source": [
    "pot[-1]"
   ]
  },
  {
   "cell_type": "code",
   "execution_count": 154,
   "metadata": {},
   "outputs": [
    {
     "data": {
      "text/plain": [
       "array([[-45169.59375   , -50011.8515625 , -18282.265625  ],\n",
       "       [-49563.4921875 , -52402.3359375 ,  -5848.80664062],\n",
       "       [-57905.29296875, -62902.265625  ,  -7731.42480469],\n",
       "       ..., \n",
       "       [-53358.93359375, -43535.75390625,  10799.48046875],\n",
       "       [-52678.26953125, -48955.3984375 ,  38884.94921875],\n",
       "       [-55686.5390625 , -44283.609375  ,  44831.1953125 ]], dtype=float32)"
      ]
     },
     "execution_count": 154,
     "metadata": {},
     "output_type": "execute_result"
    }
   ],
   "source": [
    "pp"
   ]
  },
  {
   "cell_type": "code",
   "execution_count": null,
   "metadata": {},
   "outputs": [],
   "source": []
  }
 ],
 "metadata": {
  "kernelspec": {
   "display_name": "Python 3",
   "language": "python",
   "name": "python3"
  },
  "language_info": {
   "codemirror_mode": {
    "name": "ipython",
    "version": 3
   },
   "file_extension": ".py",
   "mimetype": "text/x-python",
   "name": "python",
   "nbconvert_exporter": "python",
   "pygments_lexer": "ipython3",
   "version": "3.5.2"
  }
 },
 "nbformat": 4,
 "nbformat_minor": 2
}
