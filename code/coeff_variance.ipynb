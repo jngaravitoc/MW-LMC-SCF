{
 "cells": [
  {
   "cell_type": "code",
   "execution_count": 2,
   "metadata": {},
   "outputs": [
    {
     "name": "stdout",
     "output_type": "stream",
     "text": [
      "Populating the interactive namespace from numpy and matplotlib\n"
     ]
    }
   ],
   "source": [
    "%pylab inline\n",
    "import biff\n",
    "from scipy import special\n",
    "import pygadgetreader\n",
    "import reading_snapshots"
   ]
  },
  {
   "cell_type": "code",
   "execution_count": 3,
   "metadata": {},
   "outputs": [],
   "source": [
    "font = {'size':18, 'family':'serif'}\n",
    "matplotlib.rc('font', **font)\n"
   ]
  },
  {
   "cell_type": "code",
   "execution_count": 3,
   "metadata": {},
   "outputs": [],
   "source": [
    "def xi_transformation(r):\n",
    "    return (r-1)/(r+1)\n",
    "\n",
    "def Anl(n, l):\n",
    "    knl = 0.5*n*(n+4*l+3) + (l+1)*(2*l+1)\n",
    "    A_nl = - 2**(8*l+6)/(4*np.pi*knl) * (special.factorial(n)*(n+2*l+3/2.)*(special.gamma(2*l+3/2.))**2)/(special.gamma(n+4*l+3))\n",
    "    return A_nl\n",
    "\n",
    "def phi_nl(n, l, r, a):\n",
    "    xi = xi_transformation(r)\n",
    "    return - special.eval_gegenbauer(n, 2*l + 3/2., xi)*(4*np.pi)**(0.5)*(r/a)**l/((1+r/a)**(2*l+1))  \n",
    "\n",
    "def rho_nl(n, l, r, a):\n",
    "    xi = xi_transformation(r)\n",
    "    knl = 0.5*n*(n+4*l+3) + (l+1)*(2*l+1)\n",
    "\n",
    "    return knl/(2*np.pi) * special.eval_gegenbauer(n, 2*l + 3/2., xi)*(4*np.pi)**(0.5)*(r/a)**l/((1+r/a)**(2*l+3))\n",
    "\n",
    "\n",
    "def Anl(n, l):\n",
    "    knl = 0.5*n*(n+4*l+3) + (l+1)*(2*l+1)\n",
    "    A_nl = - 2**(8*l+6)/(4*np.pi*knl) * (special.factorial(n)*(n+2*l+3/2.)*(special.gamma(2*l+3/2.))**2)/(special.gamma(n+4*l+3))\n",
    "    return A_nl\n",
    "\n",
    "def snl(n, l, m, m_p, r_p, theta_p, phi_p, a):\n",
    "    A_nl = Anl(n,l)\n",
    "    if m==0:\n",
    "        S_nl = A_nl * np.sum(m_p*phi_nl(n, l, r_p, a)*special.sph_harm(m, l, 0, theta_p)*np.cos(m*phi_p))\n",
    "        print(np.sum(phi_nl(n, l, r_p, a)), np.sum(special.sph_harm(m, l, 0, theta_p)), A_nl)\n",
    "    if m!=0:\n",
    "        S_nl = 2.*A_nl * np.sum(m_p*phi_nl(n, l, r_p, a)*special.sph_harm(m, l, 0, theta_p)*np.cos(m*phi_p))\n",
    "    return S_nl.real\n",
    "\n",
    "def var_snl(n, l, m, m_p, r_p, theta_p, phi_p, a):\n",
    "    \"\"\"\n",
    "    Computing the variance of S_nl\n",
    "    \n",
    "    \n",
    "    \"\"\"\n",
    "    A_nl = Anl(n,l)\n",
    "    if m==0:\n",
    "        var_S_nl = A_nl**2 * np.sum(m_p**2*phi_nl(n, l, r_p, a)**2*special.sph_harm(m, l, 0, theta_p)**2*np.cos(m*phi_p)**2)\n",
    "        #print(np.sum(phi_nl(n, l, r_p, a)), np.sum(special.sph_harm(m, l, 0, theta_p)), A_nl)\n",
    "    if m!=0:\n",
    "        var_S_nl = (2.*A_nl)**2 * np.sum(m_p**2*phi_nl(n, l, r_p, a)**2*special.sph_harm(m, l, 0, theta_p)**2*np.cos(m*phi_p)**2)\n",
    "    return var_S_nl.real - snl(n, l, m, m_p, r_p, theta_p, phi_p, a)**2\n",
    "\n",
    "def b_Snlm(n, l, m, m_p, r_p, theta_p, phi_p, a):\n",
    "    b_nlm = 1/(1 + var_snl(n, l, m, m_p, r_p, theta_p, phi_p, a)/snl(n, l, m, m_p, r_p, theta_p, phi_p, a)**2)\n",
    "    return b_nlm"
   ]
  },
  {
   "cell_type": "code",
   "execution_count": 158,
   "metadata": {},
   "outputs": [
    {
     "name": "stdout",
     "output_type": "stream",
     "text": [
      "Returning DM    Positions\n",
      "Returning DM    Velocities\n",
      "Returning DM    Particle IDs\n",
      "Returning DISK  Positions\n",
      "Returning DISK  Velocities\n",
      "Returning DISK  Potential\n",
      "Returning DM    Potential\n",
      "Loading MW particles and LMC particles\n"
     ]
    }
   ],
   "source": [
    "MW_post = reading_snapshots.read_MW_snap_com_coordinates('../../MW_anisotropy/code/test_snaps/', 'MWLMC5_100M_new_b1_110', LMC=True,\n",
    "                                                                 N_halo_part=100000000, pot=True)"
   ]
  },
  {
   "cell_type": "code",
   "execution_count": 32,
   "metadata": {},
   "outputs": [
    {
     "name": "stdout",
     "output_type": "stream",
     "text": [
      "Returning DM    Mass\n"
     ]
    }
   ],
   "source": [
    "M_dm = pygadgetreader.readsnap('../../MW_anisotropy/code/test_snaps/MWLMC5_100M_new_b1_110', 'mass', 'dm')"
   ]
  },
  {
   "cell_type": "code",
   "execution_count": 33,
   "metadata": {},
   "outputs": [
    {
     "data": {
      "text/plain": [
       "1.5772125e-06"
      ]
     },
     "execution_count": 33,
     "metadata": {},
     "output_type": "execute_result"
    }
   ],
   "source": [
    "M_dm[0]"
   ]
  },
  {
   "cell_type": "code",
   "execution_count": null,
   "metadata": {},
   "outputs": [],
   "source": [
    "MW_iso = reading_snapshots.read_MW_snap_com_coordinates('../../MW_anisotropy/code/test_snaps/', 'MW_post', LMC=True,\n",
    "                                                                 N_halo_part=40000000, pot=True)"
   ]
  },
  {
   "cell_type": "code",
   "execution_count": 159,
   "metadata": {},
   "outputs": [],
   "source": [
    "r_mwlmc5 = (MW_post[0][:,0]**2 + MW_post[0][:,1]**2 + MW_post[0][:,2]**2)**0.5\n",
    "index_cut = np.where(r_mwlmc5 < 300)[0]"
   ]
  },
  {
   "cell_type": "code",
   "execution_count": 160,
   "metadata": {},
   "outputs": [
    {
     "data": {
      "text/plain": [
       "77615338"
      ]
     },
     "execution_count": 160,
     "metadata": {},
     "output_type": "execute_result"
    }
   ],
   "source": [
    "len(index_cut)"
   ]
  },
  {
   "cell_type": "code",
   "execution_count": 161,
   "metadata": {},
   "outputs": [],
   "source": [
    "savetxt('MWLMC5_pos_100M_b1.txt', np.array([MW_post[0][index_cut,0], MW_post[0][index_cut,1], MW_post[0][index_cut,2], np.ones(len(index_cut))]).T)"
   ]
  },
  {
   "cell_type": "code",
   "execution_count": 36,
   "metadata": {},
   "outputs": [],
   "source": [
    "rmw = r_mwlmc5[index_cut] \n",
    "theta_mw = np.arccos(MW_post[0][index_cut,2]/rmw)\n",
    "phi_mw = np.arctan2(MW_post[0][index_cut,1], MW_post[0][index_cut,0])"
   ]
  },
  {
   "cell_type": "code",
   "execution_count": 48,
   "metadata": {},
   "outputs": [
    {
     "name": "stdout",
     "output_type": "stream",
     "text": [
      "-45906880.083752126 (8815737.003260335+0j) -2.9999999999999996\n",
      "CPU times: user 7.09 s, sys: 237 ms, total: 7.33 s\n",
      "Wall time: 7.33 s\n"
     ]
    },
    {
     "data": {
      "text/plain": [
       "(38850275.334643304, -45906880.083752126, (8815737.003260335+0j))"
      ]
     },
     "execution_count": 48,
     "metadata": {},
     "output_type": "execute_result"
    }
   ],
   "source": [
    "%time snl(0, 0, 0, np.ones(len(index_cut)), rmw, theta_mw, phi_mw, 40.8)"
   ]
  },
  {
   "cell_type": "code",
   "execution_count": 84,
   "metadata": {},
   "outputs": [
    {
     "name": "stdout",
     "output_type": "stream",
     "text": [
      "CPU times: user 21min 15s, sys: 1.35 s, total: 21min 16s\n",
      "Wall time: 21min 17s\n"
     ]
    }
   ],
   "source": [
    "%time S_mwlmc, T_mwlmc = biff.compute_coeffs_discrete(np.double(MW_post[0][index_cut]), np.double(np.ones(len(index_cut))), 5, 5, skip_m=False, r_s=40.85)"
   ]
  },
  {
   "cell_type": "code",
   "execution_count": 110,
   "metadata": {},
   "outputs": [
    {
     "data": {
      "text/plain": [
       "array([38873482.89261942,        0.        ,        0.        ,\n",
       "              0.        ,        0.        ,        0.        ])"
      ]
     },
     "execution_count": 110,
     "metadata": {},
     "output_type": "execute_result"
    }
   ],
   "source": [
    "S_mwlmc[:][0][0]"
   ]
  },
  {
   "cell_type": "code",
   "execution_count": 52,
   "metadata": {},
   "outputs": [
    {
     "name": "stdout",
     "output_type": "stream",
     "text": [
      "-45906880.083752126 (8815737.003260335+0j) -2.9999999999999996\n",
      "CPU times: user 7.45 s, sys: 271 ms, total: 7.72 s\n",
      "Wall time: 7.73 s\n"
     ]
    },
    {
     "data": {
      "text/plain": [
       "-1509343833867636.2"
      ]
     },
     "execution_count": 52,
     "metadata": {},
     "output_type": "execute_result"
    }
   ],
   "source": [
    "%time var_snl(0, 0, 0, np.ones(len(index_cut)), rmw, theta_mw, phi_mw, 40.8)"
   ]
  },
  {
   "cell_type": "code",
   "execution_count": 56,
   "metadata": {},
   "outputs": [
    {
     "name": "stdout",
     "output_type": "stream",
     "text": [
      "-45906880.083752126 (8815737.003260335+0j) -2.9999999999999996\n",
      "-45906880.083752126 (8815737.003260335+0j) -2.9999999999999996\n",
      "CPU times: user 12.6 s, sys: 371 ms, total: 13 s\n",
      "Wall time: 13 s\n"
     ]
    },
    {
     "data": {
      "text/plain": [
       "25277926.022728357"
      ]
     },
     "execution_count": 56,
     "metadata": {},
     "output_type": "execute_result"
    }
   ],
   "source": [
    "%time b_Snlm(0, 0, 0, np.ones(len(index_cut)), rmw, theta_mw, phi_mw, 40.8)"
   ]
  },
  {
   "cell_type": "code",
   "execution_count": 17,
   "metadata": {},
   "outputs": [],
   "source": [
    "coeff_c = np.loadtxt('../data/MWLMC5_coeff_20_20_100M_b1.txt')\n",
    "S_cov = np.loadtxt('../data/MWLMC5_cov_20_20_100M_b1.txt')"
   ]
  },
  {
   "cell_type": "code",
   "execution_count": 18,
   "metadata": {},
   "outputs": [],
   "source": [
    "S = coeff_c[:,0]\n",
    "T = coeff_c[:,1]\n"
   ]
  },
  {
   "cell_type": "code",
   "execution_count": 19,
   "metadata": {},
   "outputs": [],
   "source": [
    "S_matrix = np.zeros((21, 21, 21))\n",
    "T_matrix = np.zeros((21, 21, 21))\n",
    "S_cov_matrix = np.zeros((21, 21, 21))"
   ]
  },
  {
   "cell_type": "code",
   "execution_count": 20,
   "metadata": {},
   "outputs": [],
   "source": [
    "S_matrix_1 = np.zeros((21, 21, 21))\n",
    "T_matrix_1 = np.zeros((21, 21, 21))"
   ]
  },
  {
   "cell_type": "code",
   "execution_count": 21,
   "metadata": {},
   "outputs": [],
   "source": [
    "S_matrix_1[0,0,0] = S_matrix[0,0,0]\n",
    "T_matrix_1[0,0,0] = S_matrix[0,0,0]"
   ]
  },
  {
   "cell_type": "code",
   "execution_count": 22,
   "metadata": {},
   "outputs": [],
   "source": [
    "counter = 0\n",
    "for n in range(21):\n",
    "    for l in range(21):\n",
    "        for m in range(0, l+1):\n",
    "            S_matrix[n][l][m] = S[counter]\n",
    "            S_cov_matrix[n][l][m] = S_cov[counter]\n",
    "            T_matrix[n][l][m] = T[counter]\n",
    "            counter +=1"
   ]
  },
  {
   "cell_type": "code",
   "execution_count": 12,
   "metadata": {},
   "outputs": [],
   "source": [
    "y_grid_2 = np.arange(-300, 300, 5)\n",
    "z_grid_2 = np.arange(-300, 300, 5)\n",
    "y_grid_2, z_grid_2 = meshgrid(y_grid_2, z_grid_2)\n",
    "rho_biff = biff.density(np.ascontiguousarray(np.array([np.zeros(len(y_grid_2.flatten())), y_grid_2.flatten(), z_grid_2.flatten()]).T), S_matrix, T_matrix, r_s=40.85)"
   ]
  },
  {
   "cell_type": "code",
   "execution_count": 22,
   "metadata": {},
   "outputs": [],
   "source": [
    "rho_biff_1 = biff.density(np.ascontiguousarray(np.array([np.zeros(len(y_grid_2.flatten())), y_grid_2.flatten(), z_grid_2.flatten()]).T), S_matrix_1, T_matrix_1, r_s=40.85)"
   ]
  },
  {
   "cell_type": "code",
   "execution_count": 23,
   "metadata": {},
   "outputs": [],
   "source": [
    "rho_matrix = reshape(rho_biff, (120, 120))\n",
    "rho_matrix_1 = reshape(rho_biff_1, (120, 120))\n"
   ]
  },
  {
   "cell_type": "code",
   "execution_count": 33,
   "metadata": {},
   "outputs": [
    {
     "data": {
      "text/plain": [
       "<matplotlib.image.AxesImage at 0x7f999707bac8>"
      ]
     },
     "execution_count": 33,
     "metadata": {},
     "output_type": "execute_result"
    },
    {
     "name": "stderr",
     "output_type": "stream",
     "text": [
      "/usr/local/lib/python3.4/dist-packages/matplotlib/font_manager.py:1328: UserWarning: findfont: Font family ['serif'] not found. Falling back to DejaVu Sans\n",
      "  (prop.get_family(), self.defaultFamily[fontext]))\n"
     ]
    },
    {
     "data": {
      "image/png": "[encoded data removed]",
      "text/plain": [
       "<Figure size 432x288 with 1 Axes>"
      ]
     },
     "metadata": {},
     "output_type": "display_data"
    }
   ],
   "source": [
    "#imshow(((rho_matrix)/rho_matrix_1-1), origin='lower')\n",
    "imshow((rho_matrix/rho_matrix_1 -1), origin='lower', cmap='viridis')"
   ]
  },
  {
   "cell_type": "code",
   "execution_count": 177,
   "metadata": {},
   "outputs": [
    {
     "data": {
      "text/plain": [
       "175.71605"
      ]
     },
     "execution_count": 177,
     "metadata": {},
     "output_type": "execute_result"
    }
   ],
   "source": [
    "M_total = np.sum(M_dm)\n",
    "M_total"
   ]
  },
  {
   "cell_type": "code",
   "execution_count": 179,
   "metadata": {},
   "outputs": [],
   "source": [
    "b_nlm = np.zeros((21, 21, 21))\n",
    "for i in range(21):\n",
    "    for j in range(21):\n",
    "        for k in range(0, j+1):\n",
    "            b_nlm[i][j][k] = 1 / (1-M_total*(S_cov_matrix[i][j][k] - S_matrix[i][j][k]**2)/(S_matrix[i][j][k]**2))"
   ]
  },
  {
   "cell_type": "code",
   "execution_count": 180,
   "metadata": {},
   "outputs": [
    {
     "data": {
      "text/plain": [
       "0.99999869896938676"
      ]
     },
     "execution_count": 180,
     "metadata": {},
     "output_type": "execute_result"
    }
   ],
   "source": [
    "1 / (1-(M_dm[0]*(S_cov_matrix[0][20][0] - S_matrix[0][20][0]**2)/(S_matrix[0][20][0]**2)))"
   ]
  },
  {
   "cell_type": "code",
   "execution_count": 181,
   "metadata": {},
   "outputs": [
    {
     "data": {
      "text/plain": [
       "0.0056588071562847049"
      ]
     },
     "execution_count": 181,
     "metadata": {},
     "output_type": "execute_result"
    }
   ],
   "source": [
    "b_nlm[3][0][0]"
   ]
  },
  {
   "cell_type": "code",
   "execution_count": 183,
   "metadata": {},
   "outputs": [
    {
     "data": {
      "text/plain": [
       "<matplotlib.colorbar.Colorbar at 0x7f661a17d4e0>"
      ]
     },
     "execution_count": 183,
     "metadata": {},
     "output_type": "execute_result"
    },
    {
     "data": {
      "image/png": "[encoded data removed]",
      "text/plain": [
       "<matplotlib.figure.Figure at 0x7f661a2d2898>"
      ]
     },
     "metadata": {},
     "output_type": "display_data"
    }
   ],
   "source": [
    "imshow(np.log10(np.abs(b_nlm[:,:,0].T)), origin='lower')\n",
    "colorbar()"
   ]
  },
  {
   "cell_type": "code",
   "execution_count": 29,
   "metadata": {},
   "outputs": [
    {
     "data": {
      "text/plain": [
       "-0.99999998399419565"
      ]
     },
     "execution_count": 29,
     "metadata": {},
     "output_type": "execute_result"
    }
   ],
   "source": [
    "(S_cov_matrix[0][0][0] - S_matrix[0][0][0]**2)/S_matrix[0][0][0]**2"
   ]
  },
  {
   "cell_type": "code",
   "execution_count": 31,
   "metadata": {},
   "outputs": [
    {
     "data": {
      "text/plain": [
       "99.99999999999991"
      ]
     },
     "execution_count": 31,
     "metadata": {},
     "output_type": "execute_result"
    }
   ],
   "source": [
    "1 /(1 + -0.99)"
   ]
  },
  {
   "cell_type": "code",
   "execution_count": null,
   "metadata": {},
   "outputs": [],
   "source": [
    "def mise_error():\n",
    "    for i in n:\n",
    "        for j in l:\n",
    "            for k in m:\n",
    "                b_Snlm(i, j, k, ...) * var_snl(i, j, k ....) + (b_Snlm(i, j, k, ...) - 1)**2 * snl(i, j, k)**2"
   ]
  }
 ],
 "metadata": {
  "kernelspec": {
   "display_name": "Python 3",
   "language": "python",
   "name": "python3"
  },
  "language_info": {
   "codemirror_mode": {
    "name": "ipython",
    "version": 3
   },
   "file_extension": ".py",
   "mimetype": "text/x-python",
   "name": "python",
   "nbconvert_exporter": "python",
   "pygments_lexer": "ipython3",
   "version": "3.5.2"
  }
 },
 "nbformat": 4,
 "nbformat_minor": 2
}
