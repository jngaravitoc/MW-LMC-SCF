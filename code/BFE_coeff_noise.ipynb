{
 "cells": [
  {
   "cell_type": "markdown",
   "metadata": {},
   "source": [
    "- Organize all the data of the coefficients and the covariance (Done)\n",
    "- Compute mean coefficients (Done)\n",
    "- Compute variance (Not sure about this)\n",
    "- Compute smoothing (Done)\n",
    "- Compute S/N (Done)\n",
    "- Select coefficients (Done)\n",
    "- Print coefficients (Done)\n"
   ]
  },
  {
   "cell_type": "code",
   "execution_count": 37,
   "metadata": {},
   "outputs": [
    {
     "name": "stdout",
     "output_type": "stream",
     "text": [
      "Populating the interactive namespace from numpy and matplotlib\n"
     ]
    }
   ],
   "source": [
    "%pylab inline\n",
    "import biff\n"
   ]
  },
  {
   "cell_type": "code",
   "execution_count": 38,
   "metadata": {},
   "outputs": [],
   "source": [
    "font = {'size':18, 'family':'serif'}\n",
    "matplotlib.rc('font', **font)\n"
   ]
  },
  {
   "cell_type": "code",
   "execution_count": 39,
   "metadata": {},
   "outputs": [],
   "source": [
    "r_s_sims = 40.85\n",
    "G_gadget=43007.1 #kpc3/(Gyr2Msun)/1E10."
   ]
  },
  {
   "cell_type": "code",
   "execution_count": 40,
   "metadata": {},
   "outputs": [],
   "source": [
    "## Reading coefficients\n",
    "def reshape_matrix(matrix, n, l, m):\n",
    "    col_matrix = np.zeros((n+1, l+1, m+1))\n",
    "\n",
    "\n",
    "    counter = 0\n",
    "    for n in range(n+1):\n",
    "        for l in range(l+1):\n",
    "            for m in range(0, l+1):\n",
    "                col_matrix[n][l][m] = matrix[counter]\n",
    "                counter +=1\n",
    "    return col_matrix"
   ]
  },
  {
   "cell_type": "code",
   "execution_count": 41,
   "metadata": {},
   "outputs": [],
   "source": [
    "## Reading coefficients\n",
    "def read_coeff_matrix(filename, nfiles, n, l, m, nmin=0, nmax=1000):\n",
    "    print(nmax)\n",
    "\n",
    "    S_matrix = np.zeros((int((n+1)*(l+1)*(l/2.+1)), nfiles))\n",
    "    T_matrix = np.zeros((int((n+1)*(l+1)*(l/2.+1)), nfiles))\n",
    "    \n",
    "    S_mean = np.zeros((int((n+1)*(l+1)*(l/2.+1))))\n",
    "    T_mean = np.zeros((int((n+1)*(l+1)*(l/2.+1))))\n",
    "\n",
    "    for i in range(nmin, nmax):\n",
    "        coeff = np.loadtxt(filename + '{:03d}.txt'.format(i))\n",
    "        S_matrix[:,i] = coeff[:,0]\n",
    "        T_matrix[:,i] = coeff[:,1]\n",
    "        \n",
    "    for i in range(len(S_matrix[:,0])):\n",
    "        S_mean[i] = np.mean(S_matrix[i])\n",
    "        T_mean[i] = np.mean(T_matrix[i])\n",
    "\n",
    "    S_mean_matrix = reshape_matrix(S_mean, n, l, m)\n",
    "    T_mean_matrix = reshape_matrix(T_mean, n, l, m)\n",
    "\n",
    "    return S_mean_matrix, T_mean_matrix\n",
    "\n",
    "## Reading covariance\n",
    "def var_matrix(filename, filename2, nfiles, n, l, m, mass, nmin=0, nmax=1000):\n",
    "    print(nmax)\n",
    "\n",
    "    Scov_matrix = np.zeros((int((n+1)*(l+1)*(l/2.+1)), nfiles))\n",
    "    Tcov_matrix = np.zeros((int((n+1)*(l+1)*(l/2.+1)), nfiles))\n",
    "    \n",
    "    Svar_mean = np.zeros((int((n+1)*(l+1)*(l/2.+1))))\n",
    "    Tvar_mean = np.zeros((int((n+1)*(l+1)*(l/2.+1))))\n",
    "    \n",
    "    \n",
    "    S_matrix = np.zeros((int((n+1)*(l+1)*(l/2.+1)), nfiles))\n",
    "    T_matrix = np.zeros((int((n+1)*(l+1)*(l/2.+1)), nfiles))\n",
    "    \n",
    "    for i in range(nmin, nmax):\n",
    "        cov = np.loadtxt(filename + '{:03d}.tx'.format(i))\n",
    "        coeff = np.loadtxt(filename2 + '{:03d}.txt'.format(i))\n",
    "\n",
    "        Scov_matrix[:,i] = cov[:,0]\n",
    "        Tcov_matrix[:,i] = cov[:,1]\n",
    "        \n",
    "        S_matrix[:,i] = coeff[:,0]\n",
    "        T_matrix[:,i] = coeff[:,1]\n",
    "    \n",
    "\n",
    "    for i in range(len(Scov_matrix[:,0])):\n",
    "        Svar_mean[i] = np.mean((Scov_matrix[i] - mass*S_matrix[i]**2)) #/ nfiles\n",
    "        Tvar_mean[i] = np.mean((Tcov_matrix[i] - mass*T_matrix[1]**2)) #/ nfiles\n",
    "\n",
    "    Svar_mean_matrix = reshape_matrix(Svar_mean, n, l, m)\n",
    "    Tvar_mean_matrix = reshape_matrix(Tvar_mean, n, l, m)\n",
    "        \n",
    "    return Svar_mean_matrix, Tvar_mean_matrix\n",
    "\n"
   ]
  },
  {
   "cell_type": "code",
   "execution_count": 42,
   "metadata": {},
   "outputs": [],
   "source": [
    "def copy_matrix(M, indices):\n",
    "    M_new = np.zeros(shape(M))\n",
    "    for i in range(len(indices[0])):\n",
    "        M_new[indices[0][i]][indices[1][i]][indices[2][i]] = M[indices[0][i]][indices[1][i]][indices[2][i]]\n",
    "    return M_new\n",
    "\n",
    "def smoothing(var_coeff, coeff):\n",
    "    \"\"\"\n",
    "    Coefficients smoothing \n",
    "    \n",
    "    \"\"\"\n",
    "    b_nlm = 1/(1 + var_coeff/coeff**2)\n",
    "    # This line remove nans an put the original values\n",
    "    b_nlm_values = np.nan_to_num(b_nlm)\n",
    "    return b_nlm_values\n",
    "\n",
    "def coefficients_smooth_level(S, T, bs, bt, b_cut, verb=0):\n",
    "    \"\"\"\n",
    "    Returns coefficients with energy higher than e_cut\n",
    "    e_cut : float \n",
    "        between 0 and 1\n",
    "        \n",
    "    \"\"\"\n",
    " \n",
    "    bs_cut_index = np.where(bs>b_cut)\n",
    "    bt_cut_index = np.where(bt>b_cut)\n",
    "    \n",
    "    if verb == 1:\n",
    "        print('N coeff S= ', len(bs_cut_index[0]))\n",
    "        print('N coeff T= ', len(bt_cut_index[0]))\n",
    "\n",
    "    S_new = copy_matrix(S*bs, bs_cut_index)\n",
    "    T_new = copy_matrix(T*bt, bt_cut_index)\n",
    "    \n",
    "    return S_new, T_new, len(bs_cut_index[0]), len(bt_cut_index[0])"
   ]
  },
  {
   "cell_type": "code",
   "execution_count": 43,
   "metadata": {},
   "outputs": [],
   "source": [
    "mass =1.5772125152E-6\n"
   ]
  },
  {
   "cell_type": "code",
   "execution_count": 49,
   "metadata": {},
   "outputs": [
    {
     "name": "stdout",
     "output_type": "stream",
     "text": [
      "39\n",
      "39\n"
     ]
    }
   ],
   "source": [
    "S_mean, T_mean  = read_coeff_matrix('../data/bootstrap_mwlmc_1e6_b1_test/coeff_rand_mwlmc5_b1_2_1E6_00', 39, 20, 20, 20, nmin=0, nmax=39)\n",
    "Scov_mean, Tcov_mean  = var_matrix('../data/bootstrap_mwlmc_1e6_b1_test/cov_matrix_rand_mwlmc5_b1_2_1E6_00',\n",
    "                                        '../data/bootstrap_mwlmc_1e6_b1_test/coeff_rand_mwlmc5_b1_2_1E6_00',\n",
    "                                   39, 20, 20, 20, \n",
    "                                        mass, nmin=0, nmax=39)"
   ]
  },
  {
   "cell_type": "code",
   "execution_count": 50,
   "metadata": {},
   "outputs": [
    {
     "name": "stderr",
     "output_type": "stream",
     "text": [
      "/home/xzk/.local/lib/python3.5/site-packages/ipykernel_launcher.py:12: RuntimeWarning: invalid value encountered in true_divide\n",
      "  if sys.path[0] == '':\n"
     ]
    }
   ],
   "source": [
    "bS = smoothing(Scov_mean, S_mean)\n",
    "bT = smoothing(Tcov_mean, T_mean)"
   ]
  },
  {
   "cell_type": "code",
   "execution_count": 51,
   "metadata": {},
   "outputs": [
    {
     "data": {
      "text/plain": [
       "1.5998193857544614"
      ]
     },
     "execution_count": 51,
     "metadata": {},
     "output_type": "execute_result"
    }
   ],
   "source": [
    "S_mean[0,0,0]"
   ]
  },
  {
   "cell_type": "code",
   "execution_count": 52,
   "metadata": {},
   "outputs": [
    {
     "name": "stdout",
     "output_type": "stream",
     "text": [
      "N coeff S=  1698\n",
      "N coeff T=  1480\n"
     ]
    }
   ],
   "source": [
    "S_opt, T_opt, NcoeffS ,NcoeffT = coefficients_smooth_level(S_mean, T_mean, bS, bT, 0.5, verb=1)"
   ]
  },
  {
   "cell_type": "code",
   "execution_count": 53,
   "metadata": {},
   "outputs": [
    {
     "data": {
      "text/plain": [
       "-0.007675241970943622"
      ]
     },
     "execution_count": 53,
     "metadata": {},
     "output_type": "execute_result"
    }
   ],
   "source": [
    "S_opt[1,0,0]"
   ]
  },
  {
   "cell_type": "code",
   "execution_count": 54,
   "metadata": {},
   "outputs": [
    {
     "data": {
      "text/plain": [
       "-0.007705250695228437"
      ]
     },
     "execution_count": 54,
     "metadata": {},
     "output_type": "execute_result"
    }
   ],
   "source": [
    "S_mean[1,0,0]"
   ]
  },
  {
   "cell_type": "code",
   "execution_count": 55,
   "metadata": {},
   "outputs": [
    {
     "data": {
      "text/plain": [
       "0.9961054188277874"
      ]
     },
     "execution_count": 55,
     "metadata": {},
     "output_type": "execute_result"
    }
   ],
   "source": [
    "bS[1,0,0]"
   ]
  },
  {
   "cell_type": "code",
   "execution_count": 56,
   "metadata": {},
   "outputs": [],
   "source": [
    "N_coeff_all_S = np.zeros(1000)\n",
    "N_coeff_all_T = np.zeros(1000)"
   ]
  },
  {
   "cell_type": "code",
   "execution_count": 57,
   "metadata": {},
   "outputs": [],
   "source": [
    "np.savetxt('./BFE/MW_opt_coeff_b0.txt', np.array([S_opt.flatten(), T_opt.flatten()]).T)"
   ]
  },
  {
   "cell_type": "code",
   "execution_count": 58,
   "metadata": {},
   "outputs": [],
   "source": [
    "np.savetxt('./BFE/MW_opt_coeff_smooth_b03.txt', np.array([(S_opt*bS).flatten(), (T_opt*bT).flatten()]).T)"
   ]
  },
  {
   "cell_type": "code",
   "execution_count": 63,
   "metadata": {},
   "outputs": [
    {
     "name": "stdout",
     "output_type": "stream",
     "text": [
      "1\n",
      "1\n"
     ]
    },
    {
     "name": "stderr",
     "output_type": "stream",
     "text": [
      "/home/xzk/.local/lib/python3.5/site-packages/ipykernel_launcher.py:12: RuntimeWarning: invalid value encountered in true_divide\n",
      "  if sys.path[0] == '':\n"
     ]
    },
    {
     "name": "stdout",
     "output_type": "stream",
     "text": [
      "N coeff S=  2401\n",
      "N coeff T=  2117\n",
      "3\n",
      "3\n",
      "N coeff S=  1967\n",
      "N coeff T=  1677\n",
      "5\n",
      "5\n",
      "N coeff S=  1865\n",
      "N coeff T=  1608\n",
      "7\n",
      "7\n",
      "N coeff S=  1780\n",
      "N coeff T=  1566\n",
      "9\n",
      "9\n",
      "N coeff S=  1751\n",
      "N coeff T=  1550\n",
      "11\n",
      "11\n",
      "N coeff S=  1737\n",
      "N coeff T=  1549\n",
      "13\n",
      "13\n",
      "N coeff S=  1687\n",
      "N coeff T=  1535\n",
      "15\n",
      "15\n",
      "N coeff S=  1699\n",
      "N coeff T=  1519\n",
      "17\n",
      "17\n",
      "N coeff S=  1696\n",
      "N coeff T=  1516\n",
      "19\n",
      "19\n",
      "N coeff S=  1683\n",
      "N coeff T=  1510\n",
      "21\n",
      "21\n",
      "N coeff S=  1699\n",
      "N coeff T=  1501\n",
      "23\n",
      "23\n",
      "N coeff S=  1691\n",
      "N coeff T=  1507\n",
      "25\n",
      "25\n",
      "N coeff S=  1691\n",
      "N coeff T=  1497\n",
      "27\n",
      "27\n",
      "N coeff S=  1687\n",
      "N coeff T=  1496\n",
      "29\n",
      "29\n",
      "N coeff S=  1686\n",
      "N coeff T=  1488\n",
      "31\n",
      "31\n",
      "N coeff S=  1682\n",
      "N coeff T=  1486\n",
      "33\n",
      "33\n",
      "N coeff S=  1682\n",
      "N coeff T=  1484\n",
      "35\n",
      "35\n",
      "N coeff S=  1693\n",
      "N coeff T=  1484\n",
      "37\n",
      "37\n",
      "N coeff S=  1700\n",
      "N coeff T=  1482\n",
      "39\n",
      "39\n",
      "N coeff S=  1698\n",
      "N coeff T=  1480\n"
     ]
    }
   ],
   "source": [
    "j= 0\n",
    "for i in range(0, 39, 2):\n",
    "    S1, T1  = read_coeff_matrix('../data/bootstrap_mwlmc_1e6_b1_test/coeff_rand_mwlmc5_b1_2_1E6_00', i+1, 20, 20, 20,\n",
    "                            nmin=0, nmax=i+1)\n",
    "    Scov1, Tcov1  = var_matrix('../data/bootstrap_mwlmc_1e6_b1_test/cov_matrix_rand_mwlmc5_b1_2_1E6_00',\n",
    "                               '../data/bootstrap_mwlmc_1e6_b1_test/coeff_rand_mwlmc5_b1_2_1E6_00',\n",
    "                               i+1, 20, 20, 20, mass, nmin=0, nmax=i+1)\n",
    "    bS1 = smoothing(Scov1, S1)\n",
    "    bT1 = smoothing(Tcov1, T1)\n",
    "    S1_opt, T1_opt, N_coeff_all_S[j], N_coeff_all_T[j] = coefficients_smooth_level(S1, T1, bS1, bT1, 0.5, verb=1)\n",
    "    j+=1\n",
    "    "
   ]
  },
  {
   "cell_type": "code",
   "execution_count": 69,
   "metadata": {},
   "outputs": [
    {
     "data": {
      "text/plain": [
       "Text(0,0.5,'N coefficients')"
      ]
     },
     "execution_count": 69,
     "metadata": {},
     "output_type": "execute_result"
    },
    {
     "data": {
      "image/png": "[encoded data removed]",
      "text/plain": [
       "<matplotlib.figure.Figure at 0x7fdef81df358>"
      ]
     },
     "metadata": {},
     "output_type": "display_data"
    }
   ],
   "source": [
    "plot(np.arange(0, 39, 2), N_coeff_all_S[:20], c='k')\n",
    "xlabel('N samples')\n",
    "ylabel('N coefficients')\n",
    "#savefig('Ncoeff_Nsample.pdf', bbox_inches='tight')"
   ]
  },
  {
   "cell_type": "code",
   "execution_count": 70,
   "metadata": {},
   "outputs": [
    {
     "name": "stderr",
     "output_type": "stream",
     "text": [
      "/home/xzk/.local/lib/python3.5/site-packages/ipykernel_launcher.py:12: RuntimeWarning: invalid value encountered in true_divide\n",
      "  if sys.path[0] == '':\n"
     ]
    }
   ],
   "source": [
    "bS1 = smoothing(Scov1, S1)\n",
    "bT1 = smoothing(Tcov1, T1)"
   ]
  },
  {
   "cell_type": "code",
   "execution_count": 72,
   "metadata": {},
   "outputs": [
    {
     "name": "stdout",
     "output_type": "stream",
     "text": [
      "N coeff S=  1698\n",
      "N coeff T=  1480\n"
     ]
    }
   ],
   "source": [
    "S1_opt, T1_opt, ST_opt, Ncoeff = coefficients_smooth_level(S1, T1, bS1, bT1, 0.5, verb=1)"
   ]
  },
  {
   "cell_type": "code",
   "execution_count": 57,
   "metadata": {},
   "outputs": [
    {
     "data": {
      "text/plain": [
       "<matplotlib.colorbar.Colorbar at 0x7fc2d28b4438>"
      ]
     },
     "execution_count": 57,
     "metadata": {},
     "output_type": "execute_result"
    },
    {
     "name": "stderr",
     "output_type": "stream",
     "text": [
      "/usr/local/lib/python3.4/dist-packages/matplotlib/font_manager.py:1328: UserWarning: findfont: Font family ['serif'] not found. Falling back to DejaVu Sans\n",
      "  (prop.get_family(), self.defaultFamily[fontext]))\n",
      "/usr/local/lib/python3.4/dist-packages/matplotlib/font_manager.py:1328: UserWarning: findfont: Font family ['serif'] not found. Falling back to DejaVu Sans\n",
      "  (prop.get_family(), self.defaultFamily[fontext]))\n",
      "/usr/local/lib/python3.4/dist-packages/matplotlib/font_manager.py:1328: UserWarning: findfont: Font family ['serif'] not found. Falling back to DejaVu Sans\n",
      "  (prop.get_family(), self.defaultFamily[fontext]))\n",
      "/usr/local/lib/python3.4/dist-packages/matplotlib/font_manager.py:1328: UserWarning: findfont: Font family ['serif'] not found. Falling back to DejaVu Sans\n",
      "  (prop.get_family(), self.defaultFamily[fontext]))\n",
      "/usr/local/lib/python3.4/dist-packages/matplotlib/font_manager.py:1328: UserWarning: findfont: Font family ['serif'] not found. Falling back to DejaVu Sans\n",
      "  (prop.get_family(), self.defaultFamily[fontext]))\n"
     ]
    },
    {
     "data": {
      "image/png": "[encoded data removed]",
      "text/plain": [
       "<Figure size 432x288 with 2 Axes>"
      ]
     },
     "metadata": {},
     "output_type": "display_data"
    }
   ],
   "source": [
    "imshow(np.log10(bS[:,:,0]).T, origin='lower')\n",
    "colorbar()"
   ]
  },
  {
   "cell_type": "code",
   "execution_count": 58,
   "metadata": {},
   "outputs": [
    {
     "data": {
      "text/plain": [
       "<matplotlib.colorbar.Colorbar at 0x7fc2d0f015f8>"
      ]
     },
     "execution_count": 58,
     "metadata": {},
     "output_type": "execute_result"
    },
    {
     "name": "stderr",
     "output_type": "stream",
     "text": [
      "/usr/local/lib/python3.4/dist-packages/matplotlib/font_manager.py:1328: UserWarning: findfont: Font family ['serif'] not found. Falling back to DejaVu Sans\n",
      "  (prop.get_family(), self.defaultFamily[fontext]))\n"
     ]
    },
    {
     "data": {
      "image/png": "[encoded data removed]",
      "text/plain": [
       "<Figure size 432x288 with 2 Axes>"
      ]
     },
     "metadata": {},
     "output_type": "display_data"
    }
   ],
   "source": [
    "imshow(np.log10(bS1[:,:,0]).T, origin='lower')\n",
    "colorbar()"
   ]
  },
  {
   "cell_type": "code",
   "execution_count": 59,
   "metadata": {},
   "outputs": [
    {
     "name": "stderr",
     "output_type": "stream",
     "text": [
      "/usr/local/lib/python3.4/dist-packages/ipykernel_launcher.py:1: RuntimeWarning: divide by zero encountered in log10\n",
      "  \"\"\"Entry point for launching an IPython kernel.\n"
     ]
    },
    {
     "data": {
      "text/plain": [
       "<matplotlib.colorbar.Colorbar at 0x7fc2d0f3b6d8>"
      ]
     },
     "execution_count": 59,
     "metadata": {},
     "output_type": "execute_result"
    },
    {
     "name": "stderr",
     "output_type": "stream",
     "text": [
      "/usr/local/lib/python3.4/dist-packages/matplotlib/font_manager.py:1328: UserWarning: findfont: Font family ['serif'] not found. Falling back to DejaVu Sans\n",
      "  (prop.get_family(), self.defaultFamily[fontext]))\n"
     ]
    },
    {
     "data": {
      "image/png": "[encoded data removed]",
      "text/plain": [
       "<Figure size 432x288 with 2 Axes>"
      ]
     },
     "metadata": {},
     "output_type": "display_data"
    }
   ],
   "source": [
    "imshow(np.log10(np.abs(bS[:,:,1]*S_opt[:,:,1])).T, origin='lower')\n",
    "colorbar()"
   ]
  },
  {
   "cell_type": "code",
   "execution_count": 60,
   "metadata": {},
   "outputs": [
    {
     "name": "stderr",
     "output_type": "stream",
     "text": [
      "/usr/local/lib/python3.4/dist-packages/ipykernel_launcher.py:1: RuntimeWarning: divide by zero encountered in log10\n",
      "  \"\"\"Entry point for launching an IPython kernel.\n"
     ]
    },
    {
     "data": {
      "text/plain": [
       "<matplotlib.colorbar.Colorbar at 0x7fc2d0e63b70>"
      ]
     },
     "execution_count": 60,
     "metadata": {},
     "output_type": "execute_result"
    },
    {
     "name": "stderr",
     "output_type": "stream",
     "text": [
      "/usr/local/lib/python3.4/dist-packages/matplotlib/font_manager.py:1328: UserWarning: findfont: Font family ['serif'] not found. Falling back to DejaVu Sans\n",
      "  (prop.get_family(), self.defaultFamily[fontext]))\n"
     ]
    },
    {
     "data": {
      "image/png": "[encoded data removed]",
      "text/plain": [
       "<Figure size 432x288 with 2 Axes>"
      ]
     },
     "metadata": {},
     "output_type": "display_data"
    }
   ],
   "source": [
    "imshow(np.log10(np.abs(S1_opt[:,:,0])).T, origin='lower')\n",
    "colorbar()"
   ]
  },
  {
   "cell_type": "code",
   "execution_count": 18,
   "metadata": {},
   "outputs": [],
   "source": [
    "y_grid = np.arange(-300, 300, 5)\n",
    "z_grid = np.arange(-300, 300, 5)\n",
    "y_grid, z_grid = meshgrid(y_grid, z_grid)"
   ]
  },
  {
   "cell_type": "code",
   "execution_count": 19,
   "metadata": {},
   "outputs": [],
   "source": [
    "rho_mwlmc_all= biff.density(np.ascontiguousarray(np.array([np.zeros(len(y_grid.flatten())), \n",
    "                                                            y_grid.flatten(), \n",
    "                                                            z_grid.flatten()]).T), \n",
    "                           S_mean, T_mean, M=1, r_s=40.85)"
   ]
  },
  {
   "cell_type": "code",
   "execution_count": 20,
   "metadata": {},
   "outputs": [],
   "source": [
    "S_mean_0 = np.zeros(shape(S_mean))\n",
    "T_mean_0 = np.zeros(shape(T_mean))\n",
    "S_mean_0[0,0,0] = S_mean[0,0,0]\n",
    "\n",
    "S_mean_opt_0 = np.zeros(shape(S_mean))\n",
    "T_mean_opt_0 = np.zeros(shape(T_mean))\n",
    "S_mean_opt_0[0,0,0] = S_opt[0,0,0]"
   ]
  },
  {
   "cell_type": "code",
   "execution_count": 21,
   "metadata": {},
   "outputs": [],
   "source": [
    "rho_mwlmc_base= biff.density(np.ascontiguousarray(np.array([np.zeros(len(y_grid.flatten())), \n",
    "                                                            y_grid.flatten(), \n",
    "                                                            z_grid.flatten()]).T), \n",
    "                           S_mean_0, T_mean_0, M=1, r_s=40.85)"
   ]
  },
  {
   "cell_type": "code",
   "execution_count": 22,
   "metadata": {},
   "outputs": [],
   "source": [
    "rho_mwlmc_opt= biff.density(np.ascontiguousarray(np.array([np.zeros(len(y_grid.flatten())), \n",
    "                                                            y_grid.flatten(), \n",
    "                                                            z_grid.flatten()]).T), \n",
    "                           S_opt*bS, T_opt, M=1, r_s=40.85)"
   ]
  },
  {
   "cell_type": "code",
   "execution_count": 23,
   "metadata": {},
   "outputs": [],
   "source": [
    "rho_mwlmc_base_opt= biff.density(np.ascontiguousarray(np.array([np.zeros(len(y_grid.flatten())), \n",
    "                                                            y_grid.flatten(), \n",
    "                                                            z_grid.flatten()]).T), \n",
    "                           S_mean_opt_0, T_mean_opt_0, M=1, r_s=40.85)"
   ]
  },
  {
   "cell_type": "code",
   "execution_count": 24,
   "metadata": {},
   "outputs": [
    {
     "data": {
      "text/plain": [
       "<matplotlib.colorbar.Colorbar at 0x7fdefa89d908>"
      ]
     },
     "execution_count": 24,
     "metadata": {},
     "output_type": "execute_result"
    },
    {
     "data": {
      "image/png": "[encoded data removed]",
      "text/plain": [
       "<matplotlib.figure.Figure at 0x7fdefa9ac6d8>"
      ]
     },
     "metadata": {},
     "output_type": "display_data"
    }
   ],
   "source": [
    "figsize(6,6)\n",
    "contourf(y_grid, z_grid, (np.abs(rho_mwlmc_all/rho_mwlmc_base)).reshape(120, 120), 20,\n",
    "         origin='lower', cmap='inferno')\n",
    "colorbar()\n"
   ]
  },
  {
   "cell_type": "code",
   "execution_count": 73,
   "metadata": {},
   "outputs": [
    {
     "data": {
      "text/plain": [
       "<matplotlib.colorbar.Colorbar at 0x7fdef80c7160>"
      ]
     },
     "execution_count": 73,
     "metadata": {},
     "output_type": "execute_result"
    },
    {
     "data": {
      "image/png": "[encoded data removed]",
      "text/plain": [
       "<matplotlib.figure.Figure at 0x7fdef822c278>"
      ]
     },
     "metadata": {},
     "output_type": "display_data"
    }
   ],
   "source": [
    "figsize(6,6)\n",
    "contourf(y_grid, z_grid, (np.abs(rho_mwlmc_opt/rho_mwlmc_base_opt)).reshape(120, 120), 20,\n",
    "         origin='lower', cmap='inferno')\n",
    "colorbar()"
   ]
  },
  {
   "cell_type": "code",
   "execution_count": 74,
   "metadata": {},
   "outputs": [
    {
     "data": {
      "text/plain": [
       "<matplotlib.colorbar.Colorbar at 0x7fdef81ddd30>"
      ]
     },
     "execution_count": 74,
     "metadata": {},
     "output_type": "execute_result"
    },
    {
     "data": {
      "image/png": "[encoded data removed]",
      "text/plain": [
       "<matplotlib.figure.Figure at 0x7fdef8129a90>"
      ]
     },
     "metadata": {},
     "output_type": "display_data"
    }
   ],
   "source": [
    "figure(figsize=(16,6))\n",
    "subplot(1, 2, 1)\n",
    "contourf(y_grid, z_grid, np.log10(np.abs(rho_mwlmc_all)).reshape(120, 120), 20,\n",
    "         origin='lower', cmap='inferno')\n",
    "\n",
    "#xlim(-20, 20)\n",
    "#ylim(-20, 20)\n",
    "colorbar()\n",
    "\n",
    "subplot(1, 2, 2)\n",
    "contourf(y_grid, z_grid, np.log10(np.abs(rho_mwlmc_opt)).reshape(120, 120), 20,\n",
    "         origin='lower', cmap='inferno')\n",
    "\n",
    "#xlim(-20, 20)\n",
    "#ylim(-20, 20)\n",
    "colorbar()"
   ]
  },
  {
   "cell_type": "code",
   "execution_count": 57,
   "metadata": {},
   "outputs": [
    {
     "data": {
      "text/plain": [
       "<matplotlib.figure.Figure at 0x7f14e757acf8>"
      ]
     },
     "execution_count": 57,
     "metadata": {},
     "output_type": "execute_result"
    },
    {
     "data": {
      "text/plain": [
       "<matplotlib.figure.Figure at 0x7f14e757acf8>"
      ]
     },
     "metadata": {},
     "output_type": "display_data"
    }
   ],
   "source": [
    "figure(figsize=(8,6))\n"
   ]
  },
  {
   "cell_type": "code",
   "execution_count": null,
   "metadata": {},
   "outputs": [],
   "source": []
  }
 ],
 "metadata": {
  "kernelspec": {
   "display_name": "Python 3",
   "language": "python",
   "name": "python3"
  },
  "language_info": {
   "codemirror_mode": {
    "name": "ipython",
    "version": 3
   },
   "file_extension": ".py",
   "mimetype": "text/x-python",
   "name": "python",
   "nbconvert_exporter": "python",
   "pygments_lexer": "ipython3",
   "version": "3.5.2"
  }
 },
 "nbformat": 4,
 "nbformat_minor": 2
}
