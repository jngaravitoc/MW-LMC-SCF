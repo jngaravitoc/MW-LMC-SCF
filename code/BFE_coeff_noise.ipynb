{
 "cells": [
  {
   "cell_type": "markdown",
   "metadata": {},
   "source": [
    "- Organize all the data of the coefficients and the covariance (Done)\n",
    "- Compute mean coefficients (Done)\n",
    "- Compute variance (Not sure about this)\n",
    "- Compute smoothing (Done)\n",
    "- Compute S/N (Done)\n",
    "- Select coefficients (Done)\n",
    "- Print coefficients (Done)\n"
   ]
  },
  {
   "cell_type": "code",
   "execution_count": 1,
   "metadata": {},
   "outputs": [
    {
     "name": "stdout",
     "output_type": "stream",
     "text": [
      "Populating the interactive namespace from numpy and matplotlib\n"
     ]
    }
   ],
   "source": [
    "%pylab inline\n",
    "import biff\n"
   ]
  },
  {
   "cell_type": "code",
   "execution_count": 2,
   "metadata": {},
   "outputs": [],
   "source": [
    "font = {'size':18, 'family':'serif'}\n",
    "matplotlib.rc('font', **font)\n"
   ]
  },
  {
   "cell_type": "code",
   "execution_count": 3,
   "metadata": {},
   "outputs": [],
   "source": [
    "r_s_sims = 40.85\n",
    "G_gadget=43007.1 #kpc3/(Gyr2Msun)/1E10."
   ]
  },
  {
   "cell_type": "code",
   "execution_count": 4,
   "metadata": {},
   "outputs": [],
   "source": [
    "## Reading coefficients\n",
    "def reshape_matrix(matrix, n, l, m):\n",
    "    col_matrix = np.zeros((n+1, l+1, m+1))\n",
    "\n",
    "\n",
    "    counter = 0\n",
    "    for n in range(n+1):\n",
    "        for l in range(l+1):\n",
    "            for m in range(0, l+1):\n",
    "                col_matrix[n][l][m] = matrix[counter]\n",
    "                counter +=1\n",
    "    return col_matrix"
   ]
  },
  {
   "cell_type": "code",
   "execution_count": 5,
   "metadata": {},
   "outputs": [],
   "source": [
    "## Reading coefficients\n",
    "def read_coeff_matrix(filename, nfiles, n, l, m, nmin=0, nmax=1000):\n",
    "    print(nmax)\n",
    "\n",
    "    S_matrix = np.zeros((int((n+1)*(l+1)*(l/2.+1)), nfiles))\n",
    "    T_matrix = np.zeros((int((n+1)*(l+1)*(l/2.+1)), nfiles))\n",
    "    \n",
    "    S_mean = np.zeros((int((n+1)*(l+1)*(l/2.+1))))\n",
    "    T_mean = np.zeros((int((n+1)*(l+1)*(l/2.+1))))\n",
    "\n",
    "    for i in range(nmin, nmax):\n",
    "        coeff = np.loadtxt(filename + '{:03d}.txt'.format(i))\n",
    "        S_matrix[:,i] = coeff[:,0]\n",
    "        T_matrix[:,i] = coeff[:,1]\n",
    "        \n",
    "    for i in range(len(S_matrix[:,0])):\n",
    "        S_mean[i] = np.mean(S_matrix[i])\n",
    "        T_mean[i] = np.mean(T_matrix[i])\n",
    "\n",
    "    S_mean_matrix = reshape_matrix(S_mean, n, l, m)\n",
    "    T_mean_matrix = reshape_matrix(T_mean, n, l, m)\n",
    "\n",
    "    return S_mean_matrix, T_mean_matrix\n",
    "\n",
    "## Reading covariance\n",
    "def var_matrix(filename, filename2, nfiles, n, l, m, mass, nmin=0, nmax=1000):\n",
    "    print(nmax)\n",
    "\n",
    "    Scov_matrix = np.zeros((int((n+1)*(l+1)*(l/2.+1)), nfiles))\n",
    "    Tcov_matrix = np.zeros((int((n+1)*(l+1)*(l/2.+1)), nfiles))\n",
    "    \n",
    "    Svar_mean = np.zeros((int((n+1)*(l+1)*(l/2.+1))))\n",
    "    Tvar_mean = np.zeros((int((n+1)*(l+1)*(l/2.+1))))\n",
    "    \n",
    "    \n",
    "    S_matrix = np.zeros((int((n+1)*(l+1)*(l/2.+1)), nfiles))\n",
    "    T_matrix = np.zeros((int((n+1)*(l+1)*(l/2.+1)), nfiles))\n",
    "    \n",
    "    for i in range(nmin, nmax):\n",
    "        cov = np.loadtxt(filename + '{:03d}.txt'.format(i))\n",
    "        coeff = np.loadtxt(filename2 + '{:03d}.txt'.format(i))\n",
    "\n",
    "        Scov_matrix[:,i] = cov[:,0]\n",
    "        Tcov_matrix[:,i] = cov[:,1]\n",
    "        \n",
    "        S_matrix[:,i] = coeff[:,0]\n",
    "        T_matrix[:,i] = coeff[:,1]\n",
    "    \n",
    "\n",
    "    for i in range(len(Scov_matrix[:,0])):\n",
    "        Svar_mean[i] = np.mean((Scov_matrix[i] - mass*S_matrix[i]**2)) #/ nfiles\n",
    "        Tvar_mean[i] = np.mean((Tcov_matrix[i] - mass*T_matrix[1]**2)) #/ nfiles\n",
    "\n",
    "    Svar_mean_matrix = reshape_matrix(Svar_mean, n, l, m)\n",
    "    Tvar_mean_matrix = reshape_matrix(Tvar_mean, n, l, m)\n",
    "        \n",
    "    return Svar_mean_matrix, Tvar_mean_matrix\n",
    "\n"
   ]
  },
  {
   "cell_type": "code",
   "execution_count": 6,
   "metadata": {},
   "outputs": [],
   "source": [
    "def copy_matrix(M, indices):\n",
    "    M_new = np.zeros(shape(M))\n",
    "    for i in range(len(indices[0])):\n",
    "        M_new[indices[0][i]][indices[1][i]][indices[2][i]] = M[indices[0][i]][indices[1][i]][indices[2][i]]\n",
    "    return M_new\n",
    "\n",
    "def smoothing(var_coeff, coeff):\n",
    "    \"\"\"\n",
    "    Coefficients smoothing \n",
    "    \n",
    "    \"\"\"\n",
    "    b_nlm = 1/(1 + var_coeff/coeff**2)\n",
    "    # This line remove nans an put the original values\n",
    "    b_nlm_values = np.nan_to_num(b_nlm)\n",
    "    return b_nlm_values\n",
    "\n",
    "def coefficients_smooth_level(S, T, bs, bt, b_cut, verb=0):\n",
    "    \"\"\"\n",
    "    Returns coefficients with energy higher than e_cut\n",
    "    e_cut : float \n",
    "        between 0 and 1\n",
    "        \n",
    "    \"\"\"\n",
    " \n",
    "    bs_cut_index = np.where(bs>b_cut)\n",
    "    bt_cut_index = np.where(bt>b_cut)\n",
    "    \n",
    "    if verb == 1:\n",
    "        print('N coeff S= ', len(bs_cut_index[0]))\n",
    "        print('N coeff T= ', len(bt_cut_index[0]))\n",
    "\n",
    "    S_new = copy_matrix(S, bs_cut_index)\n",
    "    T_new = copy_matrix(T, bt_cut_index)\n",
    "    \n",
    "    return S_new, T_new, len(bs_cut_index[0]), len(bt_cut_index[0])"
   ]
  },
  {
   "cell_type": "code",
   "execution_count": 7,
   "metadata": {},
   "outputs": [],
   "source": [
    "mass =1.5772125152E-6\n"
   ]
  },
  {
   "cell_type": "code",
   "execution_count": 9,
   "metadata": {},
   "outputs": [
    {
     "name": "stdout",
     "output_type": "stream",
     "text": [
      "999\n",
      "999\n"
     ]
    }
   ],
   "source": [
    "S_mean, T_mean  = read_coeff_matrix('../data/bootstrap_mwlmc_1e6_b1/coeff_rand_mwlmc5_b1_1E6_', 1000, 20, 20, 20, nmin=0, nmax=999)\n",
    "Scov_mean, Tcov_mean  = var_matrix('../data/bootstrap_mwlmc_1e6_b1/cov_matrix_rand_mwlmc5_b1_1E6_',\n",
    "                                        '../data/bootstrap_mwlmc_1e6_b1/coeff_rand_mwlmc5_b1_1E6_',\n",
    "                                   1000, 20, 20, 20, \n",
    "                                        mass, nmin=0, nmax=999)"
   ]
  },
  {
   "cell_type": "code",
   "execution_count": 13,
   "metadata": {},
   "outputs": [
    {
     "name": "stderr",
     "output_type": "stream",
     "text": [
      "/home/xzk/.local/lib/python3.5/site-packages/ipykernel_launcher.py:12: RuntimeWarning: invalid value encountered in true_divide\n",
      "  if sys.path[0] == '':\n"
     ]
    }
   ],
   "source": [
    "bS = smoothing(Scov_mean, S_mean)\n",
    "bT = smoothing(Tcov_mean, T_mean)"
   ]
  },
  {
   "cell_type": "code",
   "execution_count": 14,
   "metadata": {},
   "outputs": [
    {
     "name": "stdout",
     "output_type": "stream",
     "text": [
      "N coeff S=  1526\n",
      "N coeff T=  1424\n"
     ]
    }
   ],
   "source": [
    "S_opt, T_opt, NcoeffS ,NcoeffT = coefficients_smooth_level(S_mean, T_mean, bS, bT, 0.5, verb=1)"
   ]
  },
  {
   "cell_type": "code",
   "execution_count": 12,
   "metadata": {},
   "outputs": [],
   "source": [
    "N_coeff_all_S = np.zeros(1000)\n",
    "N_coeff_all_T = np.zeros(1000)"
   ]
  },
  {
   "cell_type": "code",
   "execution_count": 124,
   "metadata": {},
   "outputs": [],
   "source": [
    "np.savetxt('./BFE/MW_opt_coeff_b0.txt', np.array([S_opt.flatten(), T_opt.flatten()]).T)"
   ]
  },
  {
   "cell_type": "code",
   "execution_count": 121,
   "metadata": {},
   "outputs": [],
   "source": [
    "np.savetxt('./BFE/MW_opt_coeff_smooth_b03.txt', np.array([(S_opt*bS).flatten(), (T_opt*bT).flatten()]).T)"
   ]
  },
  {
   "cell_type": "code",
   "execution_count": 91,
   "metadata": {},
   "outputs": [
    {
     "name": "stdout",
     "output_type": "stream",
     "text": [
      "1\n",
      "1\n"
     ]
    },
    {
     "name": "stderr",
     "output_type": "stream",
     "text": [
      "/usr/local/lib/python3.4/dist-packages/ipykernel_launcher.py:12: RuntimeWarning: invalid value encountered in true_divide\n",
      "  if sys.path[0] == '':\n"
     ]
    },
    {
     "name": "stdout",
     "output_type": "stream",
     "text": [
      "N coeff S=  2377\n",
      "N coeff T=  2581\n",
      "21\n",
      "21\n",
      "N coeff S=  1614\n",
      "N coeff T=  1886\n",
      "41\n",
      "41\n",
      "N coeff S=  1573\n",
      "N coeff T=  1849\n",
      "61\n",
      "61\n",
      "N coeff S=  1546\n",
      "N coeff T=  1829\n",
      "81\n",
      "81\n",
      "N coeff S=  1549\n",
      "N coeff T=  1829\n",
      "101\n",
      "101\n",
      "N coeff S=  1550\n",
      "N coeff T=  1827\n",
      "121\n",
      "121\n",
      "N coeff S=  1541\n",
      "N coeff T=  1822\n",
      "141\n",
      "141\n",
      "N coeff S=  1542\n",
      "N coeff T=  1819\n",
      "161\n",
      "161\n",
      "N coeff S=  1542\n",
      "N coeff T=  1819\n",
      "181\n",
      "181\n",
      "N coeff S=  1546\n",
      "N coeff T=  1822\n",
      "201\n",
      "201\n",
      "N coeff S=  1534\n",
      "N coeff T=  1811\n",
      "221\n",
      "221\n",
      "N coeff S=  1537\n",
      "N coeff T=  1816\n",
      "241\n",
      "241\n",
      "N coeff S=  1539\n",
      "N coeff T=  1817\n",
      "261\n",
      "261\n",
      "N coeff S=  1535\n",
      "N coeff T=  1815\n",
      "281\n",
      "281\n",
      "N coeff S=  1536\n",
      "N coeff T=  1818\n",
      "301\n",
      "301\n",
      "N coeff S=  1535\n",
      "N coeff T=  1814\n",
      "321\n",
      "321\n",
      "N coeff S=  1529\n",
      "N coeff T=  1810\n",
      "341\n",
      "341\n",
      "N coeff S=  1533\n",
      "N coeff T=  1812\n",
      "361\n",
      "361\n",
      "N coeff S=  1539\n",
      "N coeff T=  1814\n",
      "381\n",
      "381\n",
      "N coeff S=  1538\n",
      "N coeff T=  1819\n",
      "401\n",
      "401\n",
      "N coeff S=  1536\n",
      "N coeff T=  1813\n",
      "421\n",
      "421\n",
      "N coeff S=  1535\n",
      "N coeff T=  1815\n",
      "441\n",
      "441\n",
      "N coeff S=  1537\n",
      "N coeff T=  1813\n",
      "461\n",
      "461\n",
      "N coeff S=  1538\n",
      "N coeff T=  1819\n",
      "481\n",
      "481\n",
      "N coeff S=  1540\n",
      "N coeff T=  1818\n",
      "501\n",
      "501\n",
      "N coeff S=  1535\n",
      "N coeff T=  1815\n",
      "521\n",
      "521\n",
      "N coeff S=  1537\n",
      "N coeff T=  1817\n",
      "541\n",
      "541\n",
      "N coeff S=  1539\n",
      "N coeff T=  1821\n",
      "561\n",
      "561\n",
      "N coeff S=  1534\n",
      "N coeff T=  1816\n",
      "581\n",
      "581\n",
      "N coeff S=  1528\n",
      "N coeff T=  1811\n",
      "601\n",
      "601\n",
      "N coeff S=  1534\n",
      "N coeff T=  1815\n",
      "621\n",
      "621\n",
      "N coeff S=  1534\n",
      "N coeff T=  1811\n",
      "641\n",
      "641\n",
      "N coeff S=  1527\n",
      "N coeff T=  1809\n",
      "661\n",
      "661\n",
      "N coeff S=  1529\n",
      "N coeff T=  1807\n",
      "681\n",
      "681\n",
      "N coeff S=  1537\n",
      "N coeff T=  1812\n",
      "701\n",
      "701\n",
      "N coeff S=  1532\n",
      "N coeff T=  1814\n",
      "721\n",
      "721\n",
      "N coeff S=  1536\n",
      "N coeff T=  1813\n",
      "741\n",
      "741\n",
      "N coeff S=  1536\n",
      "N coeff T=  1813\n",
      "761\n",
      "761\n",
      "N coeff S=  1536\n",
      "N coeff T=  1814\n",
      "781\n",
      "781\n",
      "N coeff S=  1538\n",
      "N coeff T=  1814\n",
      "801\n",
      "801\n",
      "N coeff S=  1537\n",
      "N coeff T=  1814\n",
      "821\n",
      "821\n",
      "N coeff S=  1532\n",
      "N coeff T=  1811\n",
      "841\n",
      "841\n",
      "N coeff S=  1530\n",
      "N coeff T=  1810\n",
      "861\n",
      "861\n",
      "N coeff S=  1530\n",
      "N coeff T=  1811\n",
      "881\n",
      "881\n",
      "N coeff S=  1525\n",
      "N coeff T=  1804\n",
      "901\n",
      "901\n",
      "N coeff S=  1529\n",
      "N coeff T=  1807\n",
      "921\n",
      "921\n",
      "N coeff S=  1531\n",
      "N coeff T=  1810\n",
      "941\n",
      "941\n",
      "N coeff S=  1526\n",
      "N coeff T=  1804\n",
      "961\n",
      "961\n",
      "N coeff S=  1529\n",
      "N coeff T=  1805\n",
      "981\n",
      "981\n",
      "N coeff S=  1529\n",
      "N coeff T=  1806\n",
      "1001\n",
      "1001\n",
      "N coeff S=  1528\n",
      "N coeff T=  1805\n"
     ]
    }
   ],
   "source": [
    "j= 0\n",
    "for i in range(0, 1001, 20):\n",
    "    S1, T1  = read_coeff_matrix('/media/ngaravito/4fb4fd3d-1665-4892-a18d-bdbb1185a07b1/data_bfe/bfe_mwlmc5_b1_1e6/coeff_rand_mwlmc5_b1_1E6_', i+1, 20, 20, 20,\n",
    "                            nmin=0, nmax=i+1)\n",
    "    Scov1, Tcov1  = var_matrix('/media/ngaravito/4fb4fd3d-1665-4892-a18d-bdbb1185a07b1/data_bfe/bfe_mwlmc5_b1_1e6/cov_matrix_rand_mwlmc5_b1_1E6_',\n",
    "                               '/media/ngaravito/4fb4fd3d-1665-4892-a18d-bdbb1185a07b1/data_bfe/bfe_mwlmc5_b1_1e6/coeff_rand_mwlmc5_b1_1E6_',\n",
    "                               i+1, 20, 20, 20, mass, nmin=0, nmax=i+1)\n",
    "    bS1 = smoothing(Scov1, S1)\n",
    "    bT1 = smoothing(Tcov1, T1)\n",
    "    S1_opt, T1_opt, N_coeff_all_S[j], N_coeff_all_T[j] = coefficients_smooth_level(S1, T1, bS1, bT1, 0.5, verb=1)\n",
    "    j+=1\n",
    "    "
   ]
  },
  {
   "cell_type": "code",
   "execution_count": 1,
   "metadata": {},
   "outputs": [
    {
     "ename": "NameError",
     "evalue": "name 'plot' is not defined",
     "output_type": "error",
     "traceback": [
      "\u001b[0;31m---------------------------------------------------------------------------\u001b[0m",
      "\u001b[0;31mNameError\u001b[0m                                 Traceback (most recent call last)",
      "\u001b[0;32m<ipython-input-1-5561c1f4551d>\u001b[0m in \u001b[0;36m<module>\u001b[0;34m()\u001b[0m\n\u001b[0;32m----> 1\u001b[0;31m \u001b[0mplot\u001b[0m\u001b[0;34m(\u001b[0m\u001b[0mnp\u001b[0m\u001b[0;34m.\u001b[0m\u001b[0marange\u001b[0m\u001b[0;34m(\u001b[0m\u001b[0;36m0\u001b[0m\u001b[0;34m,\u001b[0m \u001b[0;36m1001\u001b[0m\u001b[0;34m,\u001b[0m \u001b[0;36m20\u001b[0m\u001b[0;34m)\u001b[0m\u001b[0;34m,\u001b[0m \u001b[0mN_coeff_all_S\u001b[0m\u001b[0;34m[\u001b[0m\u001b[0;34m:\u001b[0m\u001b[0;36m51\u001b[0m\u001b[0;34m]\u001b[0m\u001b[0;34m,\u001b[0m \u001b[0mc\u001b[0m\u001b[0;34m=\u001b[0m\u001b[0;34m'k'\u001b[0m\u001b[0;34m)\u001b[0m\u001b[0;34m\u001b[0m\u001b[0m\n\u001b[0m\u001b[1;32m      2\u001b[0m \u001b[0mxlabel\u001b[0m\u001b[0;34m(\u001b[0m\u001b[0;34m'N samples'\u001b[0m\u001b[0;34m)\u001b[0m\u001b[0;34m\u001b[0m\u001b[0m\n\u001b[1;32m      3\u001b[0m \u001b[0mylabel\u001b[0m\u001b[0;34m(\u001b[0m\u001b[0;34m'N coefficients'\u001b[0m\u001b[0;34m)\u001b[0m\u001b[0;34m\u001b[0m\u001b[0m\n\u001b[1;32m      4\u001b[0m \u001b[0msavefig\u001b[0m\u001b[0;34m(\u001b[0m\u001b[0;34m'Ncoeff_Nsample.pdf'\u001b[0m\u001b[0;34m,\u001b[0m \u001b[0mbbox_inches\u001b[0m\u001b[0;34m=\u001b[0m\u001b[0;34m'tight'\u001b[0m\u001b[0;34m)\u001b[0m\u001b[0;34m\u001b[0m\u001b[0m\n",
      "\u001b[0;31mNameError\u001b[0m: name 'plot' is not defined"
     ]
    }
   ],
   "source": [
    "plot(np.arange(0, 1001, 20), N_coeff_all_S[:51], c='k')\n",
    "xlabel('N samples')\n",
    "ylabel('N coefficients')\n",
    "savefig('Ncoeff_Nsample.pdf', bbox_inches='tight')"
   ]
  },
  {
   "cell_type": "code",
   "execution_count": 55,
   "metadata": {},
   "outputs": [
    {
     "name": "stderr",
     "output_type": "stream",
     "text": [
      "/usr/local/lib/python3.4/dist-packages/ipykernel_launcher.py:12: RuntimeWarning: invalid value encountered in true_divide\n",
      "  if sys.path[0] == '':\n"
     ]
    }
   ],
   "source": [
    "bS1 = smoothing(Scov1, S1)\n",
    "bT1 = smoothing(Tcov1, T1)"
   ]
  },
  {
   "cell_type": "code",
   "execution_count": 56,
   "metadata": {},
   "outputs": [
    {
     "name": "stdout",
     "output_type": "stream",
     "text": [
      "N coeff S=  2377\n",
      "N coeff T=  2581\n"
     ]
    }
   ],
   "source": [
    "S1_opt, T1_opt, Ncoeff = coefficients_smooth_level(S1, T1, bS1, bT1, 0.5, verb=1)"
   ]
  },
  {
   "cell_type": "code",
   "execution_count": 57,
   "metadata": {},
   "outputs": [
    {
     "data": {
      "text/plain": [
       "<matplotlib.colorbar.Colorbar at 0x7fc2d28b4438>"
      ]
     },
     "execution_count": 57,
     "metadata": {},
     "output_type": "execute_result"
    },
    {
     "name": "stderr",
     "output_type": "stream",
     "text": [
      "/usr/local/lib/python3.4/dist-packages/matplotlib/font_manager.py:1328: UserWarning: findfont: Font family ['serif'] not found. Falling back to DejaVu Sans\n",
      "  (prop.get_family(), self.defaultFamily[fontext]))\n",
      "/usr/local/lib/python3.4/dist-packages/matplotlib/font_manager.py:1328: UserWarning: findfont: Font family ['serif'] not found. Falling back to DejaVu Sans\n",
      "  (prop.get_family(), self.defaultFamily[fontext]))\n",
      "/usr/local/lib/python3.4/dist-packages/matplotlib/font_manager.py:1328: UserWarning: findfont: Font family ['serif'] not found. Falling back to DejaVu Sans\n",
      "  (prop.get_family(), self.defaultFamily[fontext]))\n",
      "/usr/local/lib/python3.4/dist-packages/matplotlib/font_manager.py:1328: UserWarning: findfont: Font family ['serif'] not found. Falling back to DejaVu Sans\n",
      "  (prop.get_family(), self.defaultFamily[fontext]))\n",
      "/usr/local/lib/python3.4/dist-packages/matplotlib/font_manager.py:1328: UserWarning: findfont: Font family ['serif'] not found. Falling back to DejaVu Sans\n",
      "  (prop.get_family(), self.defaultFamily[fontext]))\n"
     ]
    },
    {
     "data": {
      "image/png": "[encoded data removed]",
      "text/plain": [
       "<Figure size 432x288 with 2 Axes>"
      ]
     },
     "metadata": {},
     "output_type": "display_data"
    }
   ],
   "source": [
    "imshow(np.log10(bS[:,:,0]).T, origin='lower')\n",
    "colorbar()"
   ]
  },
  {
   "cell_type": "code",
   "execution_count": 58,
   "metadata": {},
   "outputs": [
    {
     "data": {
      "text/plain": [
       "<matplotlib.colorbar.Colorbar at 0x7fc2d0f015f8>"
      ]
     },
     "execution_count": 58,
     "metadata": {},
     "output_type": "execute_result"
    },
    {
     "name": "stderr",
     "output_type": "stream",
     "text": [
      "/usr/local/lib/python3.4/dist-packages/matplotlib/font_manager.py:1328: UserWarning: findfont: Font family ['serif'] not found. Falling back to DejaVu Sans\n",
      "  (prop.get_family(), self.defaultFamily[fontext]))\n"
     ]
    },
    {
     "data": {
      "image/png": "[encoded data removed]",
      "text/plain": [
       "<Figure size 432x288 with 2 Axes>"
      ]
     },
     "metadata": {},
     "output_type": "display_data"
    }
   ],
   "source": [
    "imshow(np.log10(bS1[:,:,0]).T, origin='lower')\n",
    "colorbar()"
   ]
  },
  {
   "cell_type": "code",
   "execution_count": 59,
   "metadata": {},
   "outputs": [
    {
     "name": "stderr",
     "output_type": "stream",
     "text": [
      "/usr/local/lib/python3.4/dist-packages/ipykernel_launcher.py:1: RuntimeWarning: divide by zero encountered in log10\n",
      "  \"\"\"Entry point for launching an IPython kernel.\n"
     ]
    },
    {
     "data": {
      "text/plain": [
       "<matplotlib.colorbar.Colorbar at 0x7fc2d0f3b6d8>"
      ]
     },
     "execution_count": 59,
     "metadata": {},
     "output_type": "execute_result"
    },
    {
     "name": "stderr",
     "output_type": "stream",
     "text": [
      "/usr/local/lib/python3.4/dist-packages/matplotlib/font_manager.py:1328: UserWarning: findfont: Font family ['serif'] not found. Falling back to DejaVu Sans\n",
      "  (prop.get_family(), self.defaultFamily[fontext]))\n"
     ]
    },
    {
     "data": {
      "image/png": "[encoded data removed]",
      "text/plain": [
       "<Figure size 432x288 with 2 Axes>"
      ]
     },
     "metadata": {},
     "output_type": "display_data"
    }
   ],
   "source": [
    "imshow(np.log10(np.abs(bS[:,:,1]*S_opt[:,:,1])).T, origin='lower')\n",
    "colorbar()"
   ]
  },
  {
   "cell_type": "code",
   "execution_count": 60,
   "metadata": {},
   "outputs": [
    {
     "name": "stderr",
     "output_type": "stream",
     "text": [
      "/usr/local/lib/python3.4/dist-packages/ipykernel_launcher.py:1: RuntimeWarning: divide by zero encountered in log10\n",
      "  \"\"\"Entry point for launching an IPython kernel.\n"
     ]
    },
    {
     "data": {
      "text/plain": [
       "<matplotlib.colorbar.Colorbar at 0x7fc2d0e63b70>"
      ]
     },
     "execution_count": 60,
     "metadata": {},
     "output_type": "execute_result"
    },
    {
     "name": "stderr",
     "output_type": "stream",
     "text": [
      "/usr/local/lib/python3.4/dist-packages/matplotlib/font_manager.py:1328: UserWarning: findfont: Font family ['serif'] not found. Falling back to DejaVu Sans\n",
      "  (prop.get_family(), self.defaultFamily[fontext]))\n"
     ]
    },
    {
     "data": {
      "image/png": "[encoded data removed]",
      "text/plain": [
       "<Figure size 432x288 with 2 Axes>"
      ]
     },
     "metadata": {},
     "output_type": "display_data"
    }
   ],
   "source": [
    "imshow(np.log10(np.abs(S1_opt[:,:,0])).T, origin='lower')\n",
    "colorbar()"
   ]
  },
  {
   "cell_type": "code",
   "execution_count": 15,
   "metadata": {},
   "outputs": [],
   "source": [
    "y_grid = np.arange(-300, 300, 5)\n",
    "z_grid = np.arange(-300, 300, 5)\n",
    "y_grid, z_grid = meshgrid(y_grid, z_grid)"
   ]
  },
  {
   "cell_type": "code",
   "execution_count": 31,
   "metadata": {},
   "outputs": [],
   "source": [
    "rho_mwlmc_all= biff.density(np.ascontiguousarray(np.array([np.zeros(len(y_grid.flatten())), \n",
    "                                                            y_grid.flatten(), \n",
    "                                                            z_grid.flatten()]).T), \n",
    "                           S_mean, T_mean, M=1, r_s=40.85)"
   ]
  },
  {
   "cell_type": "code",
   "execution_count": 32,
   "metadata": {},
   "outputs": [],
   "source": [
    "rho_mwlmc_opt= biff.density(np.ascontiguousarray(np.array([np.zeros(len(y_grid.flatten())), \n",
    "                                                            y_grid.flatten(), \n",
    "                                                            z_grid.flatten()]).T), \n",
    "                           S_opt, T_opt, M=1, r_s=40.85)"
   ]
  },
  {
   "cell_type": "code",
   "execution_count": 33,
   "metadata": {},
   "outputs": [
    {
     "data": {
      "text/plain": [
       "<matplotlib.colorbar.Colorbar at 0x7f1ed1b1b048>"
      ]
     },
     "execution_count": 33,
     "metadata": {},
     "output_type": "execute_result"
    },
    {
     "data": {
      "image/png": "[encoded data removed]",
      "text/plain": [
       "<matplotlib.figure.Figure at 0x7f1ed1b6cdd8>"
      ]
     },
     "metadata": {},
     "output_type": "display_data"
    }
   ],
   "source": [
    "figure(figsize=(16,6))\n",
    "subplot(1, 2, 1)\n",
    "contourf(y_grid, z_grid, np.log10(np.abs(rho_mwlmc_all)).reshape(120, 120), 20,\n",
    "         origin='lower', cmap='inferno')\n",
    "\n",
    "#xlim(-20, 20)\n",
    "#ylim(-20, 20)\n",
    "colorbar()\n",
    "\n",
    "subplot(1, 2, 2)\n",
    "contourf(y_grid, z_grid, np.log10(np.abs(rho_mwlmc_opt)).reshape(120, 120), 20,\n",
    "         origin='lower', cmap='inferno')\n",
    "\n",
    "#xlim(-20, 20)\n",
    "#ylim(-20, 20)\n",
    "colorbar()"
   ]
  },
  {
   "cell_type": "code",
   "execution_count": 23,
   "metadata": {},
   "outputs": [
    {
     "data": {
      "text/plain": [
       "<matplotlib.colorbar.Colorbar at 0x7f1ed1ee08d0>"
      ]
     },
     "execution_count": 23,
     "metadata": {},
     "output_type": "execute_result"
    },
    {
     "data": {
      "image/png": "[encoded data removed]",
      "text/plain": [
       "<matplotlib.figure.Figure at 0x7f1ed1f829e8>"
      ]
     },
     "metadata": {},
     "output_type": "display_data"
    }
   ],
   "source": [
    "figure(figsize=(8,6))\n"
   ]
  },
  {
   "cell_type": "code",
   "execution_count": null,
   "metadata": {},
   "outputs": [],
   "source": []
  }
 ],
 "metadata": {
  "kernelspec": {
   "display_name": "Python 3",
   "language": "python",
   "name": "python3"
  },
  "language_info": {
   "codemirror_mode": {
    "name": "ipython",
    "version": 3
   },
   "file_extension": ".py",
   "mimetype": "text/x-python",
   "name": "python",
   "nbconvert_exporter": "python",
   "pygments_lexer": "ipython3",
   "version": "3.5.2"
  }
 },
 "nbformat": 4,
 "nbformat_minor": 2
}
