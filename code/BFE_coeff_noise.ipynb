{
 "cells": [
  {
   "cell_type": "markdown",
   "metadata": {},
   "source": [
    "- Organize all the data of the coefficients and the covariance\n",
    "- Compute mean coefficients\n",
    "- Compute variance\n",
    "- Compute smoothing\n",
    "- Compute S/N\n",
    "- Select coefficients\n",
    "- Print coefficients\n"
   ]
  },
  {
   "cell_type": "code",
   "execution_count": 1,
   "metadata": {},
   "outputs": [
    {
     "name": "stdout",
     "output_type": "stream",
     "text": [
      "Populating the interactive namespace from numpy and matplotlib\n"
     ]
    }
   ],
   "source": [
    "%pylab inline\n",
    "import biff\n"
   ]
  },
  {
   "cell_type": "code",
   "execution_count": 2,
   "metadata": {},
   "outputs": [],
   "source": [
    "font = {'size':18, 'family':'serif'}\n",
    "matplotlib.rc('font', **font)\n"
   ]
  },
  {
   "cell_type": "code",
   "execution_count": 3,
   "metadata": {},
   "outputs": [],
   "source": [
    "r_s_sims = 40.85\n",
    "G_gadget=43007.1 #kpc3/(Gyr2Msun)/1E10."
   ]
  },
  {
   "cell_type": "code",
   "execution_count": 71,
   "metadata": {},
   "outputs": [],
   "source": [
    "## Reading coefficients\n",
    "def reshape_matrix(matrix, n, l, m):\n",
    "    col_matrix = np.zeros((n+1, l+1, m+1))\n",
    "\n",
    "\n",
    "    counter = 0\n",
    "    for n in range(n+1):\n",
    "        for l in range(l+1):\n",
    "            for m in range(0, l+1):\n",
    "                col_matrix[n][l][m] = matrix[counter]\n",
    "                counter +=1\n",
    "    return col_matrix"
   ]
  },
  {
   "cell_type": "code",
   "execution_count": 219,
   "metadata": {},
   "outputs": [],
   "source": [
    "## Reading coefficients\n",
    "def read_coeff_matrix(filename, nfiles, n, l, m, nmin=0, nmax=1000):\n",
    "\n",
    "    S_matrix = np.zeros((int((n+1)*(l+1)*(l/2.+1)), nfiles))\n",
    "    T_matrix = np.zeros((int((n+1)*(l+1)*(l/2.+1)), nfiles))\n",
    "    \n",
    "    S_mean = np.zeros((int((n+1)*(l+1)*(l/2.+1))))\n",
    "    T_mean = np.zeros((int((n+1)*(l+1)*(l/2.+1))))\n",
    "\n",
    "    for i in range(nmin, nmax+1):\n",
    "        coeff = np.loadtxt(filename + '{:03d}.txt'.format(i))\n",
    "        S_matrix[:,i] = coeff[:,0]\n",
    "        T_matrix[:,i] = coeff[:,1]\n",
    "        \n",
    "    for i in range(len(S_matrix[:,0])):\n",
    "        S_mean[i] = np.mean(S_matrix[i])\n",
    "        T_mean[i] = np.mean(T_matrix[i])\n",
    "\n",
    "    S_mean_matrix = reshape_matrix(S_mean, n, l, m)\n",
    "    T_mean_matrix = reshape_matrix(S_mean, n, l, m)\n",
    "\n",
    "    return S_mean_matrix, T_mean_matrix\n",
    "\n",
    "## Reading covariance\n",
    "def var_matrix(filename, filename2, nfiles, n, l, m, mass, nmin=0, nmax=1000):\n",
    "\n",
    "    Scov_matrix = np.zeros((int((n+1)*(l+1)*(l/2.+1)), nfiles))\n",
    "    Tcov_matrix = np.zeros((int((n+1)*(l+1)*(l/2.+1)), nfiles))\n",
    "    \n",
    "    Svar_mean = np.zeros((int((n+1)*(l+1)*(l/2.+1))))\n",
    "    Tvar_mean = np.zeros((int((n+1)*(l+1)*(l/2.+1))))\n",
    "    \n",
    "    \n",
    "    S_matrix = np.zeros((int((n+1)*(l+1)*(l/2.+1)), nfiles))\n",
    "    T_matrix = np.zeros((int((n+1)*(l+1)*(l/2.+1)), nfiles))\n",
    "    \n",
    "    for i in range(nmin, nmax+1):\n",
    "        cov = np.loadtxt(filename + '{:03d}.txt'.format(i))\n",
    "        coeff = np.loadtxt(filename2 + '{:03d}.txt'.format(i))\n",
    "\n",
    "        Scov_matrix[:,i] = cov[:,0]\n",
    "        Tcov_matrix[:,i] = cov[:,1]\n",
    "        \n",
    "        S_matrix[:,i] = coeff[:,0]\n",
    "        T_matrix[:,i] = coeff[:,1]\n",
    "    \n",
    "\n",
    "    for i in range(len(Scov_matrix[:,0])):\n",
    "        Svar_mean[i] = np.mean((Scov_matrix[i] - mass*S_matrix[i]**2))#**2) / nfiles\n",
    "        Tvar_mean[i] = np.mean((Tcov_matrix[i] - mass*T_matrix[1]**2))#**2) / nfiles\n",
    "\n",
    "    Svar_mean_matrix = reshape_matrix(Svar_mean, n, l, m)\n",
    "    Tvar_mean_matrix = reshape_matrix(Tvar_mean, n, l, m)\n",
    "        \n",
    "    return Svar_mean_matrix, Tvar_mean_matrix\n",
    "\n"
   ]
  },
  {
   "cell_type": "code",
   "execution_count": 220,
   "metadata": {},
   "outputs": [],
   "source": [
    "S_mean, T_mean  = read_coeff_matrix('/media/ngaravito/4fb4fd3d-1665-4892-a18d-bdbb1185a07b1/data_bfe/bfe_mwlmc5_b1_1e6/coeff_rand_mwlmc5_b1_1E6_', 1000, 20, 20, 20, nmin=0, nmax=999)\n",
    "Scov_mean, Tcov_mean  = var_matrix('/media/ngaravito/4fb4fd3d-1665-4892-a18d-bdbb1185a07b1/data_bfe/bfe_mwlmc5_b1_1e6/cov_matrix_rand_mwlmc5_b1_1E6_',\n",
    "                                        '/media/ngaravito/4fb4fd3d-1665-4892-a18d-bdbb1185a07b1/data_bfe/bfe_mwlmc5_b1_1e6/coeff_rand_mwlmc5_b1_1E6_', 1000, 20, 20, 20, \n",
    "                                        mass, nmin=0, nmax=999)"
   ]
  },
  {
   "cell_type": "code",
   "execution_count": 221,
   "metadata": {},
   "outputs": [],
   "source": [
    "def copy_matrix(M, indices):\n",
    "    M_new = np.zeros(shape(M))\n",
    "    for i in range(len(indices[0])):\n",
    "        M_new[indices[0][i]][indices[1][i]][indices[2][i]] = M[indices[0][i]][indices[1][i]][indices[2][i]]\n",
    "    return M_new\n",
    "\n",
    "def smoothing(var_coeff, coeff):\n",
    "    \"\"\"\n",
    "    Coefficients smoothing \n",
    "    \n",
    "    \"\"\"\n",
    "    b_nlm = 1/(1 + var_coeff/coeff**2)\n",
    "    # This line remove nans an put the original values\n",
    "    b_nlm_values = np.nan_to_num(b_nlm)\n",
    "    return b_nlm_values\n",
    "\n",
    "def coefficients_smooth_level(S, T, bs, bt, b_cut, verb=0):\n",
    "    \"\"\"\n",
    "    Returns coefficients with energy higher than e_cut\n",
    "    e_cut : float \n",
    "        between 0 and 1\n",
    "        \n",
    "    \"\"\"\n",
    " \n",
    "    bs_cut_index = np.where(bs>b_cut)\n",
    "    bt_cut_index = np.where(bt>b_cut)\n",
    "    \n",
    "    if verb == 1:\n",
    "        print('N coeff S= ', len(bs_cut_index[0]))\n",
    "        print('N coeff T= ', len(bt_cut_index[0]))\n",
    "\n",
    "    S_new = copy_matrix(S, bs_cut_index)\n",
    "    T_new = copy_matrix(T, bt_cut_index)\n",
    "    \n",
    "    return S_new, T_new, len(bs_cut_index[0])"
   ]
  },
  {
   "cell_type": "code",
   "execution_count": 222,
   "metadata": {},
   "outputs": [],
   "source": [
    "mass =1.5772125152E-6"
   ]
  },
  {
   "cell_type": "code",
   "execution_count": 223,
   "metadata": {},
   "outputs": [
    {
     "name": "stderr",
     "output_type": "stream",
     "text": [
      "/usr/local/lib/python3.4/dist-packages/ipykernel_launcher.py:12: RuntimeWarning: invalid value encountered in true_divide\n",
      "  if sys.path[0] == '':\n"
     ]
    }
   ],
   "source": [
    "bS = smoothing(Scov_mean, S_mean)\n",
    "bT = smoothing(Tcov_mean, T_mean)"
   ]
  },
  {
   "cell_type": "code",
   "execution_count": 224,
   "metadata": {},
   "outputs": [
    {
     "name": "stdout",
     "output_type": "stream",
     "text": [
      "N coeff S=  1528\n",
      "N coeff T=  1806\n"
     ]
    }
   ],
   "source": [
    "S_opt, T_opt, Ncoeff = coefficients_smooth_level(S_mean, T_mean, bS, bT, 0.5, verb=1)"
   ]
  },
  {
   "cell_type": "code",
   "execution_count": 205,
   "metadata": {},
   "outputs": [],
   "source": [
    "S1, T1  = read_coeff_matrix('/media/ngaravito/4fb4fd3d-1665-4892-a18d-bdbb1185a07b1/data_bfe/bfe_mwlmc5_b1_1e6/coeff_rand_mwlmc5_b1_1E6_', 2, 20, 20, 20, nmin=0, nmax=1)\n",
    "Scov1, Tcov1  = read_cov_matrix('/media/ngaravito/4fb4fd3d-1665-4892-a18d-bdbb1185a07b1/data_bfe/bfe_mwlmc5_b1_1e6/cov_matrix_rand_mwlmc5_b1_1E6_', 2, 20, 20, 20, nmin=0, nmax=1)"
   ]
  },
  {
   "cell_type": "code",
   "execution_count": 206,
   "metadata": {},
   "outputs": [
    {
     "name": "stderr",
     "output_type": "stream",
     "text": [
      "/usr/local/lib/python3.4/dist-packages/ipykernel_launcher.py:12: RuntimeWarning: invalid value encountered in true_divide\n",
      "  if sys.path[0] == '':\n"
     ]
    }
   ],
   "source": [
    "bS1 = smoothing(Scov1, S1)\n",
    "bT1 = smoothing(Tcov1, T1)"
   ]
  },
  {
   "cell_type": "code",
   "execution_count": 207,
   "metadata": {},
   "outputs": [
    {
     "name": "stdout",
     "output_type": "stream",
     "text": [
      "N coeff S=  2428\n",
      "N coeff T=  2428\n"
     ]
    }
   ],
   "source": [
    "S1_opt, T1_opt, Ncoeff = coefficients_smooth_level(S1, T1, bS1, bT1, 0.5, verb=1)"
   ]
  },
  {
   "cell_type": "code",
   "execution_count": 225,
   "metadata": {},
   "outputs": [
    {
     "data": {
      "text/plain": [
       "<matplotlib.colorbar.Colorbar at 0x7f30f82926d8>"
      ]
     },
     "execution_count": 225,
     "metadata": {},
     "output_type": "execute_result"
    },
    {
     "name": "stderr",
     "output_type": "stream",
     "text": [
      "/usr/local/lib/python3.4/dist-packages/matplotlib/font_manager.py:1328: UserWarning: findfont: Font family ['serif'] not found. Falling back to DejaVu Sans\n",
      "  (prop.get_family(), self.defaultFamily[fontext]))\n"
     ]
    },
    {
     "data": {
      "image/png": "[encoded data removed]",
      "text/plain": [
       "<Figure size 432x288 with 2 Axes>"
      ]
     },
     "metadata": {},
     "output_type": "display_data"
    }
   ],
   "source": [
    "imshow(np.log10(bS[:,:,0]).T, origin='lower')\n",
    "colorbar()"
   ]
  },
  {
   "cell_type": "code",
   "execution_count": 226,
   "metadata": {},
   "outputs": [
    {
     "data": {
      "text/plain": [
       "<matplotlib.colorbar.Colorbar at 0x7f30f81b9978>"
      ]
     },
     "execution_count": 226,
     "metadata": {},
     "output_type": "execute_result"
    },
    {
     "name": "stderr",
     "output_type": "stream",
     "text": [
      "/usr/local/lib/python3.4/dist-packages/matplotlib/font_manager.py:1328: UserWarning: findfont: Font family ['serif'] not found. Falling back to DejaVu Sans\n",
      "  (prop.get_family(), self.defaultFamily[fontext]))\n"
     ]
    },
    {
     "data": {
      "image/png": "[encoded data removed]",
      "text/plain": [
       "<Figure size 432x288 with 2 Axes>"
      ]
     },
     "metadata": {},
     "output_type": "display_data"
    }
   ],
   "source": [
    "imshow(np.log10(bS1[:,:,0]).T, origin='lower')\n",
    "colorbar()"
   ]
  },
  {
   "cell_type": "code",
   "execution_count": 218,
   "metadata": {},
   "outputs": [
    {
     "name": "stderr",
     "output_type": "stream",
     "text": [
      "/usr/local/lib/python3.4/dist-packages/ipykernel_launcher.py:1: RuntimeWarning: divide by zero encountered in log10\n",
      "  \"\"\"Entry point for launching an IPython kernel.\n"
     ]
    },
    {
     "data": {
      "text/plain": [
       "<matplotlib.colorbar.Colorbar at 0x7f30f82d5a20>"
      ]
     },
     "execution_count": 218,
     "metadata": {},
     "output_type": "execute_result"
    },
    {
     "name": "stderr",
     "output_type": "stream",
     "text": [
      "/usr/local/lib/python3.4/dist-packages/matplotlib/font_manager.py:1328: UserWarning: findfont: Font family ['serif'] not found. Falling back to DejaVu Sans\n",
      "  (prop.get_family(), self.defaultFamily[fontext]))\n"
     ]
    },
    {
     "data": {
      "image/png": "[encoded data removed]",
      "text/plain": [
       "<Figure size 432x288 with 2 Axes>"
      ]
     },
     "metadata": {},
     "output_type": "display_data"
    }
   ],
   "source": [
    "imshow(np.log10(np.abs(bS[:,:,1]*S_opt[:,:,1])).T, origin='lower')\n",
    "colorbar()"
   ]
  },
  {
   "cell_type": "code",
   "execution_count": 217,
   "metadata": {},
   "outputs": [
    {
     "name": "stderr",
     "output_type": "stream",
     "text": [
      "/usr/local/lib/python3.4/dist-packages/ipykernel_launcher.py:1: RuntimeWarning: divide by zero encountered in log10\n",
      "  \"\"\"Entry point for launching an IPython kernel.\n"
     ]
    },
    {
     "data": {
      "text/plain": [
       "<matplotlib.colorbar.Colorbar at 0x7f30f84573c8>"
      ]
     },
     "execution_count": 217,
     "metadata": {},
     "output_type": "execute_result"
    },
    {
     "name": "stderr",
     "output_type": "stream",
     "text": [
      "/usr/local/lib/python3.4/dist-packages/matplotlib/font_manager.py:1328: UserWarning: findfont: Font family ['serif'] not found. Falling back to DejaVu Sans\n",
      "  (prop.get_family(), self.defaultFamily[fontext]))\n"
     ]
    },
    {
     "data": {
      "image/png": "[encoded data removed]",
      "text/plain": [
       "<Figure size 432x288 with 2 Axes>"
      ]
     },
     "metadata": {},
     "output_type": "display_data"
    }
   ],
   "source": [
    "imshow(np.log10(np.abs(S1_opt[:,:,0])).T, origin='lower')\n",
    "colorbar()"
   ]
  },
  {
   "cell_type": "code",
   "execution_count": null,
   "metadata": {},
   "outputs": [],
   "source": []
  }
 ],
 "metadata": {
  "kernelspec": {
   "display_name": "Python 3",
   "language": "python",
   "name": "python3"
  },
  "language_info": {
   "codemirror_mode": {
    "name": "ipython",
    "version": 3
   },
   "file_extension": ".py",
   "mimetype": "text/x-python",
   "name": "python",
   "nbconvert_exporter": "python",
   "pygments_lexer": "ipython3",
   "version": "3.4.3"
  }
 },
 "nbformat": 4,
 "nbformat_minor": 2
}
