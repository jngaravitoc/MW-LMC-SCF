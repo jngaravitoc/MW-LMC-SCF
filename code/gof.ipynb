{
 "cells": [
  {
   "cell_type": "markdown",
   "metadata": {},
   "source": [
    "\\begin{equation}\n",
    "\\dfrac{1}{\\pi}\\dfrac{a}{2^{4l+5}}  K_{nl}K_{n'l} \\int_{-1}^1 d\\xi (\\xi+1)^{2l} (1-\\xi)^{2l+4} C_n^{2l+3/2} (\\xi)  C_{n'}^{2l+3/2} (\\xi)\n",
    "\\end{equation}"
   ]
  },
  {
   "cell_type": "code",
   "execution_count": 4,
   "metadata": {},
   "outputs": [
    {
     "name": "stdout",
     "output_type": "stream",
     "text": [
      "Populating the interactive namespace from numpy and matplotlib\n"
     ]
    }
   ],
   "source": [
    "%pylab inline\n",
    "import scipy.special as special\n",
    "import scipy.integrate as integrate\n",
    "from mwlmc_bfe import smooth_coeff"
   ]
  },
  {
   "cell_type": "code",
   "execution_count": 14,
   "metadata": {},
   "outputs": [],
   "source": [
    "def integrand(xi, n, n_p, l):\n",
    "    \"\"\"\n",
    "    \n",
    "    \"\"\"\n",
    "    factor = (xi+1)**(2*l) * (1-xi)**(2*l+3/2.)\n",
    "    gegenbauer1 = special.gegenbauer(n, 2*l+3/2.)\n",
    "    gegenbauer2 = special.gegenbauer(n_p, 2*l+3/2.)\n",
    "    \n",
    "    return factor*gegenbauer1(xi)*gegenbauer2(xi)\n",
    "    \n",
    "def Knl(n, l):\n",
    "    return ( 0.5*n*(n+4*l+3) )+( (l+1)*(2*l+1) )\n",
    "\n",
    "def factors(n, n_p, l, r_s):\n",
    "    f = 1/np.pi*r_s/2**(4*l+5)\n",
    "    K_nl = Knl(n, l)\n",
    "    K_npl = Knl(n_p, l)\n",
    "    return f*K_nl*K_npl\n",
    "    \n",
    "    \n",
    "def coefficients_sum(S, T, nmax, lmax, r_s):\n",
    "    \"\"\"\n",
    "    \n",
    "    \n",
    "    \"\"\"\n",
    "    rho2 = 0\n",
    "    for n_p in range(nmax):\n",
    "        print(n_p)\n",
    "        for n in range(nmax):\n",
    "            for l in range(lmax):\n",
    "                f = factors(n, n_p, l, r_s)\n",
    "                I = integrate.quad(integrand, -1, 1, args=(n,n_p,l))[0]\n",
    "                for m in range(lmax):\n",
    "                    rho2 += 2*(S[n, l, m]*S[n_p, l, m] + T[n, l, m]*T[n_p, l, m])*(-1)**m * f * I\n",
    "    return rho2\n",
    "    \n"
   ]
  },
  {
   "cell_type": "code",
   "execution_count": 50,
   "metadata": {},
   "outputs": [],
   "source": [
    "I = np.zeros((10, 10, 10))\n",
    "for n in range(0, 10):\n",
    "    for n_p in range(0, 10):\n",
    "        for l in range(0, 10):\n",
    "            I[n, n_p, l] = integrate.quad(integrand, -1, 1, args=(n,n_p,l))[0]"
   ]
  },
  {
   "cell_type": "code",
   "execution_count": 52,
   "metadata": {},
   "outputs": [
    {
     "data": {
      "text/plain": [
       "array([2.2627417 , 1.12521732, 0.84085236, 0.69923954, 0.61101391,\n",
       "       0.54940332, 0.50327919, 0.46709007, 0.43771964, 0.41326685])"
      ]
     },
     "execution_count": 52,
     "metadata": {},
     "output_type": "execute_result"
    }
   ],
   "source": [
    "I[0][:][0]"
   ]
  },
  {
   "cell_type": "code",
   "execution_count": 54,
   "metadata": {},
   "outputs": [
    {
     "data": {
      "text/plain": [
       "array([-2.90923933, -1.57530424, -1.20644034, -1.01502514, -0.89302034,\n",
       "       -0.80657084, -0.74119299, -0.68951392, -0.64733187, -0.61205344])"
      ]
     },
     "execution_count": 54,
     "metadata": {},
     "output_type": "execute_result"
    }
   ],
   "source": [
    "I[1][:][0]"
   ]
  },
  {
   "cell_type": "code",
   "execution_count": 2,
   "metadata": {},
   "outputs": [],
   "source": [
    "covmat_mw_path = '../data/MW/MW_ref/mw_reference_BFE_T_V_iterative_1e6_300_covmat_sample_0'\n",
    "coeff_mw_path =  '../data/MW/MW_ref/mw_reference_BFE_T_V_iterative_1e6_300_coeff_sample_0'\n",
    "mass = 1.7995383e-05\n"
   ]
  },
  {
   "cell_type": "code",
   "execution_count": 5,
   "metadata": {},
   "outputs": [
    {
     "name": "stderr",
     "output_type": "stream",
     "text": [
      "/home/xzk/work/github/MW-LMC-SCF/code/coefficients_smoothing.py:111: RuntimeWarning: invalid value encountered in double_scalars\n",
      "  bt = 1 / (1 + (varT/T**2))\n"
     ]
    }
   ],
   "source": [
    "S_mw, T_mw, N_mw = smooth_coeff(coeff_mw_path, covmat_mw_path, 0, 5, 20, 20, 20, 5, mass)\n"
   ]
  },
  {
   "cell_type": "code",
   "execution_count": 18,
   "metadata": {},
   "outputs": [
    {
     "data": {
      "text/plain": [
       "46050.22826059356"
      ]
     },
     "execution_count": 18,
     "metadata": {},
     "output_type": "execute_result"
    }
   ],
   "source": [
    "coefficients_sum(S_mw, T_mw, 5, 5, 40.85)"
   ]
  },
  {
   "cell_type": "code",
   "execution_count": 29,
   "metadata": {},
   "outputs": [],
   "source": [
    "def rho_square(sn):\n",
    "    S_mw, T_mw, N_mw = smooth_coeff(coeff_mw_path, covmat_mw_path, 0, 5, 20, 20, 20, sn, mass)\n",
    "    rho2 = coefficients_sum(S_mw, T_mw, 10, 10, 40.85)\n",
    "    return rho2"
   ]
  },
  {
   "cell_type": "code",
   "execution_count": 30,
   "metadata": {},
   "outputs": [
    {
     "name": "stderr",
     "output_type": "stream",
     "text": [
      "/home/xzk/work/github/MW-LMC-SCF/code/coefficients_smoothing.py:111: RuntimeWarning: invalid value encountered in double_scalars\n",
      "  bt = 1 / (1 + (varT/T**2))\n"
     ]
    }
   ],
   "source": [
    "sn = np.linspace(0.5, 6, 20)\n",
    "rho2 = np.zeros(20)\n",
    "for i in range(len(sn)):\n",
    "    rho2[i] = rho_square(sn[i])"
   ]
  },
  {
   "cell_type": "code",
   "execution_count": 28,
   "metadata": {},
   "outputs": [
    {
     "data": {
      "text/plain": [
       "[<matplotlib.lines.Line2D at 0x7f678faf26a0>]"
      ]
     },
     "execution_count": 28,
     "metadata": {},
     "output_type": "execute_result"
    },
    {
     "data": {
      "image/png": "[encoded data removed]",
      "text/plain": [
       "<matplotlib.figure.Figure at 0x7f6791c83f28>"
      ]
     },
     "metadata": {},
     "output_type": "display_data"
    }
   ],
   "source": [
    "plot(sn, rho2)"
   ]
  },
  {
   "cell_type": "code",
   "execution_count": 32,
   "metadata": {},
   "outputs": [
    {
     "data": {
      "text/plain": [
       "[<matplotlib.lines.Line2D at 0x7f678fae5da0>]"
      ]
     },
     "execution_count": 32,
     "metadata": {},
     "output_type": "execute_result"
    },
    {
     "data": {
      "image/png": "[encoded data removed]",
      "text/plain": [
       "<matplotlib.figure.Figure at 0x7f6791b7e2b0>"
      ]
     },
     "metadata": {},
     "output_type": "display_data"
    }
   ],
   "source": [
    "plot(sn, rho2)"
   ]
  },
  {
   "cell_type": "code",
   "execution_count": 23,
   "metadata": {},
   "outputs": [
    {
     "name": "stderr",
     "output_type": "stream",
     "text": [
      "/home/xzk/work/github/MW-LMC-SCF/code/coefficients_smoothing.py:111: RuntimeWarning: invalid value encountered in double_scalars\n",
      "  bt = 1 / (1 + (varT/T**2))\n"
     ]
    },
    {
     "data": {
      "text/plain": [
       "46051.413413075024"
      ]
     },
     "execution_count": 23,
     "metadata": {},
     "output_type": "execute_result"
    }
   ],
   "source": [
    "rho_square(1)"
   ]
  },
  {
   "cell_type": "code",
   "execution_count": 24,
   "metadata": {},
   "outputs": [
    {
     "name": "stderr",
     "output_type": "stream",
     "text": [
      "/home/xzk/work/github/MW-LMC-SCF/code/coefficients_smoothing.py:111: RuntimeWarning: invalid value encountered in double_scalars\n",
      "  bt = 1 / (1 + (varT/T**2))\n"
     ]
    },
    {
     "data": {
      "text/plain": [
       "46050.45172084186"
      ]
     },
     "execution_count": 24,
     "metadata": {},
     "output_type": "execute_result"
    }
   ],
   "source": [
    "rho_square(6)"
   ]
  },
  {
   "cell_type": "code",
   "execution_count": null,
   "metadata": {},
   "outputs": [],
   "source": []
  }
 ],
 "metadata": {
  "kernelspec": {
   "display_name": "Python 3",
   "language": "python",
   "name": "python3"
  },
  "language_info": {
   "codemirror_mode": {
    "name": "ipython",
    "version": 3
   },
   "file_extension": ".py",
   "mimetype": "text/x-python",
   "name": "python",
   "nbconvert_exporter": "python",
   "pygments_lexer": "ipython3",
   "version": "3.5.2"
  }
 },
 "nbformat": 4,
 "nbformat_minor": 2
}
