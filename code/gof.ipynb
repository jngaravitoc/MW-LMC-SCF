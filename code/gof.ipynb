{
 "cells": [
  {
   "cell_type": "markdown",
   "metadata": {},
   "source": [
    "\\begin{equation}\n",
    "\\dfrac{1}{\\pi}\\dfrac{a}{2^{4l+5}}  K_{nl}K_{n'l} \\int_{-1}^1 d\\xi (\\xi+1)^{2l} (1-\\xi)^{2l+4} C_n^{2l+3/2} (\\xi)  C_{n'}^{2l+3/2} (\\xi)\n",
    "\\end{equation}"
   ]
  },
  {
   "cell_type": "code",
   "execution_count": 1,
   "metadata": {},
   "outputs": [
    {
     "name": "stdout",
     "output_type": "stream",
     "text": [
      "Populating the interactive namespace from numpy and matplotlib\n"
     ]
    },
    {
     "name": "stderr",
     "output_type": "stream",
     "text": [
      "/usr/lib/python3.5/importlib/_bootstrap.py:222: RuntimeWarning: numpy.ufunc size changed, may indicate binary incompatibility. Expected 192 from C header, got 216 from PyObject\n",
      "  return f(*args, **kwds)\n",
      "/usr/lib/python3.5/importlib/_bootstrap.py:222: RuntimeWarning: numpy.ufunc size changed, may indicate binary incompatibility. Expected 192 from C header, got 216 from PyObject\n",
      "  return f(*args, **kwds)\n"
     ]
    }
   ],
   "source": [
    "%pylab inline\n",
    "import scipy.special as special\n",
    "import scipy.integrate as integrate"
   ]
  },
  {
   "cell_type": "code",
   "execution_count": 7,
   "metadata": {},
   "outputs": [
    {
     "name": "stdout",
     "output_type": "stream",
     "text": [
      "1.0\n",
      "2.0\n",
      "3.9999999999999996\n",
      "8.0\n",
      "16.0\n",
      "32.00000000000001\n",
      "64.0\n",
      "128.0\n",
      "255.99999999999997\n",
      "511.99999999999994\n"
     ]
    }
   ],
   "source": [
    "for n in range(10):\n",
    "    Cn_alpha = special.gegenbauer(n, 1)\n",
    "    print(Cn_alpha[n])\n",
    "    "
   ]
  },
  {
   "cell_type": "code",
   "execution_count": 42,
   "metadata": {},
   "outputs": [],
   "source": [
    "def integrand(xi, n, n_p, l):\n",
    "    \"\"\"\n",
    "    \n",
    "    \"\"\"\n",
    "    factor = (xi+1)**(2*l) * (1-xi)**(2*l+3/2.)\n",
    "    gegenbauer1 = special.gegenbauer(n, 2*l+3/2.)\n",
    "    gegenbauer2 = special.gegenbauer(n_p, 2*l+3/2.)\n",
    "    \n",
    "    return factor*gegenbauer1(xi)*gegenbauer2(xi)\n",
    "    \n",
    "def Knl(n, l):\n",
    "    \n",
    "    \n",
    "def factors(n, n_p, l, r_s):\n",
    "    f = 1/np.pi*a/2**(4*l+5)\n",
    "    K_nl = Knl(n, l)\n",
    "    K_npl = Knl(n_p, l)\n",
    "    \n",
    "    "
   ]
  },
  {
   "cell_type": "code",
   "execution_count": 50,
   "metadata": {},
   "outputs": [],
   "source": [
    "I = np.zeros((10, 10, 10))\n",
    "for n in range(0, 10):\n",
    "    for n_p in range(0, 10):\n",
    "        for l in range(0, 10):\n",
    "            I[n, n_p, l] = integrate.quad(integrand, -1, 1, args=(n,n_p,l))[0]"
   ]
  },
  {
   "cell_type": "code",
   "execution_count": 52,
   "metadata": {},
   "outputs": [
    {
     "data": {
      "text/plain": [
       "array([2.2627417 , 1.12521732, 0.84085236, 0.69923954, 0.61101391,\n",
       "       0.54940332, 0.50327919, 0.46709007, 0.43771964, 0.41326685])"
      ]
     },
     "execution_count": 52,
     "metadata": {},
     "output_type": "execute_result"
    }
   ],
   "source": [
    "I[0][:][0]"
   ]
  },
  {
   "cell_type": "code",
   "execution_count": 54,
   "metadata": {},
   "outputs": [
    {
     "data": {
      "text/plain": [
       "array([-2.90923933, -1.57530424, -1.20644034, -1.01502514, -0.89302034,\n",
       "       -0.80657084, -0.74119299, -0.68951392, -0.64733187, -0.61205344])"
      ]
     },
     "execution_count": 54,
     "metadata": {},
     "output_type": "execute_result"
    }
   ],
   "source": [
    "I[1][:][0]"
   ]
  },
  {
   "cell_type": "code",
   "execution_count": 21,
   "metadata": {},
   "outputs": [],
   "source": [
    "n_p =1 \n",
    "l = 1\n",
    "g1 = special.gegenbauer(n_p, 2*l+3/2.)"
   ]
  },
  {
   "cell_type": "code",
   "execution_count": 28,
   "metadata": {},
   "outputs": [],
   "source": [
    "x = map(g1,np.linspace(-1, 1))"
   ]
  },
  {
   "cell_type": "code",
   "execution_count": 41,
   "metadata": {},
   "outputs": [
    {
     "data": {
      "text/plain": [
       "14.0"
      ]
     },
     "execution_count": 41,
     "metadata": {},
     "output_type": "execute_result"
    }
   ],
   "source": [
    "g1(2)"
   ]
  },
  {
   "cell_type": "code",
   "execution_count": null,
   "metadata": {},
   "outputs": [],
   "source": []
  }
 ],
 "metadata": {
  "kernelspec": {
   "display_name": "Python 3",
   "language": "python",
   "name": "python3"
  },
  "language_info": {
   "codemirror_mode": {
    "name": "ipython",
    "version": 3
   },
   "file_extension": ".py",
   "mimetype": "text/x-python",
   "name": "python",
   "nbconvert_exporter": "python",
   "pygments_lexer": "ipython3",
   "version": "3.5.2"
  }
 },
 "nbformat": 4,
 "nbformat_minor": 2
}
