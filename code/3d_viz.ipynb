{
 "cells": [
  {
   "cell_type": "markdown",
   "metadata": {},
   "source": [
    "# to -do :\n",
    "\n",
    "1. Add one contour for the LMC using the BFE for the LMC.\n",
    "2. Complement the movie making it as a function of time. "
   ]
  },
  {
   "cell_type": "code",
   "execution_count": 1,
   "metadata": {
    "collapsed": true
   },
   "outputs": [],
   "source": [
    "%matplotlib inline\n",
    "import biff\n",
    "import numpy as np\n",
    "import matplotlib.pyplot as plt\n",
    "import matplotlib"
   ]
  },
  {
   "cell_type": "code",
   "execution_count": 2,
   "metadata": {},
   "outputs": [
    {
     "name": "stdout",
     "output_type": "stream",
     "text": [
      "Notebook initialized with x3d backend.\n"
     ]
    }
   ],
   "source": [
    "from mayavi import mlab\n",
    "mlab.init_notebook()"
   ]
  },
  {
   "cell_type": "code",
   "execution_count": 3,
   "metadata": {},
   "outputs": [],
   "source": [
    "font = {'size':18, 'family':'serif'}\n",
    "matplotlib.rc('font', **font)\n"
   ]
  },
  {
   "cell_type": "code",
   "execution_count": 4,
   "metadata": {
    "collapsed": true
   },
   "outputs": [],
   "source": [
    "r_s_sims = 40.85"
   ]
  },
  {
   "cell_type": "code",
   "execution_count": 4,
   "metadata": {
    "collapsed": true
   },
   "outputs": [],
   "source": [
    "coeff_c = np.loadtxt('../../SCF_tools/PCA/MWLMC5_coeff_20_20_100M_b1.txt')\n",
    "S = coeff_c[:,0]\n",
    "T = coeff_c[:,1]\n",
    "\n",
    "S_matrix = np.zeros((21, 21, 21))\n",
    "T_matrix = np.zeros((21, 21, 21))\n",
    "\n",
    "\n",
    "counter = 0\n",
    "for n in range(21):\n",
    "    for l in range(21):\n",
    "        for m in range(0, l+1):\n",
    "            S_matrix[n][l][m] = S[counter]\n",
    "            T_matrix[n][l][m] = T[counter]\n",
    "            counter +=1"
   ]
  },
  {
   "cell_type": "code",
   "execution_count": 6,
   "metadata": {},
   "outputs": [],
   "source": [
    "x_grid = np.arange(-300, 300, 10)\n",
    "y_grid = np.arange(-300, 300, 10)\n",
    "z_grid = np.arange(-300, 300, 10)\n",
    "x_grid, y_grid, z_grid = np.meshgrid(x_grid, y_grid, z_grid)\n",
    "\n"
   ]
  },
  {
   "cell_type": "code",
   "execution_count": 7,
   "metadata": {},
   "outputs": [],
   "source": [
    "rho_mwlmc = biff.density(np.ascontiguousarray(np.double(np.array([x_grid.flatten(), \n",
    "                                                        y_grid.flatten(),\n",
    "                                                        z_grid.flatten()]).T)), \n",
    "                           S_matrix, \n",
    "                           T_matrix,\n",
    "                           M=1, r_s=r_s_sims)"
   ]
  },
  {
   "cell_type": "code",
   "execution_count": 8,
   "metadata": {},
   "outputs": [],
   "source": [
    "S_mwlmc_000 = np.zeros(np.shape(S_matrix))\n",
    "S_mwlmc_000[0,0,0] = S_matrix[0,0,0]\n",
    "T_mwlmc_000 = np.zeros(np.shape(T_matrix))\n",
    "T_mwlmc_000[0,0,0] = T_matrix[0,0,0]\n"
   ]
  },
  {
   "cell_type": "code",
   "execution_count": 9,
   "metadata": {},
   "outputs": [],
   "source": [
    "rho_mwlmc_base = biff.density(np.ascontiguousarray(np.double(np.array([x_grid.flatten(), y_grid.flatten(), \n",
    "                                                                         z_grid.flatten()]).T)), \n",
    "                           S_mwlmc_000, \n",
    "                           T_mwlmc_000,\n",
    "                           M=1, r_s=r_s_sims)"
   ]
  },
  {
   "cell_type": "code",
   "execution_count": 10,
   "metadata": {},
   "outputs": [],
   "source": [
    "rho_matrix = np.reshape(rho_mwlmc, (60, 60, 60))\n",
    "rho_base = np.reshape(rho_mwlmc_base, (60, 60, 60))"
   ]
  },
  {
   "cell_type": "code",
   "execution_count": null,
   "metadata": {},
   "outputs": [],
   "source": []
  },
  {
   "cell_type": "code",
   "execution_count": null,
   "metadata": {},
   "outputs": [],
   "source": [
    "mlab.figure(bgcolor=(0.0, 0.0, 0.0), size=(1000, 1000))\n",
    "\n",
    "tt = mlab.contour3d((rho_matrix/rho_base)-1,contours=12,\n",
    "               opacity=.3, vmin=-0.4, vmax=0.4, extent=[-300, 300, -300, 300, -300, 300],\n",
    "                   transparent=True, colormap='viridis')\n",
    "\n",
    "mlab.plot3d(y_sat[:111]-y_gal[:111]+2.5, x_sat[:111]-x_gal[:111]+2.5, z_sat[:111]-z_gal[:111]+2.5, \n",
    "            np.ones(len(x_sat[:111])), color=(1,0,0), line_width=100, tube_radius=1, opacity=1)\n",
    "\n",
    "mlab.points3d(y_sat[111]-y_gal[111] +2.5, x_sat[111]-x_gal[111]+2.5, z_sat[111]-z_gal[111]+2.5,\n",
    "             50, color=(1,0,0), scale_factor=0.25, opacity=0.6)\n",
    "\n",
    "\n",
    "\n",
    "mlab.points3d(2.5, 2.5, 2.5,\n",
    "             100,  mode='2dcircle', color=(1,0,0), scale_factor=0.25, opacity=1,\n",
    "             resolution=20, line_width=40)\n",
    "\n",
    "#colorbar = mlab.colorbar(orientation='horizontal', nb_labels=0)\n",
    "#colorbar.scalar_bar_representation.position = [0.1, 0.0]\n",
    "#for i in range(360):\n",
    "#xx = yy = zz = np.arange(-200, 200,1)\n",
    "#xy = xz = yx = yz = zx = zy = np.zeros_like(xx)    \n",
    "#mlab.plot3d(yx,yy+0.5,yz,line_width=30,tube_radius=1)\n",
    "#mlab.plot3d(zx,zy+0.5,zz,line_width=30,tube_radius=1)\n",
    "#mlab.plot3d(xx,xy+0.5-100,xz-180,line_width=30,tube_radius=0.5, color=(1,1,1))\n",
    "\n",
    "for i in range(3, 10):\n",
    "    #i=250\n",
    "    mlab.view(azimuth=i, elevation=90, distance=1100)\n",
    "    mlab.savefig('wake_mwlmc_3d_contours_az_{:>03d}_advertisement.png'.format(i))\n",
    "    mlab.close()"
   ]
  },
  {
   "cell_type": "code",
   "execution_count": 78,
   "metadata": {},
   "outputs": [
    {
     "name": "stderr",
     "output_type": "stream",
     "text": [
      "/home/xzk/.local/lib/python3.5/site-packages/ipykernel_launcher.py:3: RuntimeWarning: invalid value encountered in log10\n",
      "  This is separate from the ipykernel package so we can avoid doing imports until\n"
     ]
    }
   ],
   "source": [
    "mlab.figure(bgcolor=(0.0, 0.0, 0.0), size=(1000, 1000))\n",
    "\n",
    "tt = mlab.contour3d(np.log10(rho_matrix),contours=15,\n",
    "               opacity=.3, extent=[-300, 300, -300, 300, -300, 300],\n",
    "                   vmin=-2, vmax=1.2, transparent=True, colormap='viridis')\n",
    "\n",
    "mlab.plot3d(y_sat[:111]-y_gal[:111]+2.5, x_sat[:111]-x_gal[:111]+2.5, z_sat[:111]-z_gal[:111]+2.5, \n",
    "            np.ones(len(x_sat[:111])), color=(1,0,0), line_width=100, tube_radius=1)\n",
    "\n",
    "mlab.points3d(y_sat[111]-y_gal[111] +2.5, x_sat[111]-x_gal[111]+2.5, z_sat[111]-z_gal[111]+2.5,\n",
    "             50, color=(1,0,0), scale_factor=0.25, opacity=0.6)\n",
    "\n",
    "\n",
    "\n",
    "mlab.points3d(2.5, 2.5, 2.5,\n",
    "             100,  mode='2dcircle', color=(1,0,0), scale_factor=0.25, opacity=1,\n",
    "             resolution=20, line_width=10)\n",
    "\n",
    "#colorbar = mlab.colorbar(orientation='horizontal', nb_labels=5)\n",
    "#colorbar.scalar_bar_representation.position = [0.1, 0.0]\n",
    "#for i in range(360):\n",
    "#xx = yy = zz = np.arange(-200, 200,1)\n",
    "#xy = xz = yx = yz = zx = zy = np.zeros_like(xx)    \n",
    "#mlab.plot3d(yx,yy+0.5,yz,line_width=30,tube_radius=1)\n",
    "#mlab.plot3d(zx,zy+0.5,zz,line_width=30,tube_radius=1)\n",
    "#mlab.plot3d(xx,xy+0.5-100,xz-180,line_width=30,tube_radius=0.5, color=(1,1,1))\n",
    "\n",
    "i=270\n",
    "\n",
    "\n",
    "\n",
    "mlab.view(azimuth=i, elevation=90, distance=1100)\n",
    "mlab.savefig('dens_mwlmc_3d_contours_az_{:>03d}_advertisement.png'.format(i))\n",
    "mlab.close()"
   ]
  },
  {
   "cell_type": "code",
   "execution_count": null,
   "metadata": {
    "collapsed": true
   },
   "outputs": [],
   "source": [
    "#flow(u, v, w, ...)"
   ]
  },
  {
   "cell_type": "code",
   "execution_count": 11,
   "metadata": {},
   "outputs": [],
   "source": [
    "#Function that reads the N-body simulation orbit\n",
    "def reading_Nbody(snap_name):\n",
    "    data = np.loadtxt(snap_name)\n",
    "    #time = data[:,0]\n",
    "    #Rgal = data[:,1]\n",
    "    x_sat= data[:,6]\n",
    "    y_sat = data[:,7]\n",
    "    z_sat = data[:,8]\n",
    "    x_gal = data[:,0]\n",
    "    y_gal = data[:,1]\n",
    "    z_gal = data[:,2]\n",
    "    #Vgal = data[:,8]\n",
    "    vx_sat = data[:,9]\n",
    "    vy_sat = data[:,10]\n",
    "    vz_sat = data[:,11]\n",
    "    vx_gal = data[:,3]\n",
    "    vy_gal = data[:,4]\n",
    "    vz_gal = data[:,5]\n",
    "    Rgal= np.sqrt((x_sat-x_gal)**2 + (y_sat-y_gal)**2 + (z_sat-z_gal)**2)\n",
    "    Vgal= np.sqrt((vx_sat-vx_gal)**2 + (vy_sat-vy_gal)**2 + (vz_sat-vz_gal)**2)\n",
    "\n",
    "    return Rgal, x_sat, y_sat, z_sat, x_gal, y_gal, z_gal, Vgal, vx_sat, vy_sat, vz_sat, vx_gal, vy_gal, vz_gal\n"
   ]
  },
  {
   "cell_type": "code",
   "execution_count": 12,
   "metadata": {},
   "outputs": [],
   "source": [
    "LMC5_b1 = '../../MW_anisotropy/data/orbits/LMC5_100Mb1_orbit.txt'\n",
    "LMC5_b1_orbit = reading_Nbody(LMC5_b1)\n",
    "\n",
    "x_sat = LMC5_b1_orbit[1]\n",
    "y_sat = LMC5_b1_orbit[2]\n",
    "z_sat = LMC5_b1_orbit[3]\n",
    "x_gal = LMC5_b1_orbit[4]\n",
    "y_gal = LMC5_b1_orbit[5]\n",
    "z_gal = LMC5_b1_orbit[6]\n",
    "\n"
   ]
  },
  {
   "cell_type": "code",
   "execution_count": null,
   "metadata": {},
   "outputs": [],
   "source": [
    "##  add a bar with the scale in kpc\n",
    "## Add a colorbar? \n",
    "\n"
   ]
  },
  {
   "cell_type": "code",
   "execution_count": 13,
   "metadata": {},
   "outputs": [
    {
     "data": {
      "text/plain": [
       "\u001b[0;31mSignature:\u001b[0m \u001b[0mmlab\u001b[0m\u001b[0;34m.\u001b[0m\u001b[0msavefig\u001b[0m\u001b[0;34m(\u001b[0m\u001b[0mfilename\u001b[0m\u001b[0;34m,\u001b[0m \u001b[0msize\u001b[0m\u001b[0;34m=\u001b[0m\u001b[0;32mNone\u001b[0m\u001b[0;34m,\u001b[0m \u001b[0mfigure\u001b[0m\u001b[0;34m=\u001b[0m\u001b[0;32mNone\u001b[0m\u001b[0;34m,\u001b[0m \u001b[0mmagnification\u001b[0m\u001b[0;34m=\u001b[0m\u001b[0;34m'auto'\u001b[0m\u001b[0;34m,\u001b[0m \u001b[0;34m**\u001b[0m\u001b[0mkwargs\u001b[0m\u001b[0;34m)\u001b[0m\u001b[0;34m\u001b[0m\u001b[0m\n",
       "\u001b[0;31mDocstring:\u001b[0m\n",
       "Save the current scene.\n",
       "The output format are deduced by the extension to filename.\n",
       "Possibilities are png, jpg, bmp, tiff, ps, eps, pdf, rib (renderman),\n",
       "oogl (geomview), iv (OpenInventor), vrml, obj (wavefront)\n",
       "\n",
       "**Parameters**\n",
       "\n",
       ":size: the size of the image created (unless magnification is\n",
       "       set, in which case it is the size of the window used\n",
       "       for rendering).\n",
       "\n",
       ":figure: the figure instance to save to a file.\n",
       "\n",
       ":magnification: the magnification is the scaling between the\n",
       "                pixels on the screen, and the pixels in the\n",
       "                file saved. If you do not specify it, it will be\n",
       "                calculated so that the file is saved with the\n",
       "                specified size. If you specify a magnification,\n",
       "                Mayavi will use the given size as a screen size,\n",
       "                and the file size will be 'magnification * size'.\n",
       "\n",
       "**Notes**\n",
       "\n",
       "If the size specified is larger than the window size, and no\n",
       "magnification parameter is passed, the magnification of the scene\n",
       "is changed so that the image created has the requested size.\n",
       "Please note that if you are trying to save images with sizes\n",
       "larger than the window size, there will be additional computation\n",
       "cost.\n",
       "\n",
       "Any extra keyword arguments are passed along to the respective\n",
       "image format's save method.\n",
       "\u001b[0;31mFile:\u001b[0m      /usr/local/lib/python3.5/dist-packages/mayavi/tools/figure.py\n",
       "\u001b[0;31mType:\u001b[0m      function\n"
      ]
     },
     "metadata": {},
     "output_type": "display_data"
    }
   ],
   "source": [
    "mlab.savefig"
   ]
  },
  {
   "cell_type": "code",
   "execution_count": null,
   "metadata": {},
   "outputs": [],
   "source": []
  }
 ],
 "metadata": {
  "kernelspec": {
   "display_name": "Python 3",
   "language": "python",
   "name": "python3"
  },
  "language_info": {
   "codemirror_mode": {
    "name": "ipython",
    "version": 3
   },
   "file_extension": ".py",
   "mimetype": "text/x-python",
   "name": "python",
   "nbconvert_exporter": "python",
   "pygments_lexer": "ipython3",
   "version": "3.5.2"
  }
 },
 "nbformat": 4,
 "nbformat_minor": 2
}
