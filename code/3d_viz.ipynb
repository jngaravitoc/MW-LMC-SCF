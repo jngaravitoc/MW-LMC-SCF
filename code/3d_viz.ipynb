{
 "cells": [
  {
   "cell_type": "markdown",
   "metadata": {},
   "source": [
    "# to -do :\n",
    "\n",
    "1. Add one contour for the LMC using the BFE for the LMC.\n",
    "2. Complement the movie making it as a function of time. "
   ]
  },
  {
   "cell_type": "code",
   "execution_count": 2,
   "metadata": {
    "collapsed": true
   },
   "outputs": [],
   "source": [
    "import biff\n",
    "import numpy as np"
   ]
  },
  {
   "cell_type": "code",
   "execution_count": 3,
   "metadata": {},
   "outputs": [
    {
     "name": "stdout",
     "output_type": "stream",
     "text": [
      "Notebook initialized with x3d backend.\n"
     ]
    }
   ],
   "source": [
    "from mayavi import mlab\n",
    "mlab.init_notebook()"
   ]
  },
  {
   "cell_type": "code",
   "execution_count": 4,
   "metadata": {
    "collapsed": true
   },
   "outputs": [],
   "source": [
    "r_s_sims = 40.85"
   ]
  },
  {
   "cell_type": "code",
   "execution_count": 5,
   "metadata": {
    "collapsed": true
   },
   "outputs": [],
   "source": [
    "coeff_c = np.loadtxt('../../SCF_tools/PCA/MWLMC5_coeff_20_20_100M_b1.txt')\n",
    "S = coeff_c[:,0]\n",
    "T = coeff_c[:,1]\n",
    "\n",
    "S_matrix = np.zeros((21, 21, 21))\n",
    "T_matrix = np.zeros((21, 21, 21))\n",
    "\n",
    "\n",
    "counter = 0\n",
    "for n in range(21):\n",
    "    for l in range(21):\n",
    "        for m in range(0, l+1):\n",
    "            S_matrix[n][l][m] = S[counter]\n",
    "            T_matrix[n][l][m] = T[counter]\n",
    "            counter +=1"
   ]
  },
  {
   "cell_type": "code",
   "execution_count": 6,
   "metadata": {},
   "outputs": [],
   "source": [
    "x_grid = np.arange(-200, 200, 5)\n",
    "y_grid = np.arange(-200, 200, 5)\n",
    "z_grid = np.arange(-200, 200, 5)\n",
    "x_grid, y_grid, z_grid = np.meshgrid(x_grid, y_grid, z_grid)\n",
    "\n"
   ]
  },
  {
   "cell_type": "code",
   "execution_count": 7,
   "metadata": {},
   "outputs": [],
   "source": [
    "rho_mwlmc = biff.density(np.ascontiguousarray(np.double(np.array([x_grid.flatten(), \n",
    "                                                        y_grid.flatten(),\n",
    "                                                        z_grid.flatten()]).T)), \n",
    "                           S_matrix, \n",
    "                           T_matrix,\n",
    "                           M=1, r_s=r_s_sims)"
   ]
  },
  {
   "cell_type": "code",
   "execution_count": 8,
   "metadata": {},
   "outputs": [],
   "source": [
    "S_mwlmc_000 = np.zeros(np.shape(S_matrix))\n",
    "S_mwlmc_000[0,0,0] = S_matrix[0,0,0]\n",
    "T_mwlmc_000 = np.zeros(np.shape(T_matrix))\n",
    "T_mwlmc_000[0,0,0] = T_matrix[0,0,0]\n"
   ]
  },
  {
   "cell_type": "code",
   "execution_count": 9,
   "metadata": {},
   "outputs": [],
   "source": [
    "rho_mwlmc_base = biff.density(np.ascontiguousarray(np.double(np.array([x_grid.flatten(), y_grid.flatten(), \n",
    "                                                                         z_grid.flatten()]).T)), \n",
    "                           S_mwlmc_000, \n",
    "                           T_mwlmc_000,\n",
    "                           M=1, r_s=r_s_sims)"
   ]
  },
  {
   "cell_type": "code",
   "execution_count": 11,
   "metadata": {},
   "outputs": [],
   "source": [
    "rho_matrix = np.reshape(rho_mwlmc, (80, 80, 80))\n",
    "rho_base = np.reshape(rho_mwlmc_base, (80, 80, 80))"
   ]
  },
  {
   "cell_type": "code",
   "execution_count": 55,
   "metadata": {},
   "outputs": [],
   "source": [
    "mlab.figure(bgcolor=(0.0, 0.0, 0.0), size=(3000, 3000))\n",
    "mlab.contour3d((rho_matrix/rho_base)-1,contours=12,\n",
    "               opacity=.2, vmin=-0.0, vmax=0.4)\n",
    "for i in range(360):\n",
    "    mlab.view(azimuth=i, elevation=90, distance=180.)\n",
    "    mlab.savefig('wake_mwlmc_3d_contours_az_{:>03d}.png'.format(i))"
   ]
  },
  {
   "cell_type": "code",
   "execution_count": 44,
   "metadata": {
    "collapsed": true
   },
   "outputs": [],
   "source": [
    "mlab.title?"
   ]
  },
  {
   "cell_type": "code",
   "execution_count": 77,
   "metadata": {},
   "outputs": [],
   "source": [
    "mlab.figure(bgcolor=(0.0, 0.0, 0.0))\n",
    "pts = mlab.points3d(0, 0, 0, 20, mode='sphere')\n",
    "mlab.savefig('3d_point.png')"
   ]
  },
  {
   "cell_type": "code",
   "execution_count": null,
   "metadata": {
    "collapsed": true
   },
   "outputs": [],
   "source": []
  }
 ],
 "metadata": {
  "kernelspec": {
   "display_name": "Python 3",
   "language": "python",
   "name": "python3"
  },
  "language_info": {
   "codemirror_mode": {
    "name": "ipython",
    "version": 3
   },
   "file_extension": ".py",
   "mimetype": "text/x-python",
   "name": "python",
   "nbconvert_exporter": "python",
   "pygments_lexer": "ipython3",
   "version": "3.5.2"
  }
 },
 "nbformat": 4,
 "nbformat_minor": 2
}
